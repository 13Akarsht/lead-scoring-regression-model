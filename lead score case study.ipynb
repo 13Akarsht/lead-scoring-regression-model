{
 "cells": [
  {
   "cell_type": "markdown",
   "metadata": {},
   "source": [
    "# Lead scoring case Study"
   ]
  },
  {
   "cell_type": "markdown",
   "metadata": {},
   "source": [
    "An education company named X Education sells online courses to industry professionals. On any given day, many professionals who are interested in the courses land on their website and browse for courses. \n",
    "\n",
    "\n",
    "The company markets its courses on several websites and search engines like Google. Once these people land on the website, they might browse the courses or fill up a form for the course or watch some videos. When these people fill up a form providing their email address or phone number, they are classified to be a lead. Moreover, the company also gets leads through past referrals. Once these leads are acquired, employees from the sales team start making calls, writing emails, etc. Through this process, some of the leads get converted while most do not. The typical lead conversion rate at X education is around 30%.\n",
    "\n",
    "Now, although X Education gets a lot of leads, its lead conversion rate is very poor. For example, if, say, they acquire 100 leads in a day, only about 30 of them are converted. To make this process more efficient, the company wishes to identify the most potential leads, also known as ‘Hot Leads’. If they successfully identify this set of leads, the lead conversion rate should go up as the sales team will now be focusing more on communicating with the potential leads rather than making calls to everyone.\n"
   ]
  },
  {
   "cell_type": "markdown",
   "metadata": {},
   "source": [
    "As we can see, there are a lot of leads generated in the initial stage (top) but only a few of them come out as paying customers from the bottom. In the middle stage, you need to nurture the potential leads well (i.e. educating the leads about the product, constantly communicating etc. ) in order to get a higher lead conversion.\n",
    "\n",
    "Our target is to analysis and make a logistic regression model to predict who will be converted at the end using previous data."
   ]
  },
  {
   "cell_type": "markdown",
   "metadata": {},
   "source": [
    "#### Steps for logistic regression model"
   ]
  },
  {
   "cell_type": "markdown",
   "metadata": {},
   "source": [
    "- Collecting and reading data.\n",
    "\n",
    "- Data treatment.\n",
    "\n",
    ">dealing with missing values. \n",
    "\n",
    "- univariate and multivariate analysis.\n",
    "\n",
    "- Data preperation.\n",
    "\n",
    "- Model Building.\n",
    "\n",
    "> featuring using RFE\n",
    "\n",
    "> checking the metrices.\n",
    "\n",
    "> plotting the ROC curve\n",
    "\n",
    "> Finding the optimal value\n",
    "\n",
    "> Precision and Recall"
   ]
  },
  {
   "cell_type": "code",
   "execution_count": 850,
   "metadata": {},
   "outputs": [],
   "source": [
    "# importing the libraries\n",
    "import warnings\n",
    "warnings.filterwarnings('ignore')\n",
    "import numpy as np\n",
    "import pandas as pd\n",
    "import matplotlib.pyplot as plt \n",
    "import seaborn as sns\n",
    "from sklearn.model_selection import train_test_split\n",
    "from sklearn.preprocessing import StandardScaler\n",
    "import statsmodels.api as sm\n",
    "from sklearn.linear_model import LogisticRegression\n",
    "from sklearn.feature_selection import RFE"
   ]
  },
  {
   "cell_type": "code",
   "execution_count": 851,
   "metadata": {},
   "outputs": [
    {
     "data": {
      "text/html": [
       "<div>\n",
       "<style scoped>\n",
       "    .dataframe tbody tr th:only-of-type {\n",
       "        vertical-align: middle;\n",
       "    }\n",
       "\n",
       "    .dataframe tbody tr th {\n",
       "        vertical-align: top;\n",
       "    }\n",
       "\n",
       "    .dataframe thead th {\n",
       "        text-align: right;\n",
       "    }\n",
       "</style>\n",
       "<table border=\"1\" class=\"dataframe\">\n",
       "  <thead>\n",
       "    <tr style=\"text-align: right;\">\n",
       "      <th></th>\n",
       "      <th>Prospect ID</th>\n",
       "      <th>Lead Number</th>\n",
       "      <th>Lead Origin</th>\n",
       "      <th>Lead Source</th>\n",
       "      <th>Do Not Email</th>\n",
       "      <th>Do Not Call</th>\n",
       "      <th>Converted</th>\n",
       "      <th>TotalVisits</th>\n",
       "      <th>Total Time Spent on Website</th>\n",
       "      <th>Page Views Per Visit</th>\n",
       "      <th>...</th>\n",
       "      <th>Get updates on DM Content</th>\n",
       "      <th>Lead Profile</th>\n",
       "      <th>City</th>\n",
       "      <th>Asymmetrique Activity Index</th>\n",
       "      <th>Asymmetrique Profile Index</th>\n",
       "      <th>Asymmetrique Activity Score</th>\n",
       "      <th>Asymmetrique Profile Score</th>\n",
       "      <th>I agree to pay the amount through cheque</th>\n",
       "      <th>A free copy of Mastering The Interview</th>\n",
       "      <th>Last Notable Activity</th>\n",
       "    </tr>\n",
       "  </thead>\n",
       "  <tbody>\n",
       "    <tr>\n",
       "      <th>0</th>\n",
       "      <td>7927b2df-8bba-4d29-b9a2-b6e0beafe620</td>\n",
       "      <td>660737</td>\n",
       "      <td>API</td>\n",
       "      <td>Olark Chat</td>\n",
       "      <td>No</td>\n",
       "      <td>No</td>\n",
       "      <td>0</td>\n",
       "      <td>0.0</td>\n",
       "      <td>0</td>\n",
       "      <td>0.0</td>\n",
       "      <td>...</td>\n",
       "      <td>No</td>\n",
       "      <td>Select</td>\n",
       "      <td>Select</td>\n",
       "      <td>02.Medium</td>\n",
       "      <td>02.Medium</td>\n",
       "      <td>15.0</td>\n",
       "      <td>15.0</td>\n",
       "      <td>No</td>\n",
       "      <td>No</td>\n",
       "      <td>Modified</td>\n",
       "    </tr>\n",
       "    <tr>\n",
       "      <th>1</th>\n",
       "      <td>2a272436-5132-4136-86fa-dcc88c88f482</td>\n",
       "      <td>660728</td>\n",
       "      <td>API</td>\n",
       "      <td>Organic Search</td>\n",
       "      <td>No</td>\n",
       "      <td>No</td>\n",
       "      <td>0</td>\n",
       "      <td>5.0</td>\n",
       "      <td>674</td>\n",
       "      <td>2.5</td>\n",
       "      <td>...</td>\n",
       "      <td>No</td>\n",
       "      <td>Select</td>\n",
       "      <td>Select</td>\n",
       "      <td>02.Medium</td>\n",
       "      <td>02.Medium</td>\n",
       "      <td>15.0</td>\n",
       "      <td>15.0</td>\n",
       "      <td>No</td>\n",
       "      <td>No</td>\n",
       "      <td>Email Opened</td>\n",
       "    </tr>\n",
       "    <tr>\n",
       "      <th>2</th>\n",
       "      <td>8cc8c611-a219-4f35-ad23-fdfd2656bd8a</td>\n",
       "      <td>660727</td>\n",
       "      <td>Landing Page Submission</td>\n",
       "      <td>Direct Traffic</td>\n",
       "      <td>No</td>\n",
       "      <td>No</td>\n",
       "      <td>1</td>\n",
       "      <td>2.0</td>\n",
       "      <td>1532</td>\n",
       "      <td>2.0</td>\n",
       "      <td>...</td>\n",
       "      <td>No</td>\n",
       "      <td>Potential Lead</td>\n",
       "      <td>Mumbai</td>\n",
       "      <td>02.Medium</td>\n",
       "      <td>01.High</td>\n",
       "      <td>14.0</td>\n",
       "      <td>20.0</td>\n",
       "      <td>No</td>\n",
       "      <td>Yes</td>\n",
       "      <td>Email Opened</td>\n",
       "    </tr>\n",
       "    <tr>\n",
       "      <th>3</th>\n",
       "      <td>0cc2df48-7cf4-4e39-9de9-19797f9b38cc</td>\n",
       "      <td>660719</td>\n",
       "      <td>Landing Page Submission</td>\n",
       "      <td>Direct Traffic</td>\n",
       "      <td>No</td>\n",
       "      <td>No</td>\n",
       "      <td>0</td>\n",
       "      <td>1.0</td>\n",
       "      <td>305</td>\n",
       "      <td>1.0</td>\n",
       "      <td>...</td>\n",
       "      <td>No</td>\n",
       "      <td>Select</td>\n",
       "      <td>Mumbai</td>\n",
       "      <td>02.Medium</td>\n",
       "      <td>01.High</td>\n",
       "      <td>13.0</td>\n",
       "      <td>17.0</td>\n",
       "      <td>No</td>\n",
       "      <td>No</td>\n",
       "      <td>Modified</td>\n",
       "    </tr>\n",
       "    <tr>\n",
       "      <th>4</th>\n",
       "      <td>3256f628-e534-4826-9d63-4a8b88782852</td>\n",
       "      <td>660681</td>\n",
       "      <td>Landing Page Submission</td>\n",
       "      <td>Google</td>\n",
       "      <td>No</td>\n",
       "      <td>No</td>\n",
       "      <td>1</td>\n",
       "      <td>2.0</td>\n",
       "      <td>1428</td>\n",
       "      <td>1.0</td>\n",
       "      <td>...</td>\n",
       "      <td>No</td>\n",
       "      <td>Select</td>\n",
       "      <td>Mumbai</td>\n",
       "      <td>02.Medium</td>\n",
       "      <td>01.High</td>\n",
       "      <td>15.0</td>\n",
       "      <td>18.0</td>\n",
       "      <td>No</td>\n",
       "      <td>No</td>\n",
       "      <td>Modified</td>\n",
       "    </tr>\n",
       "  </tbody>\n",
       "</table>\n",
       "<p>5 rows × 37 columns</p>\n",
       "</div>"
      ],
      "text/plain": [
       "                            Prospect ID  Lead Number              Lead Origin  \\\n",
       "0  7927b2df-8bba-4d29-b9a2-b6e0beafe620       660737                      API   \n",
       "1  2a272436-5132-4136-86fa-dcc88c88f482       660728                      API   \n",
       "2  8cc8c611-a219-4f35-ad23-fdfd2656bd8a       660727  Landing Page Submission   \n",
       "3  0cc2df48-7cf4-4e39-9de9-19797f9b38cc       660719  Landing Page Submission   \n",
       "4  3256f628-e534-4826-9d63-4a8b88782852       660681  Landing Page Submission   \n",
       "\n",
       "      Lead Source Do Not Email Do Not Call  Converted  TotalVisits  \\\n",
       "0      Olark Chat           No          No          0          0.0   \n",
       "1  Organic Search           No          No          0          5.0   \n",
       "2  Direct Traffic           No          No          1          2.0   \n",
       "3  Direct Traffic           No          No          0          1.0   \n",
       "4          Google           No          No          1          2.0   \n",
       "\n",
       "   Total Time Spent on Website  Page Views Per Visit  ...  \\\n",
       "0                            0                   0.0  ...   \n",
       "1                          674                   2.5  ...   \n",
       "2                         1532                   2.0  ...   \n",
       "3                          305                   1.0  ...   \n",
       "4                         1428                   1.0  ...   \n",
       "\n",
       "  Get updates on DM Content    Lead Profile    City  \\\n",
       "0                        No          Select  Select   \n",
       "1                        No          Select  Select   \n",
       "2                        No  Potential Lead  Mumbai   \n",
       "3                        No          Select  Mumbai   \n",
       "4                        No          Select  Mumbai   \n",
       "\n",
       "  Asymmetrique Activity Index Asymmetrique Profile Index  \\\n",
       "0                   02.Medium                  02.Medium   \n",
       "1                   02.Medium                  02.Medium   \n",
       "2                   02.Medium                    01.High   \n",
       "3                   02.Medium                    01.High   \n",
       "4                   02.Medium                    01.High   \n",
       "\n",
       "  Asymmetrique Activity Score Asymmetrique Profile Score  \\\n",
       "0                        15.0                       15.0   \n",
       "1                        15.0                       15.0   \n",
       "2                        14.0                       20.0   \n",
       "3                        13.0                       17.0   \n",
       "4                        15.0                       18.0   \n",
       "\n",
       "  I agree to pay the amount through cheque  \\\n",
       "0                                       No   \n",
       "1                                       No   \n",
       "2                                       No   \n",
       "3                                       No   \n",
       "4                                       No   \n",
       "\n",
       "  A free copy of Mastering The Interview Last Notable Activity  \n",
       "0                                     No              Modified  \n",
       "1                                     No          Email Opened  \n",
       "2                                    Yes          Email Opened  \n",
       "3                                     No              Modified  \n",
       "4                                     No              Modified  \n",
       "\n",
       "[5 rows x 37 columns]"
      ]
     },
     "execution_count": 851,
     "metadata": {},
     "output_type": "execute_result"
    }
   ],
   "source": [
    "# reading the given data\n",
    "df= pd.read_csv('C:\\\\Users\\\\pawan\\\\Desktop\\\\lead scoring case study\\\\Lead+Scoring+Case+Study\\\\Lead Scoring Assignment\\\\leads.csv')\n",
    "df.head()"
   ]
  },
  {
   "cell_type": "code",
   "execution_count": 852,
   "metadata": {},
   "outputs": [
    {
     "data": {
      "text/plain": [
       "(9240, 37)"
      ]
     },
     "execution_count": 852,
     "metadata": {},
     "output_type": "execute_result"
    }
   ],
   "source": [
    "# getting the adequate information on the data like shape and info.\n",
    "df.shape"
   ]
  },
  {
   "cell_type": "code",
   "execution_count": 853,
   "metadata": {},
   "outputs": [
    {
     "name": "stdout",
     "output_type": "stream",
     "text": [
      "<class 'pandas.core.frame.DataFrame'>\n",
      "RangeIndex: 9240 entries, 0 to 9239\n",
      "Data columns (total 37 columns):\n",
      " #   Column                                         Non-Null Count  Dtype  \n",
      "---  ------                                         --------------  -----  \n",
      " 0   Prospect ID                                    9240 non-null   object \n",
      " 1   Lead Number                                    9240 non-null   int64  \n",
      " 2   Lead Origin                                    9240 non-null   object \n",
      " 3   Lead Source                                    9204 non-null   object \n",
      " 4   Do Not Email                                   9240 non-null   object \n",
      " 5   Do Not Call                                    9240 non-null   object \n",
      " 6   Converted                                      9240 non-null   int64  \n",
      " 7   TotalVisits                                    9103 non-null   float64\n",
      " 8   Total Time Spent on Website                    9240 non-null   int64  \n",
      " 9   Page Views Per Visit                           9103 non-null   float64\n",
      " 10  Last Activity                                  9137 non-null   object \n",
      " 11  Country                                        6779 non-null   object \n",
      " 12  Specialization                                 7802 non-null   object \n",
      " 13  How did you hear about X Education             7033 non-null   object \n",
      " 14  What is your current occupation                6550 non-null   object \n",
      " 15  What matters most to you in choosing a course  6531 non-null   object \n",
      " 16  Search                                         9240 non-null   object \n",
      " 17  Magazine                                       9240 non-null   object \n",
      " 18  Newspaper Article                              9240 non-null   object \n",
      " 19  X Education Forums                             9240 non-null   object \n",
      " 20  Newspaper                                      9240 non-null   object \n",
      " 21  Digital Advertisement                          9240 non-null   object \n",
      " 22  Through Recommendations                        9240 non-null   object \n",
      " 23  Receive More Updates About Our Courses         9240 non-null   object \n",
      " 24  Tags                                           5887 non-null   object \n",
      " 25  Lead Quality                                   4473 non-null   object \n",
      " 26  Update me on Supply Chain Content              9240 non-null   object \n",
      " 27  Get updates on DM Content                      9240 non-null   object \n",
      " 28  Lead Profile                                   6531 non-null   object \n",
      " 29  City                                           7820 non-null   object \n",
      " 30  Asymmetrique Activity Index                    5022 non-null   object \n",
      " 31  Asymmetrique Profile Index                     5022 non-null   object \n",
      " 32  Asymmetrique Activity Score                    5022 non-null   float64\n",
      " 33  Asymmetrique Profile Score                     5022 non-null   float64\n",
      " 34  I agree to pay the amount through cheque       9240 non-null   object \n",
      " 35  A free copy of Mastering The Interview         9240 non-null   object \n",
      " 36  Last Notable Activity                          9240 non-null   object \n",
      "dtypes: float64(4), int64(3), object(30)\n",
      "memory usage: 2.6+ MB\n"
     ]
    }
   ],
   "source": [
    "df.info()"
   ]
  },
  {
   "cell_type": "markdown",
   "metadata": {},
   "source": [
    "As we can see there are missing values in the given data"
   ]
  },
  {
   "cell_type": "code",
   "execution_count": 854,
   "metadata": {},
   "outputs": [
    {
     "data": {
      "text/plain": [
       "Prospect ID                                         0\n",
       "Lead Number                                         0\n",
       "Lead Origin                                         0\n",
       "Lead Source                                        36\n",
       "Do Not Email                                        0\n",
       "Do Not Call                                         0\n",
       "Converted                                           0\n",
       "TotalVisits                                       137\n",
       "Total Time Spent on Website                         0\n",
       "Page Views Per Visit                              137\n",
       "Last Activity                                     103\n",
       "Country                                          2461\n",
       "Specialization                                   1438\n",
       "How did you hear about X Education               2207\n",
       "What is your current occupation                  2690\n",
       "What matters most to you in choosing a course    2709\n",
       "Search                                              0\n",
       "Magazine                                            0\n",
       "Newspaper Article                                   0\n",
       "X Education Forums                                  0\n",
       "Newspaper                                           0\n",
       "Digital Advertisement                               0\n",
       "Through Recommendations                             0\n",
       "Receive More Updates About Our Courses              0\n",
       "Tags                                             3353\n",
       "Lead Quality                                     4767\n",
       "Update me on Supply Chain Content                   0\n",
       "Get updates on DM Content                           0\n",
       "Lead Profile                                     2709\n",
       "City                                             1420\n",
       "Asymmetrique Activity Index                      4218\n",
       "Asymmetrique Profile Index                       4218\n",
       "Asymmetrique Activity Score                      4218\n",
       "Asymmetrique Profile Score                       4218\n",
       "I agree to pay the amount through cheque            0\n",
       "A free copy of Mastering The Interview              0\n",
       "Last Notable Activity                               0\n",
       "dtype: int64"
      ]
     },
     "execution_count": 854,
     "metadata": {},
     "output_type": "execute_result"
    }
   ],
   "source": [
    "df.isnull().sum()"
   ]
  },
  {
   "cell_type": "code",
   "execution_count": 855,
   "metadata": {},
   "outputs": [
    {
     "data": {
      "text/plain": [
       "Prospect ID                                       0.00\n",
       "Lead Number                                       0.00\n",
       "Lead Origin                                       0.00\n",
       "Lead Source                                       0.39\n",
       "Do Not Email                                      0.00\n",
       "Do Not Call                                       0.00\n",
       "Converted                                         0.00\n",
       "TotalVisits                                       1.48\n",
       "Total Time Spent on Website                       0.00\n",
       "Page Views Per Visit                              1.48\n",
       "Last Activity                                     1.11\n",
       "Country                                          26.63\n",
       "Specialization                                   15.56\n",
       "How did you hear about X Education               23.89\n",
       "What is your current occupation                  29.11\n",
       "What matters most to you in choosing a course    29.32\n",
       "Search                                            0.00\n",
       "Magazine                                          0.00\n",
       "Newspaper Article                                 0.00\n",
       "X Education Forums                                0.00\n",
       "Newspaper                                         0.00\n",
       "Digital Advertisement                             0.00\n",
       "Through Recommendations                           0.00\n",
       "Receive More Updates About Our Courses            0.00\n",
       "Tags                                             36.29\n",
       "Lead Quality                                     51.59\n",
       "Update me on Supply Chain Content                 0.00\n",
       "Get updates on DM Content                         0.00\n",
       "Lead Profile                                     29.32\n",
       "City                                             15.37\n",
       "Asymmetrique Activity Index                      45.65\n",
       "Asymmetrique Profile Index                       45.65\n",
       "Asymmetrique Activity Score                      45.65\n",
       "Asymmetrique Profile Score                       45.65\n",
       "I agree to pay the amount through cheque          0.00\n",
       "A free copy of Mastering The Interview            0.00\n",
       "Last Notable Activity                             0.00\n",
       "dtype: float64"
      ]
     },
     "execution_count": 855,
     "metadata": {},
     "output_type": "execute_result"
    }
   ],
   "source": [
    "# calculating the missing percentage values.\n",
    "round(((df.isnull().sum()/len(df))*100),2)"
   ]
  },
  {
   "cell_type": "markdown",
   "metadata": {},
   "source": [
    "##### We will be drooping the columns with high perceentage of missing values."
   ]
  },
  {
   "cell_type": "code",
   "execution_count": 856,
   "metadata": {},
   "outputs": [],
   "source": [
    "df=df.drop(['Lead Quality','Asymmetrique Activity Index','Asymmetrique Activity Score','Asymmetrique Profile Index','Asymmetrique Profile Score','Tags'],axis=1)"
   ]
  },
  {
   "cell_type": "code",
   "execution_count": 857,
   "metadata": {},
   "outputs": [
    {
     "data": {
      "text/plain": [
       "Prospect ID                                       0.0\n",
       "Lead Number                                       0.0\n",
       "Lead Origin                                       0.0\n",
       "Lead Source                                       0.0\n",
       "Do Not Email                                      0.0\n",
       "Do Not Call                                       0.0\n",
       "Converted                                         0.0\n",
       "TotalVisits                                       1.0\n",
       "Total Time Spent on Website                       0.0\n",
       "Page Views Per Visit                              1.0\n",
       "Last Activity                                     1.0\n",
       "Country                                          27.0\n",
       "Specialization                                   16.0\n",
       "How did you hear about X Education               24.0\n",
       "What is your current occupation                  29.0\n",
       "What matters most to you in choosing a course    29.0\n",
       "Search                                            0.0\n",
       "Magazine                                          0.0\n",
       "Newspaper Article                                 0.0\n",
       "X Education Forums                                0.0\n",
       "Newspaper                                         0.0\n",
       "Digital Advertisement                             0.0\n",
       "Through Recommendations                           0.0\n",
       "Receive More Updates About Our Courses            0.0\n",
       "Update me on Supply Chain Content                 0.0\n",
       "Get updates on DM Content                         0.0\n",
       "Lead Profile                                     29.0\n",
       "City                                             15.0\n",
       "I agree to pay the amount through cheque          0.0\n",
       "A free copy of Mastering The Interview            0.0\n",
       "Last Notable Activity                             0.0\n",
       "dtype: float64"
      ]
     },
     "execution_count": 857,
     "metadata": {},
     "output_type": "execute_result"
    }
   ],
   "source": [
    "round((df.isnull().sum()/len(df))*100)"
   ]
  },
  {
   "cell_type": "code",
   "execution_count": 858,
   "metadata": {},
   "outputs": [
    {
     "data": {
      "text/plain": [
       "Select                   5043\n",
       "Online Search             808\n",
       "Word Of Mouth             348\n",
       "Student of SomeSchool     310\n",
       "Other                     186\n",
       "Multiple Sources          152\n",
       "Advertisements             70\n",
       "Social Media               67\n",
       "Email                      26\n",
       "SMS                        23\n",
       "Name: How did you hear about X Education, dtype: int64"
      ]
     },
     "execution_count": 858,
     "metadata": {},
     "output_type": "execute_result"
    }
   ],
   "source": [
    "df['How did you hear about X Education'].value_counts()"
   ]
  },
  {
   "cell_type": "markdown",
   "metadata": {},
   "source": [
    "##### Some of our columns have value 'select' which is in need to deal with."
   ]
  },
  {
   "cell_type": "code",
   "execution_count": 859,
   "metadata": {},
   "outputs": [],
   "source": [
    "# filling all the select value with nan.\n",
    "df=df.replace(['Select','select'],np.nan)"
   ]
  },
  {
   "cell_type": "code",
   "execution_count": 860,
   "metadata": {},
   "outputs": [
    {
     "data": {
      "text/plain": [
       "Prospect ID                                       0.0\n",
       "Lead Number                                       0.0\n",
       "Lead Origin                                       0.0\n",
       "Lead Source                                       0.0\n",
       "Do Not Email                                      0.0\n",
       "Do Not Call                                       0.0\n",
       "Converted                                         0.0\n",
       "TotalVisits                                       1.0\n",
       "Total Time Spent on Website                       0.0\n",
       "Page Views Per Visit                              1.0\n",
       "Last Activity                                     1.0\n",
       "Country                                          27.0\n",
       "Specialization                                   37.0\n",
       "How did you hear about X Education               78.0\n",
       "What is your current occupation                  29.0\n",
       "What matters most to you in choosing a course    29.0\n",
       "Search                                            0.0\n",
       "Magazine                                          0.0\n",
       "Newspaper Article                                 0.0\n",
       "X Education Forums                                0.0\n",
       "Newspaper                                         0.0\n",
       "Digital Advertisement                             0.0\n",
       "Through Recommendations                           0.0\n",
       "Receive More Updates About Our Courses            0.0\n",
       "Update me on Supply Chain Content                 0.0\n",
       "Get updates on DM Content                         0.0\n",
       "Lead Profile                                     74.0\n",
       "City                                             40.0\n",
       "I agree to pay the amount through cheque          0.0\n",
       "A free copy of Mastering The Interview            0.0\n",
       "Last Notable Activity                             0.0\n",
       "dtype: float64"
      ]
     },
     "execution_count": 860,
     "metadata": {},
     "output_type": "execute_result"
    }
   ],
   "source": [
    "round((df.isnull().sum()/len(df))*100)"
   ]
  },
  {
   "cell_type": "markdown",
   "metadata": {},
   "source": [
    "##### After the treatment we can see there are more missing values so, we will again dropping the columns with high missing values"
   ]
  },
  {
   "cell_type": "code",
   "execution_count": 861,
   "metadata": {},
   "outputs": [],
   "source": [
    "df=df.drop(['Lead Profile','City','How did you hear about X Education'],axis=1)"
   ]
  },
  {
   "cell_type": "code",
   "execution_count": 862,
   "metadata": {},
   "outputs": [
    {
     "data": {
      "text/plain": [
       "Prospect ID                                       0.0\n",
       "Lead Number                                       0.0\n",
       "Lead Origin                                       0.0\n",
       "Lead Source                                       0.0\n",
       "Do Not Email                                      0.0\n",
       "Do Not Call                                       0.0\n",
       "Converted                                         0.0\n",
       "TotalVisits                                       1.0\n",
       "Total Time Spent on Website                       0.0\n",
       "Page Views Per Visit                              1.0\n",
       "Last Activity                                     1.0\n",
       "Country                                          27.0\n",
       "Specialization                                   37.0\n",
       "What is your current occupation                  29.0\n",
       "What matters most to you in choosing a course    29.0\n",
       "Search                                            0.0\n",
       "Magazine                                          0.0\n",
       "Newspaper Article                                 0.0\n",
       "X Education Forums                                0.0\n",
       "Newspaper                                         0.0\n",
       "Digital Advertisement                             0.0\n",
       "Through Recommendations                           0.0\n",
       "Receive More Updates About Our Courses            0.0\n",
       "Update me on Supply Chain Content                 0.0\n",
       "Get updates on DM Content                         0.0\n",
       "I agree to pay the amount through cheque          0.0\n",
       "A free copy of Mastering The Interview            0.0\n",
       "Last Notable Activity                             0.0\n",
       "dtype: float64"
      ]
     },
     "execution_count": 862,
     "metadata": {},
     "output_type": "execute_result"
    }
   ],
   "source": [
    "round((df.isnull().sum()/len(df))*100)"
   ]
  },
  {
   "cell_type": "code",
   "execution_count": 863,
   "metadata": {},
   "outputs": [],
   "source": [
    "# dropping variables which are of no use in our model building\n",
    "df=df.drop(['Prospect ID','Lead Number'],axis=1)"
   ]
  },
  {
   "cell_type": "code",
   "execution_count": 864,
   "metadata": {},
   "outputs": [
    {
     "data": {
      "text/plain": [
       "Lead Origin                                         5\n",
       "Lead Source                                        21\n",
       "Do Not Email                                        2\n",
       "Do Not Call                                         2\n",
       "Converted                                           2\n",
       "TotalVisits                                        41\n",
       "Total Time Spent on Website                      1731\n",
       "Page Views Per Visit                              114\n",
       "Last Activity                                      17\n",
       "Country                                            38\n",
       "Specialization                                     18\n",
       "What is your current occupation                     6\n",
       "What matters most to you in choosing a course       3\n",
       "Search                                              2\n",
       "Magazine                                            1\n",
       "Newspaper Article                                   2\n",
       "X Education Forums                                  2\n",
       "Newspaper                                           2\n",
       "Digital Advertisement                               2\n",
       "Through Recommendations                             2\n",
       "Receive More Updates About Our Courses              1\n",
       "Update me on Supply Chain Content                   1\n",
       "Get updates on DM Content                           1\n",
       "I agree to pay the amount through cheque            1\n",
       "A free copy of Mastering The Interview              2\n",
       "Last Notable Activity                              16\n",
       "dtype: int64"
      ]
     },
     "execution_count": 864,
     "metadata": {},
     "output_type": "execute_result"
    }
   ],
   "source": [
    "# Checking the number of unique values in all our data.\n",
    "df.nunique(axis = 0)"
   ]
  },
  {
   "cell_type": "markdown",
   "metadata": {},
   "source": [
    "##### As we see here some variables with only one value count. hence we will be dropping those columns(no use in model building as well as in EDA)."
   ]
  },
  {
   "cell_type": "code",
   "execution_count": 865,
   "metadata": {},
   "outputs": [],
   "source": [
    "df=df.drop(['Magazine','Receive More Updates About Our Courses','Get updates on DM Content','Get updates on DM Content','I agree to pay the amount through cheque','Update me on Supply Chain Content'],axis=1)"
   ]
  },
  {
   "cell_type": "code",
   "execution_count": 866,
   "metadata": {},
   "outputs": [],
   "source": [
    "# as these two variables are collinear we will be dropping one of these. Last Activity or Last Notable Activity\n",
    "df=df.drop(['Last Notable Activity'], axis = 1)"
   ]
  },
  {
   "cell_type": "code",
   "execution_count": 867,
   "metadata": {},
   "outputs": [
    {
     "data": {
      "text/plain": [
       "Lead Origin                                         5\n",
       "Lead Source                                        21\n",
       "Do Not Email                                        2\n",
       "Do Not Call                                         2\n",
       "Converted                                           2\n",
       "TotalVisits                                        41\n",
       "Total Time Spent on Website                      1731\n",
       "Page Views Per Visit                              114\n",
       "Last Activity                                      17\n",
       "Country                                            38\n",
       "Specialization                                     18\n",
       "What is your current occupation                     6\n",
       "What matters most to you in choosing a course       3\n",
       "Search                                              2\n",
       "Newspaper Article                                   2\n",
       "X Education Forums                                  2\n",
       "Newspaper                                           2\n",
       "Digital Advertisement                               2\n",
       "Through Recommendations                             2\n",
       "A free copy of Mastering The Interview              2\n",
       "dtype: int64"
      ]
     },
     "execution_count": 867,
     "metadata": {},
     "output_type": "execute_result"
    }
   ],
   "source": [
    "df.nunique(axis = 0)"
   ]
  },
  {
   "cell_type": "code",
   "execution_count": 868,
   "metadata": {},
   "outputs": [],
   "source": [
    "# Now we will be filling null values with one specific value."
   ]
  },
  {
   "cell_type": "code",
   "execution_count": 869,
   "metadata": {},
   "outputs": [],
   "source": [
    "df['Specialization'] = df['Specialization'].fillna('Not specified')\n",
    "df['Country'] = df['Country'].fillna('Not specified')\n",
    "df['What is your current occupation'] = df['What is your current occupation'].fillna('Not specified')\n",
    "df['What matters most to you in choosing a course'] = df['What matters most to you in choosing a course'].fillna('Not specified')\n",
    "\n"
   ]
  },
  {
   "cell_type": "code",
   "execution_count": 870,
   "metadata": {},
   "outputs": [
    {
     "data": {
      "text/plain": [
       "Lead Origin                                      0.0\n",
       "Lead Source                                      0.0\n",
       "Do Not Email                                     0.0\n",
       "Do Not Call                                      0.0\n",
       "Converted                                        0.0\n",
       "TotalVisits                                      1.0\n",
       "Total Time Spent on Website                      0.0\n",
       "Page Views Per Visit                             1.0\n",
       "Last Activity                                    1.0\n",
       "Country                                          0.0\n",
       "Specialization                                   0.0\n",
       "What is your current occupation                  0.0\n",
       "What matters most to you in choosing a course    0.0\n",
       "Search                                           0.0\n",
       "Newspaper Article                                0.0\n",
       "X Education Forums                               0.0\n",
       "Newspaper                                        0.0\n",
       "Digital Advertisement                            0.0\n",
       "Through Recommendations                          0.0\n",
       "A free copy of Mastering The Interview           0.0\n",
       "dtype: float64"
      ]
     },
     "execution_count": 870,
     "metadata": {},
     "output_type": "execute_result"
    }
   ],
   "source": [
    "round((df.isnull().sum()/len(df))*100)"
   ]
  },
  {
   "cell_type": "code",
   "execution_count": 871,
   "metadata": {},
   "outputs": [],
   "source": [
    "# dropping rows with null values.\n",
    "df=df.dropna()"
   ]
  },
  {
   "cell_type": "code",
   "execution_count": 872,
   "metadata": {},
   "outputs": [
    {
     "data": {
      "text/plain": [
       "Lead Origin                                      0.0\n",
       "Lead Source                                      0.0\n",
       "Do Not Email                                     0.0\n",
       "Do Not Call                                      0.0\n",
       "Converted                                        0.0\n",
       "TotalVisits                                      0.0\n",
       "Total Time Spent on Website                      0.0\n",
       "Page Views Per Visit                             0.0\n",
       "Last Activity                                    0.0\n",
       "Country                                          0.0\n",
       "Specialization                                   0.0\n",
       "What is your current occupation                  0.0\n",
       "What matters most to you in choosing a course    0.0\n",
       "Search                                           0.0\n",
       "Newspaper Article                                0.0\n",
       "X Education Forums                               0.0\n",
       "Newspaper                                        0.0\n",
       "Digital Advertisement                            0.0\n",
       "Through Recommendations                          0.0\n",
       "A free copy of Mastering The Interview           0.0\n",
       "dtype: float64"
      ]
     },
     "execution_count": 872,
     "metadata": {},
     "output_type": "execute_result"
    }
   ],
   "source": [
    "round((df.isnull().sum()/len(df))*100)"
   ]
  },
  {
   "cell_type": "markdown",
   "metadata": {},
   "source": [
    "##### Now our data has no missing values."
   ]
  },
  {
   "cell_type": "code",
   "execution_count": 873,
   "metadata": {},
   "outputs": [
    {
     "data": {
      "text/plain": [
       "(9074, 20)"
      ]
     },
     "execution_count": 873,
     "metadata": {},
     "output_type": "execute_result"
    }
   ],
   "source": [
    "df.shape"
   ]
  },
  {
   "cell_type": "code",
   "execution_count": 874,
   "metadata": {},
   "outputs": [
    {
     "data": {
      "text/plain": [
       "India                   6491\n",
       "Not specified           2296\n",
       "United States             69\n",
       "United Arab Emirates      53\n",
       "Singapore                 24\n",
       "Saudi Arabia              21\n",
       "United Kingdom            15\n",
       "Australia                 13\n",
       "Qatar                     10\n",
       "Hong Kong                  7\n",
       "Bahrain                    7\n",
       "Oman                       6\n",
       "France                     6\n",
       "unknown                    5\n",
       "Kuwait                     4\n",
       "South Africa               4\n",
       "Canada                     4\n",
       "Nigeria                    4\n",
       "Germany                    4\n",
       "Sweden                     3\n",
       "Bangladesh                 2\n",
       "Italy                      2\n",
       "Ghana                      2\n",
       "Uganda                     2\n",
       "China                      2\n",
       "Belgium                    2\n",
       "Philippines                2\n",
       "Netherlands                2\n",
       "Asia/Pacific Region        2\n",
       "Liberia                    1\n",
       "Indonesia                  1\n",
       "Russia                     1\n",
       "Sri Lanka                  1\n",
       "Tanzania                   1\n",
       "Switzerland                1\n",
       "Malaysia                   1\n",
       "Kenya                      1\n",
       "Vietnam                    1\n",
       "Denmark                    1\n",
       "Name: Country, dtype: int64"
      ]
     },
     "execution_count": 874,
     "metadata": {},
     "output_type": "execute_result"
    }
   ],
   "source": [
    "df['Country'].value_counts()"
   ]
  },
  {
   "cell_type": "markdown",
   "metadata": {},
   "source": [
    "Here we can see high number of values in country col so we will be adding all other countries in a specific column."
   ]
  },
  {
   "cell_type": "code",
   "execution_count": 875,
   "metadata": {},
   "outputs": [],
   "source": [
    "\n",
    "def countries(x):\n",
    "\n",
    "    col = \"\"\n",
    "\n",
    "    if x == 'India':\n",
    "        col  = \"India\"\n",
    "\n",
    "    elif x == \"Not specified\":\n",
    "        col = \"Not specified\"\n",
    "    else: \n",
    "        col = \"Rest of the World\"\n",
    "        \n",
    "        \n",
    "    return col"
   ]
  },
  {
   "cell_type": "code",
   "execution_count": 876,
   "metadata": {},
   "outputs": [],
   "source": [
    "#Adding countries other than india in a column named 'Rest of the world'\n",
    "df['Country'] = df.apply(lambda x: countries(x['Country']), axis = 1)"
   ]
  },
  {
   "cell_type": "code",
   "execution_count": 877,
   "metadata": {},
   "outputs": [
    {
     "data": {
      "text/plain": [
       "India                6491\n",
       "Not specified        2296\n",
       "Rest of the World     287\n",
       "Name: Country, dtype: int64"
      ]
     },
     "execution_count": 877,
     "metadata": {},
     "output_type": "execute_result"
    }
   ],
   "source": [
    "df['Country'].value_counts()"
   ]
  },
  {
   "cell_type": "code",
   "execution_count": 878,
   "metadata": {},
   "outputs": [],
   "source": [
    "# treating all the values with values 'Yes' or 'No' and converting them into binary values.\n",
    "binary_list=['Do Not Email','Do Not Call','Search','Newspaper Article','X Education Forums','Newspaper','Digital Advertisement','Through Recommendations','A free copy of Mastering The Interview']\n",
    "def binary_map(x):\n",
    "    return x.map({'Yes': 1, \"No\": 0})\n",
    "df[binary_list]=df[binary_list].apply(binary_map)    "
   ]
  },
  {
   "cell_type": "code",
   "execution_count": 879,
   "metadata": {},
   "outputs": [
    {
     "data": {
      "text/plain": [
       "Not specified                        3282\n",
       "Finance Management                    959\n",
       "Human Resource Management             837\n",
       "Marketing Management                  823\n",
       "Operations Management                 499\n",
       "Business Administration               399\n",
       "IT Projects Management                366\n",
       "Supply Chain Management               346\n",
       "Banking, Investment And Insurance     335\n",
       "Media and Advertising                 202\n",
       "Travel and Tourism                    202\n",
       "International Business                176\n",
       "Healthcare Management                 156\n",
       "Hospitality Management                111\n",
       "E-COMMERCE                            111\n",
       "Retail Management                     100\n",
       "Rural and Agribusiness                 73\n",
       "E-Business                             57\n",
       "Services Excellence                    40\n",
       "Name: Specialization, dtype: int64"
      ]
     },
     "execution_count": 879,
     "metadata": {},
     "output_type": "execute_result"
    }
   ],
   "source": [
    "df['Specialization'].value_counts()"
   ]
  },
  {
   "cell_type": "code",
   "execution_count": 880,
   "metadata": {},
   "outputs": [],
   "source": [
    "df=df.replace(['Finance Management','Human Resource Management','Marketing Management','Operations Management','IT Projects Management','Supply Chain Management','Healthcare Management','Hospitality Management','Retail Management'],'Management')"
   ]
  },
  {
   "cell_type": "code",
   "execution_count": 881,
   "metadata": {},
   "outputs": [
    {
     "data": {
      "text/plain": [
       "Management                           4197\n",
       "Not specified                        3282\n",
       "Business Administration               399\n",
       "Banking, Investment And Insurance     335\n",
       "Travel and Tourism                    202\n",
       "Media and Advertising                 202\n",
       "International Business                176\n",
       "E-COMMERCE                            111\n",
       "Rural and Agribusiness                 73\n",
       "E-Business                             57\n",
       "Services Excellence                    40\n",
       "Name: Specialization, dtype: int64"
      ]
     },
     "execution_count": 881,
     "metadata": {},
     "output_type": "execute_result"
    }
   ],
   "source": [
    "df['Specialization'].value_counts()"
   ]
  },
  {
   "cell_type": "markdown",
   "metadata": {},
   "source": [
    "## EDA"
   ]
  },
  {
   "cell_type": "markdown",
   "metadata": {},
   "source": [
    "In this section we will be performing univariate and multivariate analysis."
   ]
  },
  {
   "cell_type": "code",
   "execution_count": 882,
   "metadata": {
    "scrolled": true
   },
   "outputs": [
    {
     "data": {
      "text/plain": [
       "['Do Not Email',\n",
       " 'Do Not Call',\n",
       " 'Converted',\n",
       " 'TotalVisits',\n",
       " 'Total Time Spent on Website',\n",
       " 'Page Views Per Visit',\n",
       " 'Search',\n",
       " 'Newspaper Article',\n",
       " 'X Education Forums',\n",
       " 'Newspaper',\n",
       " 'Digital Advertisement',\n",
       " 'Through Recommendations',\n",
       " 'A free copy of Mastering The Interview']"
      ]
     },
     "execution_count": 882,
     "metadata": {},
     "output_type": "execute_result"
    }
   ],
   "source": [
    "# making a list of numerical columns.\n",
    "num_col=list(df.describe().columns)\n",
    "num_col"
   ]
  },
  {
   "cell_type": "code",
   "execution_count": 883,
   "metadata": {},
   "outputs": [
    {
     "data": {
      "text/plain": [
       "['Lead Origin',\n",
       " 'What matters most to you in choosing a course',\n",
       " 'Specialization',\n",
       " 'Last Activity',\n",
       " 'What is your current occupation',\n",
       " 'Country',\n",
       " 'Lead Source']"
      ]
     },
     "execution_count": 883,
     "metadata": {},
     "output_type": "execute_result"
    }
   ],
   "source": [
    "# making a list of categorical columns.\n",
    "cat_col = list(set(df.columns)-set(num_col))\n",
    "cat_col"
   ]
  },
  {
   "cell_type": "markdown",
   "metadata": {},
   "source": [
    "### Univariate analysis"
   ]
  },
  {
   "cell_type": "code",
   "execution_count": 884,
   "metadata": {},
   "outputs": [
    {
     "data": {
      "image/png": "[encoded data removed]",
      "text/plain": [
       "<Figure size 432x288 with 1 Axes>"
      ]
     },
     "metadata": {
      "needs_background": "light"
     },
     "output_type": "display_data"
    }
   ],
   "source": [
    "# graph of specialization vs target variable Converted.\n",
    "sns.countplot(x='Specialization', hue='Converted', data= df).tick_params(rotation=90)"
   ]
  },
  {
   "cell_type": "code",
   "execution_count": 885,
   "metadata": {},
   "outputs": [
    {
     "data": {
      "image/png": "[encoded data removed]",
      "text/plain": [
       "<Figure size 432x288 with 1 Axes>"
      ]
     },
     "metadata": {
      "needs_background": "light"
     },
     "output_type": "display_data"
    }
   ],
   "source": [
    "# graph of Through Recommendations vs target variable Converted.\n",
    "sns.countplot(x='Through Recommendations', hue='Converted', data= df).tick_params(rotation=90)"
   ]
  },
  {
   "cell_type": "code",
   "execution_count": 886,
   "metadata": {},
   "outputs": [
    {
     "data": {
      "image/png": "[encoded data removed]",
      "text/plain": [
       "<Figure size 432x288 with 1 Axes>"
      ]
     },
     "metadata": {
      "needs_background": "light"
     },
     "output_type": "display_data"
    }
   ],
   "source": [
    "# graph of Digital Advertisement vs target variable Converted.\n",
    "sns.countplot(x='Digital Advertisement', hue='Converted', data= df).tick_params(rotation=90)"
   ]
  },
  {
   "cell_type": "code",
   "execution_count": 887,
   "metadata": {},
   "outputs": [
    {
     "data": {
      "image/png": "[encoded data removed]",
      "text/plain": [
       "<Figure size 432x288 with 1 Axes>"
      ]
     },
     "metadata": {
      "needs_background": "light"
     },
     "output_type": "display_data"
    }
   ],
   "source": [
    "# graph of 'Newspaper' vs target variable Converted.\n",
    "sns.countplot(x='Newspaper', hue='Converted', data= df).tick_params(rotation=90)"
   ]
  },
  {
   "cell_type": "code",
   "execution_count": 888,
   "metadata": {},
   "outputs": [
    {
     "data": {
      "text/plain": [
       "<matplotlib.axes._subplots.AxesSubplot at 0x17c82fdc2b0>"
      ]
     },
     "execution_count": 888,
     "metadata": {},
     "output_type": "execute_result"
    },
    {
     "data": {
      "image/png": "[encoded data removed]",
      "text/plain": [
       "<Figure size 432x288 with 1 Axes>"
      ]
     },
     "metadata": {
      "needs_background": "light"
     },
     "output_type": "display_data"
    }
   ],
   "source": [
    "sns.boxplot(df['Page Views Per Visit'])"
   ]
  },
  {
   "cell_type": "code",
   "execution_count": 889,
   "metadata": {},
   "outputs": [],
   "source": [
    "# As we can see there are a number of outliers in the data.\n",
    "# We will cap the outliers to 95% value for analysis."
   ]
  },
  {
   "cell_type": "code",
   "execution_count": 890,
   "metadata": {},
   "outputs": [],
   "source": [
    "percentiles = df['Page Views Per Visit'].quantile([0.05,0.95]).values\n",
    "df['Page Views Per Visit'][df['Page Views Per Visit'] <= percentiles[0]] = percentiles[0]\n",
    "df['Page Views Per Visit'][df['Page Views Per Visit'] >= percentiles[1]] = percentiles[1]"
   ]
  },
  {
   "cell_type": "code",
   "execution_count": 891,
   "metadata": {},
   "outputs": [
    {
     "data": {
      "text/plain": [
       "<matplotlib.axes._subplots.AxesSubplot at 0x17c830c4490>"
      ]
     },
     "execution_count": 891,
     "metadata": {},
     "output_type": "execute_result"
    },
    {
     "data": {
      "image/png": "[encoded data removed]",
      "text/plain": [
       "<Figure size 432x288 with 1 Axes>"
      ]
     },
     "metadata": {
      "needs_background": "light"
     },
     "output_type": "display_data"
    }
   ],
   "source": [
    "sns.boxplot(df['Page Views Per Visit'])"
   ]
  },
  {
   "cell_type": "markdown",
   "metadata": {},
   "source": [
    "### Mulivariate"
   ]
  },
  {
   "cell_type": "code",
   "execution_count": 892,
   "metadata": {},
   "outputs": [
    {
     "data": {
      "image/png": "[encoded data removed]",
      "text/plain": [
       "<Figure size 1440x720 with 2 Axes>"
      ]
     },
     "metadata": {
      "needs_background": "light"
     },
     "output_type": "display_data"
    }
   ],
   "source": [
    "# Making a heatmap t determine the correlations between the variables\n",
    "plt.figure(figsize = (20,10))        # Size of the figure\n",
    "sns.heatmap(df.corr(),annot = True)\n",
    "plt.show()"
   ]
  },
  {
   "cell_type": "markdown",
   "metadata": {},
   "source": [
    "### Data preperation"
   ]
  },
  {
   "cell_type": "markdown",
   "metadata": {},
   "source": [
    "#### getting dummies"
   ]
  },
  {
   "cell_type": "code",
   "execution_count": 893,
   "metadata": {},
   "outputs": [],
   "source": [
    "# Getting dummies for the rest of categorical columns.\n",
    "dummy1 = pd.get_dummies(df[cat_col], drop_first=True)\n",
    "\n",
    "# Adding the results to the master dataframe\n",
    "df1 = pd.concat([df, dummy1], axis=1)"
   ]
  },
  {
   "cell_type": "code",
   "execution_count": 894,
   "metadata": {},
   "outputs": [],
   "source": [
    "df1=df1.drop(cat_col,axis=1)"
   ]
  },
  {
   "cell_type": "code",
   "execution_count": 895,
   "metadata": {},
   "outputs": [
    {
     "data": {
      "text/html": [
       "<div>\n",
       "<style scoped>\n",
       "    .dataframe tbody tr th:only-of-type {\n",
       "        vertical-align: middle;\n",
       "    }\n",
       "\n",
       "    .dataframe tbody tr th {\n",
       "        vertical-align: top;\n",
       "    }\n",
       "\n",
       "    .dataframe thead th {\n",
       "        text-align: right;\n",
       "    }\n",
       "</style>\n",
       "<table border=\"1\" class=\"dataframe\">\n",
       "  <thead>\n",
       "    <tr style=\"text-align: right;\">\n",
       "      <th></th>\n",
       "      <th>Do Not Email</th>\n",
       "      <th>Do Not Call</th>\n",
       "      <th>Converted</th>\n",
       "      <th>TotalVisits</th>\n",
       "      <th>Total Time Spent on Website</th>\n",
       "      <th>Page Views Per Visit</th>\n",
       "      <th>Search</th>\n",
       "      <th>Newspaper Article</th>\n",
       "      <th>X Education Forums</th>\n",
       "      <th>Newspaper</th>\n",
       "      <th>...</th>\n",
       "      <th>Lead Source_Referral Sites</th>\n",
       "      <th>Lead Source_Social Media</th>\n",
       "      <th>Lead Source_WeLearn</th>\n",
       "      <th>Lead Source_Welingak Website</th>\n",
       "      <th>Lead Source_bing</th>\n",
       "      <th>Lead Source_blog</th>\n",
       "      <th>Lead Source_google</th>\n",
       "      <th>Lead Source_testone</th>\n",
       "      <th>Lead Source_welearnblog_Home</th>\n",
       "      <th>Lead Source_youtubechannel</th>\n",
       "    </tr>\n",
       "  </thead>\n",
       "  <tbody>\n",
       "    <tr>\n",
       "      <th>0</th>\n",
       "      <td>0</td>\n",
       "      <td>0</td>\n",
       "      <td>0</td>\n",
       "      <td>0.0</td>\n",
       "      <td>0</td>\n",
       "      <td>0.0</td>\n",
       "      <td>0</td>\n",
       "      <td>0</td>\n",
       "      <td>0</td>\n",
       "      <td>0</td>\n",
       "      <td>...</td>\n",
       "      <td>0</td>\n",
       "      <td>0</td>\n",
       "      <td>0</td>\n",
       "      <td>0</td>\n",
       "      <td>0</td>\n",
       "      <td>0</td>\n",
       "      <td>0</td>\n",
       "      <td>0</td>\n",
       "      <td>0</td>\n",
       "      <td>0</td>\n",
       "    </tr>\n",
       "    <tr>\n",
       "      <th>1</th>\n",
       "      <td>0</td>\n",
       "      <td>0</td>\n",
       "      <td>0</td>\n",
       "      <td>5.0</td>\n",
       "      <td>674</td>\n",
       "      <td>2.5</td>\n",
       "      <td>0</td>\n",
       "      <td>0</td>\n",
       "      <td>0</td>\n",
       "      <td>0</td>\n",
       "      <td>...</td>\n",
       "      <td>0</td>\n",
       "      <td>0</td>\n",
       "      <td>0</td>\n",
       "      <td>0</td>\n",
       "      <td>0</td>\n",
       "      <td>0</td>\n",
       "      <td>0</td>\n",
       "      <td>0</td>\n",
       "      <td>0</td>\n",
       "      <td>0</td>\n",
       "    </tr>\n",
       "    <tr>\n",
       "      <th>2</th>\n",
       "      <td>0</td>\n",
       "      <td>0</td>\n",
       "      <td>1</td>\n",
       "      <td>2.0</td>\n",
       "      <td>1532</td>\n",
       "      <td>2.0</td>\n",
       "      <td>0</td>\n",
       "      <td>0</td>\n",
       "      <td>0</td>\n",
       "      <td>0</td>\n",
       "      <td>...</td>\n",
       "      <td>0</td>\n",
       "      <td>0</td>\n",
       "      <td>0</td>\n",
       "      <td>0</td>\n",
       "      <td>0</td>\n",
       "      <td>0</td>\n",
       "      <td>0</td>\n",
       "      <td>0</td>\n",
       "      <td>0</td>\n",
       "      <td>0</td>\n",
       "    </tr>\n",
       "    <tr>\n",
       "      <th>3</th>\n",
       "      <td>0</td>\n",
       "      <td>0</td>\n",
       "      <td>0</td>\n",
       "      <td>1.0</td>\n",
       "      <td>305</td>\n",
       "      <td>1.0</td>\n",
       "      <td>0</td>\n",
       "      <td>0</td>\n",
       "      <td>0</td>\n",
       "      <td>0</td>\n",
       "      <td>...</td>\n",
       "      <td>0</td>\n",
       "      <td>0</td>\n",
       "      <td>0</td>\n",
       "      <td>0</td>\n",
       "      <td>0</td>\n",
       "      <td>0</td>\n",
       "      <td>0</td>\n",
       "      <td>0</td>\n",
       "      <td>0</td>\n",
       "      <td>0</td>\n",
       "    </tr>\n",
       "    <tr>\n",
       "      <th>4</th>\n",
       "      <td>0</td>\n",
       "      <td>0</td>\n",
       "      <td>1</td>\n",
       "      <td>2.0</td>\n",
       "      <td>1428</td>\n",
       "      <td>1.0</td>\n",
       "      <td>0</td>\n",
       "      <td>0</td>\n",
       "      <td>0</td>\n",
       "      <td>0</td>\n",
       "      <td>...</td>\n",
       "      <td>0</td>\n",
       "      <td>0</td>\n",
       "      <td>0</td>\n",
       "      <td>0</td>\n",
       "      <td>0</td>\n",
       "      <td>0</td>\n",
       "      <td>0</td>\n",
       "      <td>0</td>\n",
       "      <td>0</td>\n",
       "      <td>0</td>\n",
       "    </tr>\n",
       "  </tbody>\n",
       "</table>\n",
       "<p>5 rows × 73 columns</p>\n",
       "</div>"
      ],
      "text/plain": [
       "   Do Not Email  Do Not Call  Converted  TotalVisits  \\\n",
       "0             0            0          0          0.0   \n",
       "1             0            0          0          5.0   \n",
       "2             0            0          1          2.0   \n",
       "3             0            0          0          1.0   \n",
       "4             0            0          1          2.0   \n",
       "\n",
       "   Total Time Spent on Website  Page Views Per Visit  Search  \\\n",
       "0                            0                   0.0       0   \n",
       "1                          674                   2.5       0   \n",
       "2                         1532                   2.0       0   \n",
       "3                          305                   1.0       0   \n",
       "4                         1428                   1.0       0   \n",
       "\n",
       "   Newspaper Article  X Education Forums  Newspaper  ...  \\\n",
       "0                  0                   0          0  ...   \n",
       "1                  0                   0          0  ...   \n",
       "2                  0                   0          0  ...   \n",
       "3                  0                   0          0  ...   \n",
       "4                  0                   0          0  ...   \n",
       "\n",
       "   Lead Source_Referral Sites  Lead Source_Social Media  Lead Source_WeLearn  \\\n",
       "0                           0                         0                    0   \n",
       "1                           0                         0                    0   \n",
       "2                           0                         0                    0   \n",
       "3                           0                         0                    0   \n",
       "4                           0                         0                    0   \n",
       "\n",
       "   Lead Source_Welingak Website  Lead Source_bing  Lead Source_blog  \\\n",
       "0                             0                 0                 0   \n",
       "1                             0                 0                 0   \n",
       "2                             0                 0                 0   \n",
       "3                             0                 0                 0   \n",
       "4                             0                 0                 0   \n",
       "\n",
       "   Lead Source_google  Lead Source_testone  Lead Source_welearnblog_Home  \\\n",
       "0                   0                    0                             0   \n",
       "1                   0                    0                             0   \n",
       "2                   0                    0                             0   \n",
       "3                   0                    0                             0   \n",
       "4                   0                    0                             0   \n",
       "\n",
       "   Lead Source_youtubechannel  \n",
       "0                           0  \n",
       "1                           0  \n",
       "2                           0  \n",
       "3                           0  \n",
       "4                           0  \n",
       "\n",
       "[5 rows x 73 columns]"
      ]
     },
     "execution_count": 895,
     "metadata": {},
     "output_type": "execute_result"
    }
   ],
   "source": [
    "df1.head()"
   ]
  },
  {
   "cell_type": "code",
   "execution_count": 896,
   "metadata": {},
   "outputs": [],
   "source": [
    "df1=df1.drop(['What matters most to you in choosing a course_Not specified','Specialization_Not specified','What is your current occupation_Not specified','Country_Not specified'], axis=1)"
   ]
  },
  {
   "cell_type": "markdown",
   "metadata": {},
   "source": [
    "### Test_train_split"
   ]
  },
  {
   "cell_type": "code",
   "execution_count": 897,
   "metadata": {},
   "outputs": [
    {
     "data": {
      "text/html": [
       "<div>\n",
       "<style scoped>\n",
       "    .dataframe tbody tr th:only-of-type {\n",
       "        vertical-align: middle;\n",
       "    }\n",
       "\n",
       "    .dataframe tbody tr th {\n",
       "        vertical-align: top;\n",
       "    }\n",
       "\n",
       "    .dataframe thead th {\n",
       "        text-align: right;\n",
       "    }\n",
       "</style>\n",
       "<table border=\"1\" class=\"dataframe\">\n",
       "  <thead>\n",
       "    <tr style=\"text-align: right;\">\n",
       "      <th></th>\n",
       "      <th>Do Not Email</th>\n",
       "      <th>Do Not Call</th>\n",
       "      <th>TotalVisits</th>\n",
       "      <th>Total Time Spent on Website</th>\n",
       "      <th>Page Views Per Visit</th>\n",
       "      <th>Search</th>\n",
       "      <th>Newspaper Article</th>\n",
       "      <th>X Education Forums</th>\n",
       "      <th>Newspaper</th>\n",
       "      <th>Digital Advertisement</th>\n",
       "      <th>...</th>\n",
       "      <th>Lead Source_Referral Sites</th>\n",
       "      <th>Lead Source_Social Media</th>\n",
       "      <th>Lead Source_WeLearn</th>\n",
       "      <th>Lead Source_Welingak Website</th>\n",
       "      <th>Lead Source_bing</th>\n",
       "      <th>Lead Source_blog</th>\n",
       "      <th>Lead Source_google</th>\n",
       "      <th>Lead Source_testone</th>\n",
       "      <th>Lead Source_welearnblog_Home</th>\n",
       "      <th>Lead Source_youtubechannel</th>\n",
       "    </tr>\n",
       "  </thead>\n",
       "  <tbody>\n",
       "    <tr>\n",
       "      <th>0</th>\n",
       "      <td>0</td>\n",
       "      <td>0</td>\n",
       "      <td>0.0</td>\n",
       "      <td>0</td>\n",
       "      <td>0.0</td>\n",
       "      <td>0</td>\n",
       "      <td>0</td>\n",
       "      <td>0</td>\n",
       "      <td>0</td>\n",
       "      <td>0</td>\n",
       "      <td>...</td>\n",
       "      <td>0</td>\n",
       "      <td>0</td>\n",
       "      <td>0</td>\n",
       "      <td>0</td>\n",
       "      <td>0</td>\n",
       "      <td>0</td>\n",
       "      <td>0</td>\n",
       "      <td>0</td>\n",
       "      <td>0</td>\n",
       "      <td>0</td>\n",
       "    </tr>\n",
       "    <tr>\n",
       "      <th>1</th>\n",
       "      <td>0</td>\n",
       "      <td>0</td>\n",
       "      <td>5.0</td>\n",
       "      <td>674</td>\n",
       "      <td>2.5</td>\n",
       "      <td>0</td>\n",
       "      <td>0</td>\n",
       "      <td>0</td>\n",
       "      <td>0</td>\n",
       "      <td>0</td>\n",
       "      <td>...</td>\n",
       "      <td>0</td>\n",
       "      <td>0</td>\n",
       "      <td>0</td>\n",
       "      <td>0</td>\n",
       "      <td>0</td>\n",
       "      <td>0</td>\n",
       "      <td>0</td>\n",
       "      <td>0</td>\n",
       "      <td>0</td>\n",
       "      <td>0</td>\n",
       "    </tr>\n",
       "    <tr>\n",
       "      <th>2</th>\n",
       "      <td>0</td>\n",
       "      <td>0</td>\n",
       "      <td>2.0</td>\n",
       "      <td>1532</td>\n",
       "      <td>2.0</td>\n",
       "      <td>0</td>\n",
       "      <td>0</td>\n",
       "      <td>0</td>\n",
       "      <td>0</td>\n",
       "      <td>0</td>\n",
       "      <td>...</td>\n",
       "      <td>0</td>\n",
       "      <td>0</td>\n",
       "      <td>0</td>\n",
       "      <td>0</td>\n",
       "      <td>0</td>\n",
       "      <td>0</td>\n",
       "      <td>0</td>\n",
       "      <td>0</td>\n",
       "      <td>0</td>\n",
       "      <td>0</td>\n",
       "    </tr>\n",
       "    <tr>\n",
       "      <th>3</th>\n",
       "      <td>0</td>\n",
       "      <td>0</td>\n",
       "      <td>1.0</td>\n",
       "      <td>305</td>\n",
       "      <td>1.0</td>\n",
       "      <td>0</td>\n",
       "      <td>0</td>\n",
       "      <td>0</td>\n",
       "      <td>0</td>\n",
       "      <td>0</td>\n",
       "      <td>...</td>\n",
       "      <td>0</td>\n",
       "      <td>0</td>\n",
       "      <td>0</td>\n",
       "      <td>0</td>\n",
       "      <td>0</td>\n",
       "      <td>0</td>\n",
       "      <td>0</td>\n",
       "      <td>0</td>\n",
       "      <td>0</td>\n",
       "      <td>0</td>\n",
       "    </tr>\n",
       "    <tr>\n",
       "      <th>4</th>\n",
       "      <td>0</td>\n",
       "      <td>0</td>\n",
       "      <td>2.0</td>\n",
       "      <td>1428</td>\n",
       "      <td>1.0</td>\n",
       "      <td>0</td>\n",
       "      <td>0</td>\n",
       "      <td>0</td>\n",
       "      <td>0</td>\n",
       "      <td>0</td>\n",
       "      <td>...</td>\n",
       "      <td>0</td>\n",
       "      <td>0</td>\n",
       "      <td>0</td>\n",
       "      <td>0</td>\n",
       "      <td>0</td>\n",
       "      <td>0</td>\n",
       "      <td>0</td>\n",
       "      <td>0</td>\n",
       "      <td>0</td>\n",
       "      <td>0</td>\n",
       "    </tr>\n",
       "  </tbody>\n",
       "</table>\n",
       "<p>5 rows × 68 columns</p>\n",
       "</div>"
      ],
      "text/plain": [
       "   Do Not Email  Do Not Call  TotalVisits  Total Time Spent on Website  \\\n",
       "0             0            0          0.0                            0   \n",
       "1             0            0          5.0                          674   \n",
       "2             0            0          2.0                         1532   \n",
       "3             0            0          1.0                          305   \n",
       "4             0            0          2.0                         1428   \n",
       "\n",
       "   Page Views Per Visit  Search  Newspaper Article  X Education Forums  \\\n",
       "0                   0.0       0                  0                   0   \n",
       "1                   2.5       0                  0                   0   \n",
       "2                   2.0       0                  0                   0   \n",
       "3                   1.0       0                  0                   0   \n",
       "4                   1.0       0                  0                   0   \n",
       "\n",
       "   Newspaper  Digital Advertisement  ...  Lead Source_Referral Sites  \\\n",
       "0          0                      0  ...                           0   \n",
       "1          0                      0  ...                           0   \n",
       "2          0                      0  ...                           0   \n",
       "3          0                      0  ...                           0   \n",
       "4          0                      0  ...                           0   \n",
       "\n",
       "   Lead Source_Social Media  Lead Source_WeLearn  \\\n",
       "0                         0                    0   \n",
       "1                         0                    0   \n",
       "2                         0                    0   \n",
       "3                         0                    0   \n",
       "4                         0                    0   \n",
       "\n",
       "   Lead Source_Welingak Website  Lead Source_bing  Lead Source_blog  \\\n",
       "0                             0                 0                 0   \n",
       "1                             0                 0                 0   \n",
       "2                             0                 0                 0   \n",
       "3                             0                 0                 0   \n",
       "4                             0                 0                 0   \n",
       "\n",
       "   Lead Source_google  Lead Source_testone  Lead Source_welearnblog_Home  \\\n",
       "0                   0                    0                             0   \n",
       "1                   0                    0                             0   \n",
       "2                   0                    0                             0   \n",
       "3                   0                    0                             0   \n",
       "4                   0                    0                             0   \n",
       "\n",
       "   Lead Source_youtubechannel  \n",
       "0                           0  \n",
       "1                           0  \n",
       "2                           0  \n",
       "3                           0  \n",
       "4                           0  \n",
       "\n",
       "[5 rows x 68 columns]"
      ]
     },
     "execution_count": 897,
     "metadata": {},
     "output_type": "execute_result"
    }
   ],
   "source": [
    "# Putting feature variable to X\n",
    "X = df1.drop(['Converted'], axis=1)\n",
    "\n",
    "X.head()"
   ]
  },
  {
   "cell_type": "code",
   "execution_count": 898,
   "metadata": {},
   "outputs": [
    {
     "data": {
      "text/plain": [
       "0    0\n",
       "1    0\n",
       "2    1\n",
       "3    0\n",
       "4    1\n",
       "Name: Converted, dtype: int64"
      ]
     },
     "execution_count": 898,
     "metadata": {},
     "output_type": "execute_result"
    }
   ],
   "source": [
    "# Putting response variable to y\n",
    "y = df1['Converted']\n",
    "\n",
    "y.head()"
   ]
  },
  {
   "cell_type": "code",
   "execution_count": 899,
   "metadata": {},
   "outputs": [],
   "source": [
    "# Splitting the data into train and test\n",
    "X_train, X_test, y_train, y_test = train_test_split(X, y, train_size=0.7, test_size=0.3, random_state=100)"
   ]
  },
  {
   "cell_type": "markdown",
   "metadata": {},
   "source": [
    "### Feature Scaling"
   ]
  },
  {
   "cell_type": "code",
   "execution_count": 900,
   "metadata": {},
   "outputs": [
    {
     "data": {
      "text/html": [
       "<div>\n",
       "<style scoped>\n",
       "    .dataframe tbody tr th:only-of-type {\n",
       "        vertical-align: middle;\n",
       "    }\n",
       "\n",
       "    .dataframe tbody tr th {\n",
       "        vertical-align: top;\n",
       "    }\n",
       "\n",
       "    .dataframe thead th {\n",
       "        text-align: right;\n",
       "    }\n",
       "</style>\n",
       "<table border=\"1\" class=\"dataframe\">\n",
       "  <thead>\n",
       "    <tr style=\"text-align: right;\">\n",
       "      <th></th>\n",
       "      <th>Do Not Email</th>\n",
       "      <th>Do Not Call</th>\n",
       "      <th>TotalVisits</th>\n",
       "      <th>Total Time Spent on Website</th>\n",
       "      <th>Page Views Per Visit</th>\n",
       "      <th>Search</th>\n",
       "      <th>Newspaper Article</th>\n",
       "      <th>X Education Forums</th>\n",
       "      <th>Newspaper</th>\n",
       "      <th>Digital Advertisement</th>\n",
       "      <th>...</th>\n",
       "      <th>Lead Source_Referral Sites</th>\n",
       "      <th>Lead Source_Social Media</th>\n",
       "      <th>Lead Source_WeLearn</th>\n",
       "      <th>Lead Source_Welingak Website</th>\n",
       "      <th>Lead Source_bing</th>\n",
       "      <th>Lead Source_blog</th>\n",
       "      <th>Lead Source_google</th>\n",
       "      <th>Lead Source_testone</th>\n",
       "      <th>Lead Source_welearnblog_Home</th>\n",
       "      <th>Lead Source_youtubechannel</th>\n",
       "    </tr>\n",
       "  </thead>\n",
       "  <tbody>\n",
       "    <tr>\n",
       "      <th>3009</th>\n",
       "      <td>0</td>\n",
       "      <td>0</td>\n",
       "      <td>-0.284595</td>\n",
       "      <td>-0.160255</td>\n",
       "      <td>-0.155018</td>\n",
       "      <td>0</td>\n",
       "      <td>0</td>\n",
       "      <td>0</td>\n",
       "      <td>0</td>\n",
       "      <td>0</td>\n",
       "      <td>...</td>\n",
       "      <td>0</td>\n",
       "      <td>0</td>\n",
       "      <td>0</td>\n",
       "      <td>0</td>\n",
       "      <td>0</td>\n",
       "      <td>0</td>\n",
       "      <td>0</td>\n",
       "      <td>0</td>\n",
       "      <td>0</td>\n",
       "      <td>0</td>\n",
       "    </tr>\n",
       "    <tr>\n",
       "      <th>1012</th>\n",
       "      <td>1</td>\n",
       "      <td>0</td>\n",
       "      <td>-0.284595</td>\n",
       "      <td>-0.540048</td>\n",
       "      <td>-0.155018</td>\n",
       "      <td>0</td>\n",
       "      <td>0</td>\n",
       "      <td>0</td>\n",
       "      <td>0</td>\n",
       "      <td>0</td>\n",
       "      <td>...</td>\n",
       "      <td>0</td>\n",
       "      <td>0</td>\n",
       "      <td>0</td>\n",
       "      <td>0</td>\n",
       "      <td>0</td>\n",
       "      <td>0</td>\n",
       "      <td>0</td>\n",
       "      <td>0</td>\n",
       "      <td>0</td>\n",
       "      <td>0</td>\n",
       "    </tr>\n",
       "    <tr>\n",
       "      <th>9226</th>\n",
       "      <td>0</td>\n",
       "      <td>0</td>\n",
       "      <td>-0.671384</td>\n",
       "      <td>-0.888650</td>\n",
       "      <td>-1.265540</td>\n",
       "      <td>0</td>\n",
       "      <td>0</td>\n",
       "      <td>0</td>\n",
       "      <td>0</td>\n",
       "      <td>0</td>\n",
       "      <td>...</td>\n",
       "      <td>0</td>\n",
       "      <td>0</td>\n",
       "      <td>0</td>\n",
       "      <td>0</td>\n",
       "      <td>0</td>\n",
       "      <td>0</td>\n",
       "      <td>0</td>\n",
       "      <td>0</td>\n",
       "      <td>0</td>\n",
       "      <td>0</td>\n",
       "    </tr>\n",
       "    <tr>\n",
       "      <th>4750</th>\n",
       "      <td>0</td>\n",
       "      <td>0</td>\n",
       "      <td>-0.284595</td>\n",
       "      <td>1.643304</td>\n",
       "      <td>-0.155018</td>\n",
       "      <td>0</td>\n",
       "      <td>0</td>\n",
       "      <td>0</td>\n",
       "      <td>0</td>\n",
       "      <td>0</td>\n",
       "      <td>...</td>\n",
       "      <td>0</td>\n",
       "      <td>0</td>\n",
       "      <td>0</td>\n",
       "      <td>0</td>\n",
       "      <td>0</td>\n",
       "      <td>0</td>\n",
       "      <td>0</td>\n",
       "      <td>0</td>\n",
       "      <td>0</td>\n",
       "      <td>0</td>\n",
       "    </tr>\n",
       "    <tr>\n",
       "      <th>7987</th>\n",
       "      <td>0</td>\n",
       "      <td>0</td>\n",
       "      <td>0.295588</td>\n",
       "      <td>2.017593</td>\n",
       "      <td>0.122613</td>\n",
       "      <td>0</td>\n",
       "      <td>0</td>\n",
       "      <td>0</td>\n",
       "      <td>0</td>\n",
       "      <td>0</td>\n",
       "      <td>...</td>\n",
       "      <td>0</td>\n",
       "      <td>0</td>\n",
       "      <td>0</td>\n",
       "      <td>0</td>\n",
       "      <td>0</td>\n",
       "      <td>0</td>\n",
       "      <td>0</td>\n",
       "      <td>0</td>\n",
       "      <td>0</td>\n",
       "      <td>0</td>\n",
       "    </tr>\n",
       "  </tbody>\n",
       "</table>\n",
       "<p>5 rows × 68 columns</p>\n",
       "</div>"
      ],
      "text/plain": [
       "      Do Not Email  Do Not Call  TotalVisits  Total Time Spent on Website  \\\n",
       "3009             0            0    -0.284595                    -0.160255   \n",
       "1012             1            0    -0.284595                    -0.540048   \n",
       "9226             0            0    -0.671384                    -0.888650   \n",
       "4750             0            0    -0.284595                     1.643304   \n",
       "7987             0            0     0.295588                     2.017593   \n",
       "\n",
       "      Page Views Per Visit  Search  Newspaper Article  X Education Forums  \\\n",
       "3009             -0.155018       0                  0                   0   \n",
       "1012             -0.155018       0                  0                   0   \n",
       "9226             -1.265540       0                  0                   0   \n",
       "4750             -0.155018       0                  0                   0   \n",
       "7987              0.122613       0                  0                   0   \n",
       "\n",
       "      Newspaper  Digital Advertisement  ...  Lead Source_Referral Sites  \\\n",
       "3009          0                      0  ...                           0   \n",
       "1012          0                      0  ...                           0   \n",
       "9226          0                      0  ...                           0   \n",
       "4750          0                      0  ...                           0   \n",
       "7987          0                      0  ...                           0   \n",
       "\n",
       "      Lead Source_Social Media  Lead Source_WeLearn  \\\n",
       "3009                         0                    0   \n",
       "1012                         0                    0   \n",
       "9226                         0                    0   \n",
       "4750                         0                    0   \n",
       "7987                         0                    0   \n",
       "\n",
       "      Lead Source_Welingak Website  Lead Source_bing  Lead Source_blog  \\\n",
       "3009                             0                 0                 0   \n",
       "1012                             0                 0                 0   \n",
       "9226                             0                 0                 0   \n",
       "4750                             0                 0                 0   \n",
       "7987                             0                 0                 0   \n",
       "\n",
       "      Lead Source_google  Lead Source_testone  Lead Source_welearnblog_Home  \\\n",
       "3009                   0                    0                             0   \n",
       "1012                   0                    0                             0   \n",
       "9226                   0                    0                             0   \n",
       "4750                   0                    0                             0   \n",
       "7987                   0                    0                             0   \n",
       "\n",
       "      Lead Source_youtubechannel  \n",
       "3009                           0  \n",
       "1012                           0  \n",
       "9226                           0  \n",
       "4750                           0  \n",
       "7987                           0  \n",
       "\n",
       "[5 rows x 68 columns]"
      ]
     },
     "execution_count": 900,
     "metadata": {},
     "output_type": "execute_result"
    }
   ],
   "source": [
    "scaler = StandardScaler()\n",
    "\n",
    "X_train[['TotalVisits','Total Time Spent on Website','Page Views Per Visit']] = scaler.fit_transform(X_train[['TotalVisits','Total Time Spent on Website','Page Views Per Visit']])\n",
    "\n",
    "X_train.head()"
   ]
  },
  {
   "cell_type": "code",
   "execution_count": 901,
   "metadata": {},
   "outputs": [
    {
     "data": {
      "text/plain": [
       "37.85541106458012"
      ]
     },
     "execution_count": 901,
     "metadata": {},
     "output_type": "execute_result"
    }
   ],
   "source": [
    "# Checking the Converted Rate\n",
    "Converted = (sum(df['Converted'])/len(df['Converted'].index))*100\n",
    "Converted"
   ]
  },
  {
   "cell_type": "code",
   "execution_count": null,
   "metadata": {},
   "outputs": [],
   "source": []
  },
  {
   "cell_type": "markdown",
   "metadata": {},
   "source": [
    "### Model Building"
   ]
  },
  {
   "cell_type": "code",
   "execution_count": 902,
   "metadata": {},
   "outputs": [
    {
     "data": {
      "text/html": [
       "<table class=\"simpletable\">\n",
       "<caption>Generalized Linear Model Regression Results</caption>\n",
       "<tr>\n",
       "  <th>Dep. Variable:</th>       <td>Converted</td>    <th>  No. Observations:  </th>  <td>  6351</td> \n",
       "</tr>\n",
       "<tr>\n",
       "  <th>Model:</th>                  <td>GLM</td>       <th>  Df Residuals:      </th>  <td>  6284</td> \n",
       "</tr>\n",
       "<tr>\n",
       "  <th>Model Family:</th>        <td>Binomial</td>     <th>  Df Model:          </th>  <td>    66</td> \n",
       "</tr>\n",
       "<tr>\n",
       "  <th>Link Function:</th>         <td>logit</td>      <th>  Scale:             </th> <td>  1.0000</td>\n",
       "</tr>\n",
       "<tr>\n",
       "  <th>Method:</th>                <td>IRLS</td>       <th>  Log-Likelihood:    </th> <td>     nan</td>\n",
       "</tr>\n",
       "<tr>\n",
       "  <th>Date:</th>            <td>Sun, 07 Mar 2021</td> <th>  Deviance:          </th> <td>     nan</td>\n",
       "</tr>\n",
       "<tr>\n",
       "  <th>Time:</th>                <td>20:44:02</td>     <th>  Pearson chi2:      </th> <td>7.71e+18</td>\n",
       "</tr>\n",
       "<tr>\n",
       "  <th>No. Iterations:</th>         <td>100</td>       <th>                     </th>     <td> </td>   \n",
       "</tr>\n",
       "<tr>\n",
       "  <th>Covariance Type:</th>     <td>nonrobust</td>    <th>                     </th>     <td> </td>   \n",
       "</tr>\n",
       "</table>\n",
       "<table class=\"simpletable\">\n",
       "<tr>\n",
       "                                     <td></td>                                        <th>coef</th>     <th>std err</th>      <th>z</th>      <th>P>|z|</th>  <th>[0.025</th>    <th>0.975]</th>  \n",
       "</tr>\n",
       "<tr>\n",
       "  <th>const</th>                                                                   <td> 6.582e+15</td> <td> 6.83e+07</td> <td> 9.64e+07</td> <td> 0.000</td> <td> 6.58e+15</td> <td> 6.58e+15</td>\n",
       "</tr>\n",
       "<tr>\n",
       "  <th>Do Not Email</th>                                                            <td> 6.527e+12</td> <td> 4.43e+06</td> <td> 1.47e+06</td> <td> 0.000</td> <td> 6.53e+12</td> <td> 6.53e+12</td>\n",
       "</tr>\n",
       "<tr>\n",
       "  <th>Do Not Call</th>                                                             <td> 2.806e+15</td> <td> 4.76e+07</td> <td>  5.9e+07</td> <td> 0.000</td> <td> 2.81e+15</td> <td> 2.81e+15</td>\n",
       "</tr>\n",
       "<tr>\n",
       "  <th>TotalVisits</th>                                                             <td> 9.359e+13</td> <td> 9.75e+05</td> <td>  9.6e+07</td> <td> 0.000</td> <td> 9.36e+13</td> <td> 9.36e+13</td>\n",
       "</tr>\n",
       "<tr>\n",
       "  <th>Total Time Spent on Website</th>                                             <td> 7.983e+14</td> <td> 9.79e+05</td> <td> 8.15e+08</td> <td> 0.000</td> <td> 7.98e+14</td> <td> 7.98e+14</td>\n",
       "</tr>\n",
       "<tr>\n",
       "  <th>Page Views Per Visit</th>                                                    <td>-1.206e+14</td> <td> 1.37e+06</td> <td> -8.8e+07</td> <td> 0.000</td> <td>-1.21e+14</td> <td>-1.21e+14</td>\n",
       "</tr>\n",
       "<tr>\n",
       "  <th>Search</th>                                                                  <td> 7.642e+14</td> <td> 2.38e+07</td> <td> 3.21e+07</td> <td> 0.000</td> <td> 7.64e+14</td> <td> 7.64e+14</td>\n",
       "</tr>\n",
       "<tr>\n",
       "  <th>Newspaper Article</th>                                                       <td> 4.741e+15</td> <td> 6.73e+07</td> <td> 7.05e+07</td> <td> 0.000</td> <td> 4.74e+15</td> <td> 4.74e+15</td>\n",
       "</tr>\n",
       "<tr>\n",
       "  <th>X Education Forums</th>                                                      <td>-8.686e+15</td> <td> 1.12e+08</td> <td>-7.73e+07</td> <td> 0.000</td> <td>-8.69e+15</td> <td>-8.69e+15</td>\n",
       "</tr>\n",
       "<tr>\n",
       "  <th>Newspaper</th>                                                               <td>-6.562e+15</td> <td> 6.72e+07</td> <td>-9.76e+07</td> <td> 0.000</td> <td>-6.56e+15</td> <td>-6.56e+15</td>\n",
       "</tr>\n",
       "<tr>\n",
       "  <th>Digital Advertisement</th>                                                   <td> 1.464e+15</td> <td> 4.75e+07</td> <td> 3.08e+07</td> <td> 0.000</td> <td> 1.46e+15</td> <td> 1.46e+15</td>\n",
       "</tr>\n",
       "<tr>\n",
       "  <th>Through Recommendations</th>                                                 <td>-1.074e+15</td> <td> 3.57e+07</td> <td>-3.01e+07</td> <td> 0.000</td> <td>-1.07e+15</td> <td>-1.07e+15</td>\n",
       "</tr>\n",
       "<tr>\n",
       "  <th>A free copy of Mastering The Interview</th>                                  <td>-1.606e+14</td> <td> 2.66e+06</td> <td>-6.03e+07</td> <td> 0.000</td> <td>-1.61e+14</td> <td>-1.61e+14</td>\n",
       "</tr>\n",
       "<tr>\n",
       "  <th>Lead Origin_Landing Page Submission</th>                                     <td>-6.492e+13</td> <td> 3.15e+06</td> <td>-2.06e+07</td> <td> 0.000</td> <td>-6.49e+13</td> <td>-6.49e+13</td>\n",
       "</tr>\n",
       "<tr>\n",
       "  <th>Lead Origin_Lead Add Form</th>                                               <td>-3.427e+15</td> <td> 4.76e+07</td> <td> -7.2e+07</td> <td> 0.000</td> <td>-3.43e+15</td> <td>-3.43e+15</td>\n",
       "</tr>\n",
       "<tr>\n",
       "  <th>Lead Origin_Lead Import</th>                                                 <td> 3.304e+15</td> <td> 6.91e+07</td> <td> 4.78e+07</td> <td> 0.000</td> <td>  3.3e+15</td> <td>  3.3e+15</td>\n",
       "</tr>\n",
       "<tr>\n",
       "  <th>What matters most to you in choosing a course_Flexibility & Convenience</th> <td>   41.9937</td> <td> 3.76e-07</td> <td> 1.12e+08</td> <td> 0.000</td> <td>   41.994</td> <td>   41.994</td>\n",
       "</tr>\n",
       "<tr>\n",
       "  <th>What matters most to you in choosing a course_Other</th>                     <td>-5.359e+15</td> <td> 6.73e+07</td> <td>-7.97e+07</td> <td> 0.000</td> <td>-5.36e+15</td> <td>-5.36e+15</td>\n",
       "</tr>\n",
       "<tr>\n",
       "  <th>Specialization_Business Administration</th>                                  <td> 4.179e+13</td> <td> 4.92e+06</td> <td> 8.49e+06</td> <td> 0.000</td> <td> 4.18e+13</td> <td> 4.18e+13</td>\n",
       "</tr>\n",
       "<tr>\n",
       "  <th>Specialization_E-Business</th>                                               <td> 4.859e+14</td> <td> 1.08e+07</td> <td> 4.48e+07</td> <td> 0.000</td> <td> 4.86e+14</td> <td> 4.86e+14</td>\n",
       "</tr>\n",
       "<tr>\n",
       "  <th>Specialization_E-COMMERCE</th>                                               <td> 1.815e+14</td> <td> 8.15e+06</td> <td> 2.23e+07</td> <td> 0.000</td> <td> 1.82e+14</td> <td> 1.82e+14</td>\n",
       "</tr>\n",
       "<tr>\n",
       "  <th>Specialization_International Business</th>                                   <td> 2.722e+14</td> <td> 6.53e+06</td> <td> 4.17e+07</td> <td> 0.000</td> <td> 2.72e+14</td> <td> 2.72e+14</td>\n",
       "</tr>\n",
       "<tr>\n",
       "  <th>Specialization_Management</th>                                               <td> 1.565e+14</td> <td> 2.78e+06</td> <td> 5.62e+07</td> <td> 0.000</td> <td> 1.57e+14</td> <td> 1.57e+14</td>\n",
       "</tr>\n",
       "<tr>\n",
       "  <th>Specialization_Media and Advertising</th>                                    <td>  3.55e+14</td> <td> 6.23e+06</td> <td>  5.7e+07</td> <td> 0.000</td> <td> 3.55e+14</td> <td> 3.55e+14</td>\n",
       "</tr>\n",
       "<tr>\n",
       "  <th>Specialization_Rural and Agribusiness</th>                                   <td> 1.017e+14</td> <td> 9.33e+06</td> <td> 1.09e+07</td> <td> 0.000</td> <td> 1.02e+14</td> <td> 1.02e+14</td>\n",
       "</tr>\n",
       "<tr>\n",
       "  <th>Specialization_Services Excellence</th>                                      <td>-2.526e+14</td> <td>  1.4e+07</td> <td>-1.81e+07</td> <td> 0.000</td> <td>-2.53e+14</td> <td>-2.53e+14</td>\n",
       "</tr>\n",
       "<tr>\n",
       "  <th>Specialization_Travel and Tourism</th>                                       <td> 1.195e+14</td> <td> 6.37e+06</td> <td> 1.88e+07</td> <td> 0.000</td> <td>  1.2e+14</td> <td>  1.2e+14</td>\n",
       "</tr>\n",
       "<tr>\n",
       "  <th>Last Activity_Converted to Lead</th>                                         <td>-4.271e+15</td> <td> 3.04e+07</td> <td>-1.41e+08</td> <td> 0.000</td> <td>-4.27e+15</td> <td>-4.27e+15</td>\n",
       "</tr>\n",
       "<tr>\n",
       "  <th>Last Activity_Email Bounced</th>                                             <td>-4.821e+15</td> <td> 3.07e+07</td> <td>-1.57e+08</td> <td> 0.000</td> <td>-4.82e+15</td> <td>-4.82e+15</td>\n",
       "</tr>\n",
       "<tr>\n",
       "  <th>Last Activity_Email Link Clicked</th>                                        <td>-3.779e+15</td> <td> 3.05e+07</td> <td>-1.24e+08</td> <td> 0.000</td> <td>-3.78e+15</td> <td>-3.78e+15</td>\n",
       "</tr>\n",
       "<tr>\n",
       "  <th>Last Activity_Email Marked Spam</th>                                         <td> -6.33e+14</td> <td> 5.64e+07</td> <td>-1.12e+07</td> <td> 0.000</td> <td>-6.33e+14</td> <td>-6.33e+14</td>\n",
       "</tr>\n",
       "<tr>\n",
       "  <th>Last Activity_Email Opened</th>                                              <td>-3.464e+15</td> <td> 3.01e+07</td> <td>-1.15e+08</td> <td> 0.000</td> <td>-3.46e+15</td> <td>-3.46e+15</td>\n",
       "</tr>\n",
       "<tr>\n",
       "  <th>Last Activity_Email Received</th>                                            <td>  -3.4e+15</td> <td> 5.63e+07</td> <td>-6.04e+07</td> <td> 0.000</td> <td> -3.4e+15</td> <td> -3.4e+15</td>\n",
       "</tr>\n",
       "<tr>\n",
       "  <th>Last Activity_Form Submitted on Website</th>                                 <td>-4.124e+15</td> <td> 3.11e+07</td> <td>-1.33e+08</td> <td> 0.000</td> <td>-4.12e+15</td> <td>-4.12e+15</td>\n",
       "</tr>\n",
       "<tr>\n",
       "  <th>Last Activity_Had a Phone Conversation</th>                                  <td>-3.564e+15</td> <td> 3.42e+07</td> <td>-1.04e+08</td> <td> 0.000</td> <td>-3.56e+15</td> <td>-3.56e+15</td>\n",
       "</tr>\n",
       "<tr>\n",
       "  <th>Last Activity_Olark Chat Conversation</th>                                   <td>-4.681e+15</td> <td> 3.02e+07</td> <td>-1.55e+08</td> <td> 0.000</td> <td>-4.68e+15</td> <td>-4.68e+15</td>\n",
       "</tr>\n",
       "<tr>\n",
       "  <th>Last Activity_Page Visited on Website</th>                                   <td> -3.89e+15</td> <td> 3.03e+07</td> <td>-1.29e+08</td> <td> 0.000</td> <td>-3.89e+15</td> <td>-3.89e+15</td>\n",
       "</tr>\n",
       "<tr>\n",
       "  <th>Last Activity_Resubscribed to emails</th>                                    <td> 1.232e+15</td> <td> 7.36e+07</td> <td> 1.67e+07</td> <td> 0.000</td> <td> 1.23e+15</td> <td> 1.23e+15</td>\n",
       "</tr>\n",
       "<tr>\n",
       "  <th>Last Activity_SMS Sent</th>                                                  <td>-4.774e+15</td> <td> 3.01e+07</td> <td>-1.59e+08</td> <td> 0.000</td> <td>-4.77e+15</td> <td>-4.77e+15</td>\n",
       "</tr>\n",
       "<tr>\n",
       "  <th>Last Activity_Unreachable</th>                                               <td>-3.303e+15</td> <td> 3.11e+07</td> <td>-1.06e+08</td> <td> 0.000</td> <td> -3.3e+15</td> <td> -3.3e+15</td>\n",
       "</tr>\n",
       "<tr>\n",
       "  <th>Last Activity_Unsubscribed</th>                                              <td>-3.607e+15</td> <td> 3.22e+07</td> <td>-1.12e+08</td> <td> 0.000</td> <td>-3.61e+15</td> <td>-3.61e+15</td>\n",
       "</tr>\n",
       "<tr>\n",
       "  <th>Last Activity_View in browser link Clicked</th>                              <td>-3.974e+15</td> <td> 4.07e+07</td> <td>-9.76e+07</td> <td> 0.000</td> <td>-3.97e+15</td> <td>-3.97e+15</td>\n",
       "</tr>\n",
       "<tr>\n",
       "  <th>Last Activity_Visited Booth in Tradeshow</th>                                <td>-7.727e+15</td> <td> 7.36e+07</td> <td>-1.05e+08</td> <td> 0.000</td> <td>-7.73e+15</td> <td>-7.73e+15</td>\n",
       "</tr>\n",
       "<tr>\n",
       "  <th>What is your current occupation_Housewife</th>                               <td>  3.99e+15</td> <td> 2.56e+07</td> <td> 1.56e+08</td> <td> 0.000</td> <td> 3.99e+15</td> <td> 3.99e+15</td>\n",
       "</tr>\n",
       "<tr>\n",
       "  <th>What is your current occupation_Other</th>                                   <td> 2.672e+13</td> <td> 2.14e+07</td> <td> 1.25e+06</td> <td> 0.000</td> <td> 2.67e+13</td> <td> 2.67e+13</td>\n",
       "</tr>\n",
       "<tr>\n",
       "  <th>What is your current occupation_Student</th>                                 <td> 5.656e+14</td> <td> 5.91e+06</td> <td> 9.57e+07</td> <td> 0.000</td> <td> 5.66e+14</td> <td> 5.66e+14</td>\n",
       "</tr>\n",
       "<tr>\n",
       "  <th>What is your current occupation_Unemployed</th>                              <td> 6.673e+14</td> <td>    2e+06</td> <td> 3.33e+08</td> <td> 0.000</td> <td> 6.67e+14</td> <td> 6.67e+14</td>\n",
       "</tr>\n",
       "<tr>\n",
       "  <th>What is your current occupation_Working Professional</th>                    <td> 1.544e+15</td> <td> 3.77e+06</td> <td>  4.1e+08</td> <td> 0.000</td> <td> 1.54e+15</td> <td> 1.54e+15</td>\n",
       "</tr>\n",
       "<tr>\n",
       "  <th>Country_Rest of the World</th>                                               <td>-3.962e+13</td> <td> 4.99e+06</td> <td>-7.94e+06</td> <td> 0.000</td> <td>-3.96e+13</td> <td>-3.96e+13</td>\n",
       "</tr>\n",
       "<tr>\n",
       "  <th>Lead Source_Direct Traffic</th>                                              <td>-3.463e+15</td> <td> 6.14e+07</td> <td>-5.64e+07</td> <td> 0.000</td> <td>-3.46e+15</td> <td>-3.46e+15</td>\n",
       "</tr>\n",
       "<tr>\n",
       "  <th>Lead Source_Facebook</th>                                                    <td>-6.183e+15</td> <td> 9.14e+07</td> <td>-6.77e+07</td> <td> 0.000</td> <td>-6.18e+15</td> <td>-6.18e+15</td>\n",
       "</tr>\n",
       "<tr>\n",
       "  <th>Lead Source_Google</th>                                                      <td>-3.381e+15</td> <td> 6.14e+07</td> <td>-5.51e+07</td> <td> 0.000</td> <td>-3.38e+15</td> <td>-3.38e+15</td>\n",
       "</tr>\n",
       "<tr>\n",
       "  <th>Lead Source_Live Chat</th>                                                   <td> 6.041e+15</td> <td> 6.14e+07</td> <td> 9.85e+07</td> <td> 0.000</td> <td> 6.04e+15</td> <td> 6.04e+15</td>\n",
       "</tr>\n",
       "<tr>\n",
       "  <th>Lead Source_NC_EDM</th>                                                      <td> 5.371e+14</td> <td>  9.1e+07</td> <td>  5.9e+06</td> <td> 0.000</td> <td> 5.37e+14</td> <td> 5.37e+14</td>\n",
       "</tr>\n",
       "<tr>\n",
       "  <th>Lead Source_Olark Chat</th>                                                  <td>-2.709e+15</td> <td> 6.13e+07</td> <td>-4.42e+07</td> <td> 0.000</td> <td>-2.71e+15</td> <td>-2.71e+15</td>\n",
       "</tr>\n",
       "<tr>\n",
       "  <th>Lead Source_Organic Search</th>                                              <td>-3.462e+15</td> <td> 6.15e+07</td> <td>-5.63e+07</td> <td> 0.000</td> <td>-3.46e+15</td> <td>-3.46e+15</td>\n",
       "</tr>\n",
       "<tr>\n",
       "  <th>Lead Source_Pay per Click Ads</th>                                           <td>-7.707e+15</td> <td>  9.1e+07</td> <td>-8.47e+07</td> <td> 0.000</td> <td>-7.71e+15</td> <td>-7.71e+15</td>\n",
       "</tr>\n",
       "<tr>\n",
       "  <th>Lead Source_Press_Release</th>                                               <td>-4.059e+15</td> <td> 9.14e+07</td> <td>-4.44e+07</td> <td> 0.000</td> <td>-4.06e+15</td> <td>-4.06e+15</td>\n",
       "</tr>\n",
       "<tr>\n",
       "  <th>Lead Source_Reference</th>                                                   <td> 1.656e+15</td> <td>  3.9e+07</td> <td> 4.25e+07</td> <td> 0.000</td> <td> 1.66e+15</td> <td> 1.66e+15</td>\n",
       "</tr>\n",
       "<tr>\n",
       "  <th>Lead Source_Referral Sites</th>                                              <td>-3.647e+15</td> <td> 6.18e+07</td> <td> -5.9e+07</td> <td> 0.000</td> <td>-3.65e+15</td> <td>-3.65e+15</td>\n",
       "</tr>\n",
       "<tr>\n",
       "  <th>Lead Source_Social Media</th>                                                <td>-5.065e+15</td> <td> 7.77e+07</td> <td>-6.52e+07</td> <td> 0.000</td> <td>-5.07e+15</td> <td>-5.07e+15</td>\n",
       "</tr>\n",
       "<tr>\n",
       "  <th>Lead Source_WeLearn</th>                                                     <td>    0.4780</td> <td>  2.4e-08</td> <td>    2e+07</td> <td> 0.000</td> <td>    0.478</td> <td>    0.478</td>\n",
       "</tr>\n",
       "<tr>\n",
       "  <th>Lead Source_Welingak Website</th>                                            <td> 2.043e+15</td> <td> 3.94e+07</td> <td> 5.18e+07</td> <td> 0.000</td> <td> 2.04e+15</td> <td> 2.04e+15</td>\n",
       "</tr>\n",
       "<tr>\n",
       "  <th>Lead Source_bing</th>                                                        <td>-3.965e+15</td> <td> 7.26e+07</td> <td>-5.46e+07</td> <td> 0.000</td> <td>-3.97e+15</td> <td>-3.97e+15</td>\n",
       "</tr>\n",
       "<tr>\n",
       "  <th>Lead Source_blog</th>                                                        <td>-3.473e+15</td> <td> 9.11e+07</td> <td>-3.81e+07</td> <td> 0.000</td> <td>-3.47e+15</td> <td>-3.47e+15</td>\n",
       "</tr>\n",
       "<tr>\n",
       "  <th>Lead Source_google</th>                                                      <td> -4.48e+15</td> <td> 7.02e+07</td> <td>-6.39e+07</td> <td> 0.000</td> <td>-4.48e+15</td> <td>-4.48e+15</td>\n",
       "</tr>\n",
       "<tr>\n",
       "  <th>Lead Source_testone</th>                                                     <td>-8.098e+15</td> <td>  9.1e+07</td> <td>-8.89e+07</td> <td> 0.000</td> <td> -8.1e+15</td> <td> -8.1e+15</td>\n",
       "</tr>\n",
       "<tr>\n",
       "  <th>Lead Source_welearnblog_Home</th>                                            <td>-7.764e+15</td> <td>  9.1e+07</td> <td>-8.54e+07</td> <td> 0.000</td> <td>-7.76e+15</td> <td>-7.76e+15</td>\n",
       "</tr>\n",
       "<tr>\n",
       "  <th>Lead Source_youtubechannel</th>                                              <td>-3.174e+15</td> <td> 9.19e+07</td> <td>-3.46e+07</td> <td> 0.000</td> <td>-3.17e+15</td> <td>-3.17e+15</td>\n",
       "</tr>\n",
       "</table>"
      ],
      "text/plain": [
       "<class 'statsmodels.iolib.summary.Summary'>\n",
       "\"\"\"\n",
       "                 Generalized Linear Model Regression Results                  \n",
       "==============================================================================\n",
       "Dep. Variable:              Converted   No. Observations:                 6351\n",
       "Model:                            GLM   Df Residuals:                     6284\n",
       "Model Family:                Binomial   Df Model:                           66\n",
       "Link Function:                  logit   Scale:                          1.0000\n",
       "Method:                          IRLS   Log-Likelihood:                    nan\n",
       "Date:                Sun, 07 Mar 2021   Deviance:                          nan\n",
       "Time:                        20:44:02   Pearson chi2:                 7.71e+18\n",
       "No. Iterations:                   100                                         \n",
       "Covariance Type:            nonrobust                                         \n",
       "===========================================================================================================================================\n",
       "                                                                              coef    std err          z      P>|z|      [0.025      0.975]\n",
       "-------------------------------------------------------------------------------------------------------------------------------------------\n",
       "const                                                                    6.582e+15   6.83e+07   9.64e+07      0.000    6.58e+15    6.58e+15\n",
       "Do Not Email                                                             6.527e+12   4.43e+06   1.47e+06      0.000    6.53e+12    6.53e+12\n",
       "Do Not Call                                                              2.806e+15   4.76e+07    5.9e+07      0.000    2.81e+15    2.81e+15\n",
       "TotalVisits                                                              9.359e+13   9.75e+05    9.6e+07      0.000    9.36e+13    9.36e+13\n",
       "Total Time Spent on Website                                              7.983e+14   9.79e+05   8.15e+08      0.000    7.98e+14    7.98e+14\n",
       "Page Views Per Visit                                                    -1.206e+14   1.37e+06   -8.8e+07      0.000   -1.21e+14   -1.21e+14\n",
       "Search                                                                   7.642e+14   2.38e+07   3.21e+07      0.000    7.64e+14    7.64e+14\n",
       "Newspaper Article                                                        4.741e+15   6.73e+07   7.05e+07      0.000    4.74e+15    4.74e+15\n",
       "X Education Forums                                                      -8.686e+15   1.12e+08  -7.73e+07      0.000   -8.69e+15   -8.69e+15\n",
       "Newspaper                                                               -6.562e+15   6.72e+07  -9.76e+07      0.000   -6.56e+15   -6.56e+15\n",
       "Digital Advertisement                                                    1.464e+15   4.75e+07   3.08e+07      0.000    1.46e+15    1.46e+15\n",
       "Through Recommendations                                                 -1.074e+15   3.57e+07  -3.01e+07      0.000   -1.07e+15   -1.07e+15\n",
       "A free copy of Mastering The Interview                                  -1.606e+14   2.66e+06  -6.03e+07      0.000   -1.61e+14   -1.61e+14\n",
       "Lead Origin_Landing Page Submission                                     -6.492e+13   3.15e+06  -2.06e+07      0.000   -6.49e+13   -6.49e+13\n",
       "Lead Origin_Lead Add Form                                               -3.427e+15   4.76e+07   -7.2e+07      0.000   -3.43e+15   -3.43e+15\n",
       "Lead Origin_Lead Import                                                  3.304e+15   6.91e+07   4.78e+07      0.000     3.3e+15     3.3e+15\n",
       "What matters most to you in choosing a course_Flexibility & Convenience    41.9937   3.76e-07   1.12e+08      0.000      41.994      41.994\n",
       "What matters most to you in choosing a course_Other                     -5.359e+15   6.73e+07  -7.97e+07      0.000   -5.36e+15   -5.36e+15\n",
       "Specialization_Business Administration                                   4.179e+13   4.92e+06   8.49e+06      0.000    4.18e+13    4.18e+13\n",
       "Specialization_E-Business                                                4.859e+14   1.08e+07   4.48e+07      0.000    4.86e+14    4.86e+14\n",
       "Specialization_E-COMMERCE                                                1.815e+14   8.15e+06   2.23e+07      0.000    1.82e+14    1.82e+14\n",
       "Specialization_International Business                                    2.722e+14   6.53e+06   4.17e+07      0.000    2.72e+14    2.72e+14\n",
       "Specialization_Management                                                1.565e+14   2.78e+06   5.62e+07      0.000    1.57e+14    1.57e+14\n",
       "Specialization_Media and Advertising                                      3.55e+14   6.23e+06    5.7e+07      0.000    3.55e+14    3.55e+14\n",
       "Specialization_Rural and Agribusiness                                    1.017e+14   9.33e+06   1.09e+07      0.000    1.02e+14    1.02e+14\n",
       "Specialization_Services Excellence                                      -2.526e+14    1.4e+07  -1.81e+07      0.000   -2.53e+14   -2.53e+14\n",
       "Specialization_Travel and Tourism                                        1.195e+14   6.37e+06   1.88e+07      0.000     1.2e+14     1.2e+14\n",
       "Last Activity_Converted to Lead                                         -4.271e+15   3.04e+07  -1.41e+08      0.000   -4.27e+15   -4.27e+15\n",
       "Last Activity_Email Bounced                                             -4.821e+15   3.07e+07  -1.57e+08      0.000   -4.82e+15   -4.82e+15\n",
       "Last Activity_Email Link Clicked                                        -3.779e+15   3.05e+07  -1.24e+08      0.000   -3.78e+15   -3.78e+15\n",
       "Last Activity_Email Marked Spam                                          -6.33e+14   5.64e+07  -1.12e+07      0.000   -6.33e+14   -6.33e+14\n",
       "Last Activity_Email Opened                                              -3.464e+15   3.01e+07  -1.15e+08      0.000   -3.46e+15   -3.46e+15\n",
       "Last Activity_Email Received                                              -3.4e+15   5.63e+07  -6.04e+07      0.000    -3.4e+15    -3.4e+15\n",
       "Last Activity_Form Submitted on Website                                 -4.124e+15   3.11e+07  -1.33e+08      0.000   -4.12e+15   -4.12e+15\n",
       "Last Activity_Had a Phone Conversation                                  -3.564e+15   3.42e+07  -1.04e+08      0.000   -3.56e+15   -3.56e+15\n",
       "Last Activity_Olark Chat Conversation                                   -4.681e+15   3.02e+07  -1.55e+08      0.000   -4.68e+15   -4.68e+15\n",
       "Last Activity_Page Visited on Website                                    -3.89e+15   3.03e+07  -1.29e+08      0.000   -3.89e+15   -3.89e+15\n",
       "Last Activity_Resubscribed to emails                                     1.232e+15   7.36e+07   1.67e+07      0.000    1.23e+15    1.23e+15\n",
       "Last Activity_SMS Sent                                                  -4.774e+15   3.01e+07  -1.59e+08      0.000   -4.77e+15   -4.77e+15\n",
       "Last Activity_Unreachable                                               -3.303e+15   3.11e+07  -1.06e+08      0.000    -3.3e+15    -3.3e+15\n",
       "Last Activity_Unsubscribed                                              -3.607e+15   3.22e+07  -1.12e+08      0.000   -3.61e+15   -3.61e+15\n",
       "Last Activity_View in browser link Clicked                              -3.974e+15   4.07e+07  -9.76e+07      0.000   -3.97e+15   -3.97e+15\n",
       "Last Activity_Visited Booth in Tradeshow                                -7.727e+15   7.36e+07  -1.05e+08      0.000   -7.73e+15   -7.73e+15\n",
       "What is your current occupation_Housewife                                 3.99e+15   2.56e+07   1.56e+08      0.000    3.99e+15    3.99e+15\n",
       "What is your current occupation_Other                                    2.672e+13   2.14e+07   1.25e+06      0.000    2.67e+13    2.67e+13\n",
       "What is your current occupation_Student                                  5.656e+14   5.91e+06   9.57e+07      0.000    5.66e+14    5.66e+14\n",
       "What is your current occupation_Unemployed                               6.673e+14      2e+06   3.33e+08      0.000    6.67e+14    6.67e+14\n",
       "What is your current occupation_Working Professional                     1.544e+15   3.77e+06    4.1e+08      0.000    1.54e+15    1.54e+15\n",
       "Country_Rest of the World                                               -3.962e+13   4.99e+06  -7.94e+06      0.000   -3.96e+13   -3.96e+13\n",
       "Lead Source_Direct Traffic                                              -3.463e+15   6.14e+07  -5.64e+07      0.000   -3.46e+15   -3.46e+15\n",
       "Lead Source_Facebook                                                    -6.183e+15   9.14e+07  -6.77e+07      0.000   -6.18e+15   -6.18e+15\n",
       "Lead Source_Google                                                      -3.381e+15   6.14e+07  -5.51e+07      0.000   -3.38e+15   -3.38e+15\n",
       "Lead Source_Live Chat                                                    6.041e+15   6.14e+07   9.85e+07      0.000    6.04e+15    6.04e+15\n",
       "Lead Source_NC_EDM                                                       5.371e+14    9.1e+07    5.9e+06      0.000    5.37e+14    5.37e+14\n",
       "Lead Source_Olark Chat                                                  -2.709e+15   6.13e+07  -4.42e+07      0.000   -2.71e+15   -2.71e+15\n",
       "Lead Source_Organic Search                                              -3.462e+15   6.15e+07  -5.63e+07      0.000   -3.46e+15   -3.46e+15\n",
       "Lead Source_Pay per Click Ads                                           -7.707e+15    9.1e+07  -8.47e+07      0.000   -7.71e+15   -7.71e+15\n",
       "Lead Source_Press_Release                                               -4.059e+15   9.14e+07  -4.44e+07      0.000   -4.06e+15   -4.06e+15\n",
       "Lead Source_Reference                                                    1.656e+15    3.9e+07   4.25e+07      0.000    1.66e+15    1.66e+15\n",
       "Lead Source_Referral Sites                                              -3.647e+15   6.18e+07   -5.9e+07      0.000   -3.65e+15   -3.65e+15\n",
       "Lead Source_Social Media                                                -5.065e+15   7.77e+07  -6.52e+07      0.000   -5.07e+15   -5.07e+15\n",
       "Lead Source_WeLearn                                                         0.4780    2.4e-08      2e+07      0.000       0.478       0.478\n",
       "Lead Source_Welingak Website                                             2.043e+15   3.94e+07   5.18e+07      0.000    2.04e+15    2.04e+15\n",
       "Lead Source_bing                                                        -3.965e+15   7.26e+07  -5.46e+07      0.000   -3.97e+15   -3.97e+15\n",
       "Lead Source_blog                                                        -3.473e+15   9.11e+07  -3.81e+07      0.000   -3.47e+15   -3.47e+15\n",
       "Lead Source_google                                                       -4.48e+15   7.02e+07  -6.39e+07      0.000   -4.48e+15   -4.48e+15\n",
       "Lead Source_testone                                                     -8.098e+15    9.1e+07  -8.89e+07      0.000    -8.1e+15    -8.1e+15\n",
       "Lead Source_welearnblog_Home                                            -7.764e+15    9.1e+07  -8.54e+07      0.000   -7.76e+15   -7.76e+15\n",
       "Lead Source_youtubechannel                                              -3.174e+15   9.19e+07  -3.46e+07      0.000   -3.17e+15   -3.17e+15\n",
       "===========================================================================================================================================\n",
       "\"\"\""
      ]
     },
     "execution_count": 902,
     "metadata": {},
     "output_type": "execute_result"
    }
   ],
   "source": [
    "# Logistic regression model\n",
    "logm1 = sm.GLM(y_train,(sm.add_constant(X_train)), family = sm.families.Binomial())\n",
    "logm1.fit().summary()"
   ]
  },
  {
   "cell_type": "code",
   "execution_count": null,
   "metadata": {},
   "outputs": [],
   "source": []
  },
  {
   "cell_type": "markdown",
   "metadata": {},
   "source": [
    "### Feature Selection Using RFE"
   ]
  },
  {
   "cell_type": "code",
   "execution_count": 903,
   "metadata": {},
   "outputs": [],
   "source": [
    "logreg = LogisticRegression()"
   ]
  },
  {
   "cell_type": "code",
   "execution_count": 904,
   "metadata": {},
   "outputs": [],
   "source": [
    "rfe = RFE(logreg,20)             # running RFE with 13 variables as output\n",
    "rfe = rfe.fit(X_train, y_train)"
   ]
  },
  {
   "cell_type": "code",
   "execution_count": 905,
   "metadata": {},
   "outputs": [
    {
     "data": {
      "text/plain": [
       "array([ True, False, False,  True, False, False, False, False, False,\n",
       "       False, False, False, False,  True, False, False, False, False,\n",
       "       False, False, False, False, False, False, False, False,  True,\n",
       "       False, False, False, False, False, False,  True,  True, False,\n",
       "        True,  True, False,  True, False, False,  True,  True,  True,\n",
       "        True,  True, False,  True, False,  True, False, False, False,\n",
       "        True, False, False, False,  True, False, False,  True, False,\n",
       "       False,  True, False, False, False])"
      ]
     },
     "execution_count": 905,
     "metadata": {},
     "output_type": "execute_result"
    }
   ],
   "source": [
    "rfe.support_"
   ]
  },
  {
   "cell_type": "code",
   "execution_count": 906,
   "metadata": {
    "scrolled": true
   },
   "outputs": [
    {
     "data": {
      "text/plain": [
       "[('Do Not Email', True, 1),\n",
       " ('Do Not Call', False, 9),\n",
       " ('TotalVisits', False, 30),\n",
       " ('Total Time Spent on Website', True, 1),\n",
       " ('Page Views Per Visit', False, 32),\n",
       " ('Search', False, 46),\n",
       " ('Newspaper Article', False, 19),\n",
       " ('X Education Forums', False, 29),\n",
       " ('Newspaper', False, 3),\n",
       " ('Digital Advertisement', False, 35),\n",
       " ('Through Recommendations', False, 39),\n",
       " ('A free copy of Mastering The Interview', False, 37),\n",
       " ('Lead Origin_Landing Page Submission', False, 14),\n",
       " ('Lead Origin_Lead Add Form', True, 1),\n",
       " ('Lead Origin_Lead Import', False, 28),\n",
       " ('What matters most to you in choosing a course_Flexibility & Convenience',\n",
       "  False,\n",
       "  48),\n",
       " ('What matters most to you in choosing a course_Other', False, 43),\n",
       " ('Specialization_Business Administration', False, 18),\n",
       " ('Specialization_E-Business', False, 13),\n",
       " ('Specialization_E-COMMERCE', False, 15),\n",
       " ('Specialization_International Business', False, 20),\n",
       " ('Specialization_Management', False, 16),\n",
       " ('Specialization_Media and Advertising', False, 27),\n",
       " ('Specialization_Rural and Agribusiness', False, 17),\n",
       " ('Specialization_Services Excellence', False, 45),\n",
       " ('Specialization_Travel and Tourism', False, 22),\n",
       " ('Last Activity_Converted to Lead', True, 1),\n",
       " ('Last Activity_Email Bounced', False, 4),\n",
       " ('Last Activity_Email Link Clicked', False, 12),\n",
       " ('Last Activity_Email Marked Spam', False, 2),\n",
       " ('Last Activity_Email Opened', False, 24),\n",
       " ('Last Activity_Email Received', False, 40),\n",
       " ('Last Activity_Form Submitted on Website', False, 7),\n",
       " ('Last Activity_Had a Phone Conversation', True, 1),\n",
       " ('Last Activity_Olark Chat Conversation', True, 1),\n",
       " ('Last Activity_Page Visited on Website', False, 11),\n",
       " ('Last Activity_Resubscribed to emails', True, 1),\n",
       " ('Last Activity_SMS Sent', True, 1),\n",
       " ('Last Activity_Unreachable', False, 38),\n",
       " ('Last Activity_Unsubscribed', True, 1),\n",
       " ('Last Activity_View in browser link Clicked', False, 10),\n",
       " ('Last Activity_Visited Booth in Tradeshow', False, 34),\n",
       " ('What is your current occupation_Housewife', True, 1),\n",
       " ('What is your current occupation_Other', True, 1),\n",
       " ('What is your current occupation_Student', True, 1),\n",
       " ('What is your current occupation_Unemployed', True, 1),\n",
       " ('What is your current occupation_Working Professional', True, 1),\n",
       " ('Country_Rest of the World', False, 47),\n",
       " ('Lead Source_Direct Traffic', True, 1),\n",
       " ('Lead Source_Facebook', False, 31),\n",
       " ('Lead Source_Google', True, 1),\n",
       " ('Lead Source_Live Chat', False, 23),\n",
       " ('Lead Source_NC_EDM', False, 8),\n",
       " ('Lead Source_Olark Chat', False, 6),\n",
       " ('Lead Source_Organic Search', True, 1),\n",
       " ('Lead Source_Pay per Click Ads', False, 25),\n",
       " ('Lead Source_Press_Release', False, 42),\n",
       " ('Lead Source_Reference', False, 5),\n",
       " ('Lead Source_Referral Sites', True, 1),\n",
       " ('Lead Source_Social Media', False, 21),\n",
       " ('Lead Source_WeLearn', False, 49),\n",
       " ('Lead Source_Welingak Website', True, 1),\n",
       " ('Lead Source_bing', False, 44),\n",
       " ('Lead Source_blog', False, 33),\n",
       " ('Lead Source_google', True, 1),\n",
       " ('Lead Source_testone', False, 26),\n",
       " ('Lead Source_welearnblog_Home', False, 36),\n",
       " ('Lead Source_youtubechannel', False, 41)]"
      ]
     },
     "execution_count": 906,
     "metadata": {},
     "output_type": "execute_result"
    }
   ],
   "source": [
    "list(zip(X_train.columns, rfe.support_, rfe.ranking_))"
   ]
  },
  {
   "cell_type": "code",
   "execution_count": 907,
   "metadata": {},
   "outputs": [],
   "source": [
    "col = X_train.columns[rfe.support_]"
   ]
  },
  {
   "cell_type": "code",
   "execution_count": 908,
   "metadata": {},
   "outputs": [
    {
     "data": {
      "text/plain": [
       "Index(['Do Not Call', 'TotalVisits', 'Page Views Per Visit', 'Search',\n",
       "       'Newspaper Article', 'X Education Forums', 'Newspaper',\n",
       "       'Digital Advertisement', 'Through Recommendations',\n",
       "       'A free copy of Mastering The Interview',\n",
       "       'Lead Origin_Landing Page Submission', 'Lead Origin_Lead Import',\n",
       "       'What matters most to you in choosing a course_Flexibility & Convenience',\n",
       "       'What matters most to you in choosing a course_Other',\n",
       "       'Specialization_Business Administration', 'Specialization_E-Business',\n",
       "       'Specialization_E-COMMERCE', 'Specialization_International Business',\n",
       "       'Specialization_Management', 'Specialization_Media and Advertising',\n",
       "       'Specialization_Rural and Agribusiness',\n",
       "       'Specialization_Services Excellence',\n",
       "       'Specialization_Travel and Tourism', 'Last Activity_Email Bounced',\n",
       "       'Last Activity_Email Link Clicked', 'Last Activity_Email Marked Spam',\n",
       "       'Last Activity_Email Opened', 'Last Activity_Email Received',\n",
       "       'Last Activity_Form Submitted on Website',\n",
       "       'Last Activity_Page Visited on Website', 'Last Activity_Unreachable',\n",
       "       'Last Activity_View in browser link Clicked',\n",
       "       'Last Activity_Visited Booth in Tradeshow', 'Country_Rest of the World',\n",
       "       'Lead Source_Facebook', 'Lead Source_Live Chat', 'Lead Source_NC_EDM',\n",
       "       'Lead Source_Olark Chat', 'Lead Source_Pay per Click Ads',\n",
       "       'Lead Source_Press_Release', 'Lead Source_Reference',\n",
       "       'Lead Source_Social Media', 'Lead Source_WeLearn', 'Lead Source_bing',\n",
       "       'Lead Source_blog', 'Lead Source_testone',\n",
       "       'Lead Source_welearnblog_Home', 'Lead Source_youtubechannel'],\n",
       "      dtype='object')"
      ]
     },
     "execution_count": 908,
     "metadata": {},
     "output_type": "execute_result"
    }
   ],
   "source": [
    "X_train.columns[~rfe.support_]"
   ]
  },
  {
   "cell_type": "markdown",
   "metadata": {},
   "source": [
    "#### Assessing the model with StatsModels"
   ]
  },
  {
   "cell_type": "code",
   "execution_count": 909,
   "metadata": {},
   "outputs": [
    {
     "data": {
      "text/html": [
       "<table class=\"simpletable\">\n",
       "<caption>Generalized Linear Model Regression Results</caption>\n",
       "<tr>\n",
       "  <th>Dep. Variable:</th>       <td>Converted</td>    <th>  No. Observations:  </th>  <td>  6351</td> \n",
       "</tr>\n",
       "<tr>\n",
       "  <th>Model:</th>                  <td>GLM</td>       <th>  Df Residuals:      </th>  <td>  6330</td> \n",
       "</tr>\n",
       "<tr>\n",
       "  <th>Model Family:</th>        <td>Binomial</td>     <th>  Df Model:          </th>  <td>    20</td> \n",
       "</tr>\n",
       "<tr>\n",
       "  <th>Link Function:</th>         <td>logit</td>      <th>  Scale:             </th> <td>  1.0000</td>\n",
       "</tr>\n",
       "<tr>\n",
       "  <th>Method:</th>                <td>IRLS</td>       <th>  Log-Likelihood:    </th> <td> -2566.6</td>\n",
       "</tr>\n",
       "<tr>\n",
       "  <th>Date:</th>            <td>Sun, 07 Mar 2021</td> <th>  Deviance:          </th> <td>  5133.1</td>\n",
       "</tr>\n",
       "<tr>\n",
       "  <th>Time:</th>                <td>20:44:15</td>     <th>  Pearson chi2:      </th> <td>6.20e+03</td>\n",
       "</tr>\n",
       "<tr>\n",
       "  <th>No. Iterations:</th>         <td>21</td>        <th>                     </th>     <td> </td>   \n",
       "</tr>\n",
       "<tr>\n",
       "  <th>Covariance Type:</th>     <td>nonrobust</td>    <th>                     </th>     <td> </td>   \n",
       "</tr>\n",
       "</table>\n",
       "<table class=\"simpletable\">\n",
       "<tr>\n",
       "                            <td></td>                              <th>coef</th>     <th>std err</th>      <th>z</th>      <th>P>|z|</th>  <th>[0.025</th>    <th>0.975]</th>  \n",
       "</tr>\n",
       "<tr>\n",
       "  <th>const</th>                                                <td>   -0.9490</td> <td>    0.110</td> <td>   -8.602</td> <td> 0.000</td> <td>   -1.165</td> <td>   -0.733</td>\n",
       "</tr>\n",
       "<tr>\n",
       "  <th>Do Not Email</th>                                         <td>   -1.7806</td> <td>    0.185</td> <td>   -9.640</td> <td> 0.000</td> <td>   -2.143</td> <td>   -1.419</td>\n",
       "</tr>\n",
       "<tr>\n",
       "  <th>Total Time Spent on Website</th>                          <td>    1.1364</td> <td>    0.041</td> <td>   27.697</td> <td> 0.000</td> <td>    1.056</td> <td>    1.217</td>\n",
       "</tr>\n",
       "<tr>\n",
       "  <th>Lead Origin_Lead Add Form</th>                            <td>    2.2045</td> <td>    0.228</td> <td>    9.654</td> <td> 0.000</td> <td>    1.757</td> <td>    2.652</td>\n",
       "</tr>\n",
       "<tr>\n",
       "  <th>Last Activity_Converted to Lead</th>                      <td>   -1.2580</td> <td>    0.225</td> <td>   -5.603</td> <td> 0.000</td> <td>   -1.698</td> <td>   -0.818</td>\n",
       "</tr>\n",
       "<tr>\n",
       "  <th>Last Activity_Had a Phone Conversation</th>               <td>    2.6368</td> <td>    0.745</td> <td>    3.541</td> <td> 0.000</td> <td>    1.177</td> <td>    4.096</td>\n",
       "</tr>\n",
       "<tr>\n",
       "  <th>Last Activity_Olark Chat Conversation</th>                <td>   -1.3764</td> <td>    0.164</td> <td>   -8.376</td> <td> 0.000</td> <td>   -1.698</td> <td>   -1.054</td>\n",
       "</tr>\n",
       "<tr>\n",
       "  <th>Last Activity_Resubscribed to emails</th>                 <td>   24.5249</td> <td> 4.82e+04</td> <td>    0.001</td> <td> 1.000</td> <td>-9.44e+04</td> <td> 9.45e+04</td>\n",
       "</tr>\n",
       "<tr>\n",
       "  <th>Last Activity_SMS Sent</th>                               <td>    1.2489</td> <td>    0.076</td> <td>   16.404</td> <td> 0.000</td> <td>    1.100</td> <td>    1.398</td>\n",
       "</tr>\n",
       "<tr>\n",
       "  <th>Last Activity_Unsubscribed</th>                           <td>    1.3928</td> <td>    0.466</td> <td>    2.986</td> <td> 0.003</td> <td>    0.479</td> <td>    2.307</td>\n",
       "</tr>\n",
       "<tr>\n",
       "  <th>What is your current occupation_Housewife</th>            <td>   24.0106</td> <td> 1.56e+04</td> <td>    0.002</td> <td> 0.999</td> <td>-3.06e+04</td> <td> 3.07e+04</td>\n",
       "</tr>\n",
       "<tr>\n",
       "  <th>What is your current occupation_Other</th>                <td>    2.0391</td> <td>    0.722</td> <td>    2.823</td> <td> 0.005</td> <td>    0.623</td> <td>    3.455</td>\n",
       "</tr>\n",
       "<tr>\n",
       "  <th>What is your current occupation_Student</th>              <td>    1.4148</td> <td>    0.232</td> <td>    6.109</td> <td> 0.000</td> <td>    0.961</td> <td>    1.869</td>\n",
       "</tr>\n",
       "<tr>\n",
       "  <th>What is your current occupation_Unemployed</th>           <td>    1.2742</td> <td>    0.088</td> <td>   14.411</td> <td> 0.000</td> <td>    1.101</td> <td>    1.448</td>\n",
       "</tr>\n",
       "<tr>\n",
       "  <th>What is your current occupation_Working Professional</th> <td>    3.7750</td> <td>    0.200</td> <td>   18.867</td> <td> 0.000</td> <td>    3.383</td> <td>    4.167</td>\n",
       "</tr>\n",
       "<tr>\n",
       "  <th>Lead Source_Direct Traffic</th>                           <td>   -1.6162</td> <td>    0.119</td> <td>  -13.550</td> <td> 0.000</td> <td>   -1.850</td> <td>   -1.382</td>\n",
       "</tr>\n",
       "<tr>\n",
       "  <th>Lead Source_Google</th>                                   <td>   -1.2196</td> <td>    0.113</td> <td>  -10.797</td> <td> 0.000</td> <td>   -1.441</td> <td>   -0.998</td>\n",
       "</tr>\n",
       "<tr>\n",
       "  <th>Lead Source_Organic Search</th>                           <td>   -1.4605</td> <td>    0.137</td> <td>  -10.663</td> <td> 0.000</td> <td>   -1.729</td> <td>   -1.192</td>\n",
       "</tr>\n",
       "<tr>\n",
       "  <th>Lead Source_Referral Sites</th>                           <td>   -1.5964</td> <td>    0.360</td> <td>   -4.435</td> <td> 0.000</td> <td>   -2.302</td> <td>   -0.891</td>\n",
       "</tr>\n",
       "<tr>\n",
       "  <th>Lead Source_Welingak Website</th>                         <td>    1.9998</td> <td>    0.753</td> <td>    2.657</td> <td> 0.008</td> <td>    0.525</td> <td>    3.475</td>\n",
       "</tr>\n",
       "<tr>\n",
       "  <th>Lead Source_google</th>                                   <td>  -22.0358</td> <td> 2.21e+04</td> <td>   -0.001</td> <td> 0.999</td> <td>-4.33e+04</td> <td> 4.33e+04</td>\n",
       "</tr>\n",
       "</table>"
      ],
      "text/plain": [
       "<class 'statsmodels.iolib.summary.Summary'>\n",
       "\"\"\"\n",
       "                 Generalized Linear Model Regression Results                  \n",
       "==============================================================================\n",
       "Dep. Variable:              Converted   No. Observations:                 6351\n",
       "Model:                            GLM   Df Residuals:                     6330\n",
       "Model Family:                Binomial   Df Model:                           20\n",
       "Link Function:                  logit   Scale:                          1.0000\n",
       "Method:                          IRLS   Log-Likelihood:                -2566.6\n",
       "Date:                Sun, 07 Mar 2021   Deviance:                       5133.1\n",
       "Time:                        20:44:15   Pearson chi2:                 6.20e+03\n",
       "No. Iterations:                    21                                         \n",
       "Covariance Type:            nonrobust                                         \n",
       "========================================================================================================================\n",
       "                                                           coef    std err          z      P>|z|      [0.025      0.975]\n",
       "------------------------------------------------------------------------------------------------------------------------\n",
       "const                                                   -0.9490      0.110     -8.602      0.000      -1.165      -0.733\n",
       "Do Not Email                                            -1.7806      0.185     -9.640      0.000      -2.143      -1.419\n",
       "Total Time Spent on Website                              1.1364      0.041     27.697      0.000       1.056       1.217\n",
       "Lead Origin_Lead Add Form                                2.2045      0.228      9.654      0.000       1.757       2.652\n",
       "Last Activity_Converted to Lead                         -1.2580      0.225     -5.603      0.000      -1.698      -0.818\n",
       "Last Activity_Had a Phone Conversation                   2.6368      0.745      3.541      0.000       1.177       4.096\n",
       "Last Activity_Olark Chat Conversation                   -1.3764      0.164     -8.376      0.000      -1.698      -1.054\n",
       "Last Activity_Resubscribed to emails                    24.5249   4.82e+04      0.001      1.000   -9.44e+04    9.45e+04\n",
       "Last Activity_SMS Sent                                   1.2489      0.076     16.404      0.000       1.100       1.398\n",
       "Last Activity_Unsubscribed                               1.3928      0.466      2.986      0.003       0.479       2.307\n",
       "What is your current occupation_Housewife               24.0106   1.56e+04      0.002      0.999   -3.06e+04    3.07e+04\n",
       "What is your current occupation_Other                    2.0391      0.722      2.823      0.005       0.623       3.455\n",
       "What is your current occupation_Student                  1.4148      0.232      6.109      0.000       0.961       1.869\n",
       "What is your current occupation_Unemployed               1.2742      0.088     14.411      0.000       1.101       1.448\n",
       "What is your current occupation_Working Professional     3.7750      0.200     18.867      0.000       3.383       4.167\n",
       "Lead Source_Direct Traffic                              -1.6162      0.119    -13.550      0.000      -1.850      -1.382\n",
       "Lead Source_Google                                      -1.2196      0.113    -10.797      0.000      -1.441      -0.998\n",
       "Lead Source_Organic Search                              -1.4605      0.137    -10.663      0.000      -1.729      -1.192\n",
       "Lead Source_Referral Sites                              -1.5964      0.360     -4.435      0.000      -2.302      -0.891\n",
       "Lead Source_Welingak Website                             1.9998      0.753      2.657      0.008       0.525       3.475\n",
       "Lead Source_google                                     -22.0358   2.21e+04     -0.001      0.999   -4.33e+04    4.33e+04\n",
       "========================================================================================================================\n",
       "\"\"\""
      ]
     },
     "execution_count": 909,
     "metadata": {},
     "output_type": "execute_result"
    }
   ],
   "source": [
    "X_train_sm = sm.add_constant(X_train[col])\n",
    "logm2 = sm.GLM(y_train,X_train_sm, family = sm.families.Binomial())\n",
    "res = logm2.fit()\n",
    "res.summary()"
   ]
  },
  {
   "cell_type": "code",
   "execution_count": 910,
   "metadata": {},
   "outputs": [],
   "source": [
    "col=col.drop(['What is your current occupation_Housewife','Last Activity_Resubscribed to emails','Lead Source_google'])"
   ]
  },
  {
   "cell_type": "code",
   "execution_count": 911,
   "metadata": {},
   "outputs": [
    {
     "data": {
      "text/html": [
       "<table class=\"simpletable\">\n",
       "<caption>Generalized Linear Model Regression Results</caption>\n",
       "<tr>\n",
       "  <th>Dep. Variable:</th>       <td>Converted</td>    <th>  No. Observations:  </th>  <td>  6351</td> \n",
       "</tr>\n",
       "<tr>\n",
       "  <th>Model:</th>                  <td>GLM</td>       <th>  Df Residuals:      </th>  <td>  6333</td> \n",
       "</tr>\n",
       "<tr>\n",
       "  <th>Model Family:</th>        <td>Binomial</td>     <th>  Df Model:          </th>  <td>    17</td> \n",
       "</tr>\n",
       "<tr>\n",
       "  <th>Link Function:</th>         <td>logit</td>      <th>  Scale:             </th> <td>  1.0000</td>\n",
       "</tr>\n",
       "<tr>\n",
       "  <th>Method:</th>                <td>IRLS</td>       <th>  Log-Likelihood:    </th> <td> -2579.1</td>\n",
       "</tr>\n",
       "<tr>\n",
       "  <th>Date:</th>            <td>Sun, 07 Mar 2021</td> <th>  Deviance:          </th> <td>  5158.2</td>\n",
       "</tr>\n",
       "<tr>\n",
       "  <th>Time:</th>                <td>20:44:15</td>     <th>  Pearson chi2:      </th> <td>6.25e+03</td>\n",
       "</tr>\n",
       "<tr>\n",
       "  <th>No. Iterations:</th>          <td>7</td>        <th>                     </th>     <td> </td>   \n",
       "</tr>\n",
       "<tr>\n",
       "  <th>Covariance Type:</th>     <td>nonrobust</td>    <th>                     </th>     <td> </td>   \n",
       "</tr>\n",
       "</table>\n",
       "<table class=\"simpletable\">\n",
       "<tr>\n",
       "                            <td></td>                              <th>coef</th>     <th>std err</th>      <th>z</th>      <th>P>|z|</th>  <th>[0.025</th>    <th>0.975]</th>  \n",
       "</tr>\n",
       "<tr>\n",
       "  <th>const</th>                                                <td>   -0.9340</td> <td>    0.109</td> <td>   -8.552</td> <td> 0.000</td> <td>   -1.148</td> <td>   -0.720</td>\n",
       "</tr>\n",
       "<tr>\n",
       "  <th>Do Not Email</th>                                         <td>   -1.7891</td> <td>    0.184</td> <td>   -9.697</td> <td> 0.000</td> <td>   -2.151</td> <td>   -1.427</td>\n",
       "</tr>\n",
       "<tr>\n",
       "  <th>Total Time Spent on Website</th>                          <td>    1.1321</td> <td>    0.041</td> <td>   27.713</td> <td> 0.000</td> <td>    1.052</td> <td>    1.212</td>\n",
       "</tr>\n",
       "<tr>\n",
       "  <th>Lead Origin_Lead Add Form</th>                            <td>    2.2702</td> <td>    0.228</td> <td>    9.937</td> <td> 0.000</td> <td>    1.822</td> <td>    2.718</td>\n",
       "</tr>\n",
       "<tr>\n",
       "  <th>Last Activity_Converted to Lead</th>                      <td>   -1.2650</td> <td>    0.224</td> <td>   -5.642</td> <td> 0.000</td> <td>   -1.704</td> <td>   -0.826</td>\n",
       "</tr>\n",
       "<tr>\n",
       "  <th>Last Activity_Had a Phone Conversation</th>               <td>    2.6274</td> <td>    0.744</td> <td>    3.529</td> <td> 0.000</td> <td>    1.168</td> <td>    4.086</td>\n",
       "</tr>\n",
       "<tr>\n",
       "  <th>Last Activity_Olark Chat Conversation</th>                <td>   -1.3801</td> <td>    0.164</td> <td>   -8.410</td> <td> 0.000</td> <td>   -1.702</td> <td>   -1.058</td>\n",
       "</tr>\n",
       "<tr>\n",
       "  <th>Last Activity_SMS Sent</th>                               <td>    1.2389</td> <td>    0.076</td> <td>   16.311</td> <td> 0.000</td> <td>    1.090</td> <td>    1.388</td>\n",
       "</tr>\n",
       "<tr>\n",
       "  <th>Last Activity_Unsubscribed</th>                           <td>    1.3937</td> <td>    0.466</td> <td>    2.991</td> <td> 0.003</td> <td>    0.480</td> <td>    2.307</td>\n",
       "</tr>\n",
       "<tr>\n",
       "  <th>What is your current occupation_Other</th>                <td>    2.0117</td> <td>    0.722</td> <td>    2.788</td> <td> 0.005</td> <td>    0.597</td> <td>    3.426</td>\n",
       "</tr>\n",
       "<tr>\n",
       "  <th>What is your current occupation_Student</th>              <td>    1.3880</td> <td>    0.231</td> <td>    6.000</td> <td> 0.000</td> <td>    0.935</td> <td>    1.841</td>\n",
       "</tr>\n",
       "<tr>\n",
       "  <th>What is your current occupation_Unemployed</th>           <td>    1.2490</td> <td>    0.088</td> <td>   14.271</td> <td> 0.000</td> <td>    1.077</td> <td>    1.421</td>\n",
       "</tr>\n",
       "<tr>\n",
       "  <th>What is your current occupation_Working Professional</th> <td>    3.7472</td> <td>    0.200</td> <td>   18.771</td> <td> 0.000</td> <td>    3.356</td> <td>    4.138</td>\n",
       "</tr>\n",
       "<tr>\n",
       "  <th>Lead Source_Direct Traffic</th>                           <td>   -1.5998</td> <td>    0.119</td> <td>  -13.475</td> <td> 0.000</td> <td>   -1.833</td> <td>   -1.367</td>\n",
       "</tr>\n",
       "<tr>\n",
       "  <th>Lead Source_Google</th>                                   <td>   -1.2072</td> <td>    0.112</td> <td>  -10.736</td> <td> 0.000</td> <td>   -1.428</td> <td>   -0.987</td>\n",
       "</tr>\n",
       "<tr>\n",
       "  <th>Lead Source_Organic Search</th>                           <td>   -1.4337</td> <td>    0.136</td> <td>  -10.521</td> <td> 0.000</td> <td>   -1.701</td> <td>   -1.167</td>\n",
       "</tr>\n",
       "<tr>\n",
       "  <th>Lead Source_Referral Sites</th>                           <td>   -1.5877</td> <td>    0.359</td> <td>   -4.421</td> <td> 0.000</td> <td>   -2.292</td> <td>   -0.884</td>\n",
       "</tr>\n",
       "<tr>\n",
       "  <th>Lead Source_Welingak Website</th>                         <td>    1.9467</td> <td>    0.753</td> <td>    2.586</td> <td> 0.010</td> <td>    0.471</td> <td>    3.422</td>\n",
       "</tr>\n",
       "</table>"
      ],
      "text/plain": [
       "<class 'statsmodels.iolib.summary.Summary'>\n",
       "\"\"\"\n",
       "                 Generalized Linear Model Regression Results                  \n",
       "==============================================================================\n",
       "Dep. Variable:              Converted   No. Observations:                 6351\n",
       "Model:                            GLM   Df Residuals:                     6333\n",
       "Model Family:                Binomial   Df Model:                           17\n",
       "Link Function:                  logit   Scale:                          1.0000\n",
       "Method:                          IRLS   Log-Likelihood:                -2579.1\n",
       "Date:                Sun, 07 Mar 2021   Deviance:                       5158.2\n",
       "Time:                        20:44:15   Pearson chi2:                 6.25e+03\n",
       "No. Iterations:                     7                                         \n",
       "Covariance Type:            nonrobust                                         \n",
       "========================================================================================================================\n",
       "                                                           coef    std err          z      P>|z|      [0.025      0.975]\n",
       "------------------------------------------------------------------------------------------------------------------------\n",
       "const                                                   -0.9340      0.109     -8.552      0.000      -1.148      -0.720\n",
       "Do Not Email                                            -1.7891      0.184     -9.697      0.000      -2.151      -1.427\n",
       "Total Time Spent on Website                              1.1321      0.041     27.713      0.000       1.052       1.212\n",
       "Lead Origin_Lead Add Form                                2.2702      0.228      9.937      0.000       1.822       2.718\n",
       "Last Activity_Converted to Lead                         -1.2650      0.224     -5.642      0.000      -1.704      -0.826\n",
       "Last Activity_Had a Phone Conversation                   2.6274      0.744      3.529      0.000       1.168       4.086\n",
       "Last Activity_Olark Chat Conversation                   -1.3801      0.164     -8.410      0.000      -1.702      -1.058\n",
       "Last Activity_SMS Sent                                   1.2389      0.076     16.311      0.000       1.090       1.388\n",
       "Last Activity_Unsubscribed                               1.3937      0.466      2.991      0.003       0.480       2.307\n",
       "What is your current occupation_Other                    2.0117      0.722      2.788      0.005       0.597       3.426\n",
       "What is your current occupation_Student                  1.3880      0.231      6.000      0.000       0.935       1.841\n",
       "What is your current occupation_Unemployed               1.2490      0.088     14.271      0.000       1.077       1.421\n",
       "What is your current occupation_Working Professional     3.7472      0.200     18.771      0.000       3.356       4.138\n",
       "Lead Source_Direct Traffic                              -1.5998      0.119    -13.475      0.000      -1.833      -1.367\n",
       "Lead Source_Google                                      -1.2072      0.112    -10.736      0.000      -1.428      -0.987\n",
       "Lead Source_Organic Search                              -1.4337      0.136    -10.521      0.000      -1.701      -1.167\n",
       "Lead Source_Referral Sites                              -1.5877      0.359     -4.421      0.000      -2.292      -0.884\n",
       "Lead Source_Welingak Website                             1.9467      0.753      2.586      0.010       0.471       3.422\n",
       "========================================================================================================================\n",
       "\"\"\""
      ]
     },
     "execution_count": 911,
     "metadata": {},
     "output_type": "execute_result"
    }
   ],
   "source": [
    "X_train_sm = sm.add_constant(X_train[col])\n",
    "logm2 = sm.GLM(y_train,X_train_sm, family = sm.families.Binomial())\n",
    "res = logm2.fit()\n",
    "res.summary()"
   ]
  },
  {
   "cell_type": "code",
   "execution_count": 912,
   "metadata": {},
   "outputs": [
    {
     "data": {
      "text/plain": [
       "3009    0.062081\n",
       "1012    0.233771\n",
       "9226    0.633632\n",
       "4750    0.637725\n",
       "7987    0.903633\n",
       "          ...   \n",
       "367     0.136192\n",
       "82      0.859014\n",
       "8199    0.943643\n",
       "7077    0.308774\n",
       "5754    0.539961\n",
       "Length: 6351, dtype: float64"
      ]
     },
     "execution_count": 912,
     "metadata": {},
     "output_type": "execute_result"
    }
   ],
   "source": [
    "# Getting the predicted values on the train set\n",
    "y_train_pred = res.predict(X_train_sm)\n",
    "y_train_pred"
   ]
  },
  {
   "cell_type": "code",
   "execution_count": 913,
   "metadata": {},
   "outputs": [
    {
     "data": {
      "text/plain": [
       "array([0.06208051, 0.2337707 , 0.63363235, 0.63772532, 0.90363294,\n",
       "       0.79971942, 0.04152806, 0.92428678, 0.86030336, 0.88670762])"
      ]
     },
     "execution_count": 913,
     "metadata": {},
     "output_type": "execute_result"
    }
   ],
   "source": [
    "y_train_pred = y_train_pred.values.reshape(-1)\n",
    "y_train_pred[:10]"
   ]
  },
  {
   "cell_type": "markdown",
   "metadata": {},
   "source": [
    "#### Creating a dataframe with the actual Converted flag and the predicted probabilities"
   ]
  },
  {
   "cell_type": "code",
   "execution_count": 914,
   "metadata": {},
   "outputs": [
    {
     "data": {
      "text/html": [
       "<div>\n",
       "<style scoped>\n",
       "    .dataframe tbody tr th:only-of-type {\n",
       "        vertical-align: middle;\n",
       "    }\n",
       "\n",
       "    .dataframe tbody tr th {\n",
       "        vertical-align: top;\n",
       "    }\n",
       "\n",
       "    .dataframe thead th {\n",
       "        text-align: right;\n",
       "    }\n",
       "</style>\n",
       "<table border=\"1\" class=\"dataframe\">\n",
       "  <thead>\n",
       "    <tr style=\"text-align: right;\">\n",
       "      <th></th>\n",
       "      <th>Converted</th>\n",
       "      <th>Converted_prob</th>\n",
       "      <th>Prospect ID</th>\n",
       "    </tr>\n",
       "  </thead>\n",
       "  <tbody>\n",
       "    <tr>\n",
       "      <th>0</th>\n",
       "      <td>0</td>\n",
       "      <td>0.062081</td>\n",
       "      <td>3009</td>\n",
       "    </tr>\n",
       "    <tr>\n",
       "      <th>1</th>\n",
       "      <td>0</td>\n",
       "      <td>0.233771</td>\n",
       "      <td>1012</td>\n",
       "    </tr>\n",
       "    <tr>\n",
       "      <th>2</th>\n",
       "      <td>0</td>\n",
       "      <td>0.633632</td>\n",
       "      <td>9226</td>\n",
       "    </tr>\n",
       "    <tr>\n",
       "      <th>3</th>\n",
       "      <td>1</td>\n",
       "      <td>0.637725</td>\n",
       "      <td>4750</td>\n",
       "    </tr>\n",
       "    <tr>\n",
       "      <th>4</th>\n",
       "      <td>1</td>\n",
       "      <td>0.903633</td>\n",
       "      <td>7987</td>\n",
       "    </tr>\n",
       "  </tbody>\n",
       "</table>\n",
       "</div>"
      ],
      "text/plain": [
       "   Converted  Converted_prob  Prospect ID\n",
       "0          0        0.062081         3009\n",
       "1          0        0.233771         1012\n",
       "2          0        0.633632         9226\n",
       "3          1        0.637725         4750\n",
       "4          1        0.903633         7987"
      ]
     },
     "execution_count": 914,
     "metadata": {},
     "output_type": "execute_result"
    }
   ],
   "source": [
    "y_train_pred_final = pd.DataFrame({'Converted':y_train.values, 'Converted_prob':y_train_pred})\n",
    "y_train_pred_final['Prospect ID'] = y_train.index\n",
    "y_train_pred_final.head()\n"
   ]
  },
  {
   "cell_type": "code",
   "execution_count": 915,
   "metadata": {},
   "outputs": [
    {
     "data": {
      "text/html": [
       "<div>\n",
       "<style scoped>\n",
       "    .dataframe tbody tr th:only-of-type {\n",
       "        vertical-align: middle;\n",
       "    }\n",
       "\n",
       "    .dataframe tbody tr th {\n",
       "        vertical-align: top;\n",
       "    }\n",
       "\n",
       "    .dataframe thead th {\n",
       "        text-align: right;\n",
       "    }\n",
       "</style>\n",
       "<table border=\"1\" class=\"dataframe\">\n",
       "  <thead>\n",
       "    <tr style=\"text-align: right;\">\n",
       "      <th></th>\n",
       "      <th>Converted</th>\n",
       "      <th>Converted_prob</th>\n",
       "      <th>Prospect ID</th>\n",
       "      <th>predicted</th>\n",
       "    </tr>\n",
       "  </thead>\n",
       "  <tbody>\n",
       "    <tr>\n",
       "      <th>0</th>\n",
       "      <td>0</td>\n",
       "      <td>0.062081</td>\n",
       "      <td>3009</td>\n",
       "      <td>0</td>\n",
       "    </tr>\n",
       "    <tr>\n",
       "      <th>1</th>\n",
       "      <td>0</td>\n",
       "      <td>0.233771</td>\n",
       "      <td>1012</td>\n",
       "      <td>0</td>\n",
       "    </tr>\n",
       "    <tr>\n",
       "      <th>2</th>\n",
       "      <td>0</td>\n",
       "      <td>0.633632</td>\n",
       "      <td>9226</td>\n",
       "      <td>1</td>\n",
       "    </tr>\n",
       "    <tr>\n",
       "      <th>3</th>\n",
       "      <td>1</td>\n",
       "      <td>0.637725</td>\n",
       "      <td>4750</td>\n",
       "      <td>1</td>\n",
       "    </tr>\n",
       "    <tr>\n",
       "      <th>4</th>\n",
       "      <td>1</td>\n",
       "      <td>0.903633</td>\n",
       "      <td>7987</td>\n",
       "      <td>1</td>\n",
       "    </tr>\n",
       "  </tbody>\n",
       "</table>\n",
       "</div>"
      ],
      "text/plain": [
       "   Converted  Converted_prob  Prospect ID  predicted\n",
       "0          0        0.062081         3009          0\n",
       "1          0        0.233771         1012          0\n",
       "2          0        0.633632         9226          1\n",
       "3          1        0.637725         4750          1\n",
       "4          1        0.903633         7987          1"
      ]
     },
     "execution_count": 915,
     "metadata": {},
     "output_type": "execute_result"
    }
   ],
   "source": [
    "y_train_pred_final['predicted'] = y_train_pred_final.Converted_prob.map(lambda x: 1 if x > 0.5 else 0)\n",
    "\n",
    "# Let's see the head\n",
    "y_train_pred_final.head()"
   ]
  },
  {
   "cell_type": "code",
   "execution_count": 916,
   "metadata": {},
   "outputs": [],
   "source": [
    "from sklearn import metrics"
   ]
  },
  {
   "cell_type": "code",
   "execution_count": 917,
   "metadata": {},
   "outputs": [
    {
     "name": "stdout",
     "output_type": "stream",
     "text": [
      "[[3460  445]\n",
      " [ 735 1711]]\n"
     ]
    }
   ],
   "source": [
    "# Confusion matrix \n",
    "confusion = metrics.confusion_matrix(y_train_pred_final.Converted, y_train_pred_final.predicted )\n",
    "print(confusion)"
   ]
  },
  {
   "cell_type": "code",
   "execution_count": 918,
   "metadata": {},
   "outputs": [],
   "source": [
    "# Predicted     not_converted    converted\n",
    "# Actual\n",
    "# not_Converted        3459        446\n",
    "# converted            712        1734  "
   ]
  },
  {
   "cell_type": "code",
   "execution_count": 919,
   "metadata": {},
   "outputs": [
    {
     "name": "stdout",
     "output_type": "stream",
     "text": [
      "0.8142024877971973\n"
     ]
    }
   ],
   "source": [
    "# Let's check the overall accuracy.\n",
    "print(metrics.accuracy_score(y_train_pred_final.Converted, y_train_pred_final.predicted))"
   ]
  },
  {
   "cell_type": "markdown",
   "metadata": {},
   "source": [
    "### Checking VIFs"
   ]
  },
  {
   "cell_type": "code",
   "execution_count": 920,
   "metadata": {},
   "outputs": [],
   "source": [
    "# Check for the VIF values of the feature variables. \n",
    "from statsmodels.stats.outliers_influence import variance_inflation_factor"
   ]
  },
  {
   "cell_type": "code",
   "execution_count": 921,
   "metadata": {},
   "outputs": [
    {
     "data": {
      "text/html": [
       "<div>\n",
       "<style scoped>\n",
       "    .dataframe tbody tr th:only-of-type {\n",
       "        vertical-align: middle;\n",
       "    }\n",
       "\n",
       "    .dataframe tbody tr th {\n",
       "        vertical-align: top;\n",
       "    }\n",
       "\n",
       "    .dataframe thead th {\n",
       "        text-align: right;\n",
       "    }\n",
       "</style>\n",
       "<table border=\"1\" class=\"dataframe\">\n",
       "  <thead>\n",
       "    <tr style=\"text-align: right;\">\n",
       "      <th></th>\n",
       "      <th>Features</th>\n",
       "      <th>VIF</th>\n",
       "    </tr>\n",
       "  </thead>\n",
       "  <tbody>\n",
       "    <tr>\n",
       "      <th>10</th>\n",
       "      <td>What is your current occupation_Unemployed</td>\n",
       "      <td>2.74</td>\n",
       "    </tr>\n",
       "    <tr>\n",
       "      <th>12</th>\n",
       "      <td>Lead Source_Direct Traffic</td>\n",
       "      <td>1.86</td>\n",
       "    </tr>\n",
       "    <tr>\n",
       "      <th>13</th>\n",
       "      <td>Lead Source_Google</td>\n",
       "      <td>1.85</td>\n",
       "    </tr>\n",
       "    <tr>\n",
       "      <th>2</th>\n",
       "      <td>Lead Origin_Lead Add Form</td>\n",
       "      <td>1.74</td>\n",
       "    </tr>\n",
       "    <tr>\n",
       "      <th>6</th>\n",
       "      <td>Last Activity_SMS Sent</td>\n",
       "      <td>1.57</td>\n",
       "    </tr>\n",
       "    <tr>\n",
       "      <th>14</th>\n",
       "      <td>Lead Source_Organic Search</td>\n",
       "      <td>1.40</td>\n",
       "    </tr>\n",
       "    <tr>\n",
       "      <th>11</th>\n",
       "      <td>What is your current occupation_Working Profes...</td>\n",
       "      <td>1.35</td>\n",
       "    </tr>\n",
       "    <tr>\n",
       "      <th>16</th>\n",
       "      <td>Lead Source_Welingak Website</td>\n",
       "      <td>1.33</td>\n",
       "    </tr>\n",
       "    <tr>\n",
       "      <th>0</th>\n",
       "      <td>Do Not Email</td>\n",
       "      <td>1.20</td>\n",
       "    </tr>\n",
       "    <tr>\n",
       "      <th>1</th>\n",
       "      <td>Total Time Spent on Website</td>\n",
       "      <td>1.19</td>\n",
       "    </tr>\n",
       "    <tr>\n",
       "      <th>3</th>\n",
       "      <td>Last Activity_Converted to Lead</td>\n",
       "      <td>1.11</td>\n",
       "    </tr>\n",
       "    <tr>\n",
       "      <th>5</th>\n",
       "      <td>Last Activity_Olark Chat Conversation</td>\n",
       "      <td>1.10</td>\n",
       "    </tr>\n",
       "    <tr>\n",
       "      <th>7</th>\n",
       "      <td>Last Activity_Unsubscribed</td>\n",
       "      <td>1.08</td>\n",
       "    </tr>\n",
       "    <tr>\n",
       "      <th>9</th>\n",
       "      <td>What is your current occupation_Student</td>\n",
       "      <td>1.06</td>\n",
       "    </tr>\n",
       "    <tr>\n",
       "      <th>15</th>\n",
       "      <td>Lead Source_Referral Sites</td>\n",
       "      <td>1.03</td>\n",
       "    </tr>\n",
       "    <tr>\n",
       "      <th>4</th>\n",
       "      <td>Last Activity_Had a Phone Conversation</td>\n",
       "      <td>1.01</td>\n",
       "    </tr>\n",
       "    <tr>\n",
       "      <th>8</th>\n",
       "      <td>What is your current occupation_Other</td>\n",
       "      <td>1.01</td>\n",
       "    </tr>\n",
       "  </tbody>\n",
       "</table>\n",
       "</div>"
      ],
      "text/plain": [
       "                                             Features   VIF\n",
       "10         What is your current occupation_Unemployed  2.74\n",
       "12                         Lead Source_Direct Traffic  1.86\n",
       "13                                 Lead Source_Google  1.85\n",
       "2                           Lead Origin_Lead Add Form  1.74\n",
       "6                              Last Activity_SMS Sent  1.57\n",
       "14                         Lead Source_Organic Search  1.40\n",
       "11  What is your current occupation_Working Profes...  1.35\n",
       "16                       Lead Source_Welingak Website  1.33\n",
       "0                                        Do Not Email  1.20\n",
       "1                         Total Time Spent on Website  1.19\n",
       "3                     Last Activity_Converted to Lead  1.11\n",
       "5               Last Activity_Olark Chat Conversation  1.10\n",
       "7                          Last Activity_Unsubscribed  1.08\n",
       "9             What is your current occupation_Student  1.06\n",
       "15                         Lead Source_Referral Sites  1.03\n",
       "4              Last Activity_Had a Phone Conversation  1.01\n",
       "8               What is your current occupation_Other  1.01"
      ]
     },
     "execution_count": 921,
     "metadata": {},
     "output_type": "execute_result"
    }
   ],
   "source": [
    "# Create a dataframe that will contain the names of all the feature variables and their respective VIFs\n",
    "vif = pd.DataFrame()\n",
    "vif['Features'] = X_train[col].columns\n",
    "vif['VIF'] = [variance_inflation_factor(X_train[col].values, i) for i in range(X_train[col].shape[1])]\n",
    "vif['VIF'] = round(vif['VIF'], 2)\n",
    "vif = vif.sort_values(by = \"VIF\", ascending = False)\n",
    "vif"
   ]
  },
  {
   "cell_type": "code",
   "execution_count": 922,
   "metadata": {},
   "outputs": [
    {
     "data": {
      "text/html": [
       "<table class=\"simpletable\">\n",
       "<caption>Generalized Linear Model Regression Results</caption>\n",
       "<tr>\n",
       "  <th>Dep. Variable:</th>       <td>Converted</td>    <th>  No. Observations:  </th>  <td>  6351</td> \n",
       "</tr>\n",
       "<tr>\n",
       "  <th>Model:</th>                  <td>GLM</td>       <th>  Df Residuals:      </th>  <td>  6333</td> \n",
       "</tr>\n",
       "<tr>\n",
       "  <th>Model Family:</th>        <td>Binomial</td>     <th>  Df Model:          </th>  <td>    17</td> \n",
       "</tr>\n",
       "<tr>\n",
       "  <th>Link Function:</th>         <td>logit</td>      <th>  Scale:             </th> <td>  1.0000</td>\n",
       "</tr>\n",
       "<tr>\n",
       "  <th>Method:</th>                <td>IRLS</td>       <th>  Log-Likelihood:    </th> <td> -2579.1</td>\n",
       "</tr>\n",
       "<tr>\n",
       "  <th>Date:</th>            <td>Sun, 07 Mar 2021</td> <th>  Deviance:          </th> <td>  5158.2</td>\n",
       "</tr>\n",
       "<tr>\n",
       "  <th>Time:</th>                <td>20:44:17</td>     <th>  Pearson chi2:      </th> <td>6.25e+03</td>\n",
       "</tr>\n",
       "<tr>\n",
       "  <th>No. Iterations:</th>          <td>7</td>        <th>                     </th>     <td> </td>   \n",
       "</tr>\n",
       "<tr>\n",
       "  <th>Covariance Type:</th>     <td>nonrobust</td>    <th>                     </th>     <td> </td>   \n",
       "</tr>\n",
       "</table>\n",
       "<table class=\"simpletable\">\n",
       "<tr>\n",
       "                            <td></td>                              <th>coef</th>     <th>std err</th>      <th>z</th>      <th>P>|z|</th>  <th>[0.025</th>    <th>0.975]</th>  \n",
       "</tr>\n",
       "<tr>\n",
       "  <th>const</th>                                                <td>   -0.9340</td> <td>    0.109</td> <td>   -8.552</td> <td> 0.000</td> <td>   -1.148</td> <td>   -0.720</td>\n",
       "</tr>\n",
       "<tr>\n",
       "  <th>Do Not Email</th>                                         <td>   -1.7891</td> <td>    0.184</td> <td>   -9.697</td> <td> 0.000</td> <td>   -2.151</td> <td>   -1.427</td>\n",
       "</tr>\n",
       "<tr>\n",
       "  <th>Total Time Spent on Website</th>                          <td>    1.1321</td> <td>    0.041</td> <td>   27.713</td> <td> 0.000</td> <td>    1.052</td> <td>    1.212</td>\n",
       "</tr>\n",
       "<tr>\n",
       "  <th>Lead Origin_Lead Add Form</th>                            <td>    2.2702</td> <td>    0.228</td> <td>    9.937</td> <td> 0.000</td> <td>    1.822</td> <td>    2.718</td>\n",
       "</tr>\n",
       "<tr>\n",
       "  <th>Last Activity_Converted to Lead</th>                      <td>   -1.2650</td> <td>    0.224</td> <td>   -5.642</td> <td> 0.000</td> <td>   -1.704</td> <td>   -0.826</td>\n",
       "</tr>\n",
       "<tr>\n",
       "  <th>Last Activity_Had a Phone Conversation</th>               <td>    2.6274</td> <td>    0.744</td> <td>    3.529</td> <td> 0.000</td> <td>    1.168</td> <td>    4.086</td>\n",
       "</tr>\n",
       "<tr>\n",
       "  <th>Last Activity_Olark Chat Conversation</th>                <td>   -1.3801</td> <td>    0.164</td> <td>   -8.410</td> <td> 0.000</td> <td>   -1.702</td> <td>   -1.058</td>\n",
       "</tr>\n",
       "<tr>\n",
       "  <th>Last Activity_SMS Sent</th>                               <td>    1.2389</td> <td>    0.076</td> <td>   16.311</td> <td> 0.000</td> <td>    1.090</td> <td>    1.388</td>\n",
       "</tr>\n",
       "<tr>\n",
       "  <th>Last Activity_Unsubscribed</th>                           <td>    1.3937</td> <td>    0.466</td> <td>    2.991</td> <td> 0.003</td> <td>    0.480</td> <td>    2.307</td>\n",
       "</tr>\n",
       "<tr>\n",
       "  <th>What is your current occupation_Other</th>                <td>    2.0117</td> <td>    0.722</td> <td>    2.788</td> <td> 0.005</td> <td>    0.597</td> <td>    3.426</td>\n",
       "</tr>\n",
       "<tr>\n",
       "  <th>What is your current occupation_Student</th>              <td>    1.3880</td> <td>    0.231</td> <td>    6.000</td> <td> 0.000</td> <td>    0.935</td> <td>    1.841</td>\n",
       "</tr>\n",
       "<tr>\n",
       "  <th>What is your current occupation_Unemployed</th>           <td>    1.2490</td> <td>    0.088</td> <td>   14.271</td> <td> 0.000</td> <td>    1.077</td> <td>    1.421</td>\n",
       "</tr>\n",
       "<tr>\n",
       "  <th>What is your current occupation_Working Professional</th> <td>    3.7472</td> <td>    0.200</td> <td>   18.771</td> <td> 0.000</td> <td>    3.356</td> <td>    4.138</td>\n",
       "</tr>\n",
       "<tr>\n",
       "  <th>Lead Source_Direct Traffic</th>                           <td>   -1.5998</td> <td>    0.119</td> <td>  -13.475</td> <td> 0.000</td> <td>   -1.833</td> <td>   -1.367</td>\n",
       "</tr>\n",
       "<tr>\n",
       "  <th>Lead Source_Google</th>                                   <td>   -1.2072</td> <td>    0.112</td> <td>  -10.736</td> <td> 0.000</td> <td>   -1.428</td> <td>   -0.987</td>\n",
       "</tr>\n",
       "<tr>\n",
       "  <th>Lead Source_Organic Search</th>                           <td>   -1.4337</td> <td>    0.136</td> <td>  -10.521</td> <td> 0.000</td> <td>   -1.701</td> <td>   -1.167</td>\n",
       "</tr>\n",
       "<tr>\n",
       "  <th>Lead Source_Referral Sites</th>                           <td>   -1.5877</td> <td>    0.359</td> <td>   -4.421</td> <td> 0.000</td> <td>   -2.292</td> <td>   -0.884</td>\n",
       "</tr>\n",
       "<tr>\n",
       "  <th>Lead Source_Welingak Website</th>                         <td>    1.9467</td> <td>    0.753</td> <td>    2.586</td> <td> 0.010</td> <td>    0.471</td> <td>    3.422</td>\n",
       "</tr>\n",
       "</table>"
      ],
      "text/plain": [
       "<class 'statsmodels.iolib.summary.Summary'>\n",
       "\"\"\"\n",
       "                 Generalized Linear Model Regression Results                  \n",
       "==============================================================================\n",
       "Dep. Variable:              Converted   No. Observations:                 6351\n",
       "Model:                            GLM   Df Residuals:                     6333\n",
       "Model Family:                Binomial   Df Model:                           17\n",
       "Link Function:                  logit   Scale:                          1.0000\n",
       "Method:                          IRLS   Log-Likelihood:                -2579.1\n",
       "Date:                Sun, 07 Mar 2021   Deviance:                       5158.2\n",
       "Time:                        20:44:17   Pearson chi2:                 6.25e+03\n",
       "No. Iterations:                     7                                         \n",
       "Covariance Type:            nonrobust                                         \n",
       "========================================================================================================================\n",
       "                                                           coef    std err          z      P>|z|      [0.025      0.975]\n",
       "------------------------------------------------------------------------------------------------------------------------\n",
       "const                                                   -0.9340      0.109     -8.552      0.000      -1.148      -0.720\n",
       "Do Not Email                                            -1.7891      0.184     -9.697      0.000      -2.151      -1.427\n",
       "Total Time Spent on Website                              1.1321      0.041     27.713      0.000       1.052       1.212\n",
       "Lead Origin_Lead Add Form                                2.2702      0.228      9.937      0.000       1.822       2.718\n",
       "Last Activity_Converted to Lead                         -1.2650      0.224     -5.642      0.000      -1.704      -0.826\n",
       "Last Activity_Had a Phone Conversation                   2.6274      0.744      3.529      0.000       1.168       4.086\n",
       "Last Activity_Olark Chat Conversation                   -1.3801      0.164     -8.410      0.000      -1.702      -1.058\n",
       "Last Activity_SMS Sent                                   1.2389      0.076     16.311      0.000       1.090       1.388\n",
       "Last Activity_Unsubscribed                               1.3937      0.466      2.991      0.003       0.480       2.307\n",
       "What is your current occupation_Other                    2.0117      0.722      2.788      0.005       0.597       3.426\n",
       "What is your current occupation_Student                  1.3880      0.231      6.000      0.000       0.935       1.841\n",
       "What is your current occupation_Unemployed               1.2490      0.088     14.271      0.000       1.077       1.421\n",
       "What is your current occupation_Working Professional     3.7472      0.200     18.771      0.000       3.356       4.138\n",
       "Lead Source_Direct Traffic                              -1.5998      0.119    -13.475      0.000      -1.833      -1.367\n",
       "Lead Source_Google                                      -1.2072      0.112    -10.736      0.000      -1.428      -0.987\n",
       "Lead Source_Organic Search                              -1.4337      0.136    -10.521      0.000      -1.701      -1.167\n",
       "Lead Source_Referral Sites                              -1.5877      0.359     -4.421      0.000      -2.292      -0.884\n",
       "Lead Source_Welingak Website                             1.9467      0.753      2.586      0.010       0.471       3.422\n",
       "========================================================================================================================\n",
       "\"\"\""
      ]
     },
     "execution_count": 922,
     "metadata": {},
     "output_type": "execute_result"
    }
   ],
   "source": [
    "# Let's re-run the model using the selected variables\n",
    "X_train_sm = sm.add_constant(X_train[col])\n",
    "logm3 = sm.GLM(y_train,X_train_sm, family = sm.families.Binomial())\n",
    "res = logm3.fit()\n",
    "res.summary()"
   ]
  },
  {
   "cell_type": "code",
   "execution_count": 923,
   "metadata": {},
   "outputs": [
    {
     "data": {
      "text/plain": [
       "array([[3460,  445],\n",
       "       [ 735, 1711]], dtype=int64)"
      ]
     },
     "execution_count": 923,
     "metadata": {},
     "output_type": "execute_result"
    }
   ],
   "source": [
    "# Let's take a look at the confusion matrix again \n",
    "confusion = metrics.confusion_matrix(y_train_pred_final.Converted, y_train_pred_final.predicted )\n",
    "confusion"
   ]
  },
  {
   "cell_type": "code",
   "execution_count": 924,
   "metadata": {},
   "outputs": [
    {
     "data": {
      "text/plain": [
       "0.8142024877971973"
      ]
     },
     "execution_count": 924,
     "metadata": {},
     "output_type": "execute_result"
    }
   ],
   "source": [
    "# Let's check the overall accuracy.\n",
    "metrics.accuracy_score(y_train_pred_final.Converted, y_train_pred_final.predicted)"
   ]
  },
  {
   "cell_type": "markdown",
   "metadata": {},
   "source": [
    "## Metrics beyond simply accuracy"
   ]
  },
  {
   "cell_type": "code",
   "execution_count": 925,
   "metadata": {},
   "outputs": [],
   "source": [
    "TP = confusion[1,1] # true positive \n",
    "TN = confusion[0,0] # true negatives\n",
    "FP = confusion[0,1] # false positives\n",
    "FN = confusion[1,0] # false negatives"
   ]
  },
  {
   "cell_type": "code",
   "execution_count": 926,
   "metadata": {},
   "outputs": [
    {
     "data": {
      "text/plain": [
       "0.6995094031071136"
      ]
     },
     "execution_count": 926,
     "metadata": {},
     "output_type": "execute_result"
    }
   ],
   "source": [
    "# Let's see the sensitivity of our logistic regression model\n",
    "TP / float(TP+FN)"
   ]
  },
  {
   "cell_type": "code",
   "execution_count": 927,
   "metadata": {},
   "outputs": [
    {
     "data": {
      "text/plain": [
       "0.8860435339308579"
      ]
     },
     "execution_count": 927,
     "metadata": {},
     "output_type": "execute_result"
    }
   ],
   "source": [
    "# Let us calculate specificity\n",
    "TN / float(TN+FP)"
   ]
  },
  {
   "cell_type": "code",
   "execution_count": 928,
   "metadata": {},
   "outputs": [
    {
     "name": "stdout",
     "output_type": "stream",
     "text": [
      "0.11395646606914213\n"
     ]
    }
   ],
   "source": [
    "# Calculate false postive rate - predicting churn when customer does not have churned\n",
    "print(FP/ float(TN+FP))"
   ]
  },
  {
   "cell_type": "code",
   "execution_count": 929,
   "metadata": {},
   "outputs": [
    {
     "name": "stdout",
     "output_type": "stream",
     "text": [
      "0.7935992578849722\n"
     ]
    }
   ],
   "source": [
    "# positive predictive value \n",
    "print (TP / float(TP+FP))"
   ]
  },
  {
   "cell_type": "code",
   "execution_count": 930,
   "metadata": {},
   "outputs": [
    {
     "name": "stdout",
     "output_type": "stream",
     "text": [
      "0.8247914183551848\n"
     ]
    }
   ],
   "source": [
    "# Negative predictive value\n",
    "print (TN / float(TN+ FN))"
   ]
  },
  {
   "cell_type": "markdown",
   "metadata": {},
   "source": [
    "### Plotting the ROC Curve"
   ]
  },
  {
   "cell_type": "markdown",
   "metadata": {},
   "source": [
    "An ROC curve demonstrates several things:\n",
    "\n",
    "   - It shows the tradeoff between sensitivity and specificity (any increase in sensitivity will be accompanied by a decrease in specificity).\n",
    "   - The closer the curve follows the left-hand border and then the top border of the ROC space, the more accurate the test.\n",
    "   - The closer the curve comes to the 45-degree diagonal of the ROC space, the less accurate the test.\n"
   ]
  },
  {
   "cell_type": "code",
   "execution_count": 931,
   "metadata": {},
   "outputs": [],
   "source": [
    "def draw_roc( actual, probs ):\n",
    "    fpr, tpr, thresholds = metrics.roc_curve( actual, probs,\n",
    "                                              drop_intermediate = False )\n",
    "    auc_score = metrics.roc_auc_score( actual, probs )\n",
    "    plt.figure(figsize=(5, 5))\n",
    "    plt.plot( fpr, tpr, label='ROC curve (area = %0.2f)' % auc_score )\n",
    "    plt.plot([0, 1], [0, 1], 'k--')\n",
    "    plt.xlim([0.0, 1.0])\n",
    "    plt.ylim([0.0, 1.05])\n",
    "    plt.xlabel('False Positive Rate or [1 - True Negative Rate]')\n",
    "    plt.ylabel('True Positive Rate')\n",
    "    plt.title('Receiver operating characteristic example')\n",
    "    plt.legend(loc=\"lower right\")\n",
    "    plt.show()\n",
    "\n",
    "    return None"
   ]
  },
  {
   "cell_type": "code",
   "execution_count": 932,
   "metadata": {},
   "outputs": [],
   "source": [
    "fpr, tpr, thresholds = metrics.roc_curve( y_train_pred_final.Converted, y_train_pred_final.Converted_prob, drop_intermediate = False )"
   ]
  },
  {
   "cell_type": "code",
   "execution_count": 933,
   "metadata": {},
   "outputs": [
    {
     "data": {
      "image/png": "[encoded data removed]",
      "text/plain": [
       "<Figure size 360x360 with 1 Axes>"
      ]
     },
     "metadata": {
      "needs_background": "light"
     },
     "output_type": "display_data"
    }
   ],
   "source": [
    "draw_roc(y_train_pred_final.Converted, y_train_pred_final.Converted_prob)"
   ]
  },
  {
   "cell_type": "markdown",
   "metadata": {},
   "source": [
    "### Finding Optimal Cutoff Point"
   ]
  },
  {
   "cell_type": "markdown",
   "metadata": {},
   "source": [
    "Optimal cutoff probability is that prob where we get balanced sensitivity and specificity"
   ]
  },
  {
   "cell_type": "code",
   "execution_count": 934,
   "metadata": {},
   "outputs": [
    {
     "data": {
      "text/html": [
       "<div>\n",
       "<style scoped>\n",
       "    .dataframe tbody tr th:only-of-type {\n",
       "        vertical-align: middle;\n",
       "    }\n",
       "\n",
       "    .dataframe tbody tr th {\n",
       "        vertical-align: top;\n",
       "    }\n",
       "\n",
       "    .dataframe thead th {\n",
       "        text-align: right;\n",
       "    }\n",
       "</style>\n",
       "<table border=\"1\" class=\"dataframe\">\n",
       "  <thead>\n",
       "    <tr style=\"text-align: right;\">\n",
       "      <th></th>\n",
       "      <th>Converted</th>\n",
       "      <th>Converted_prob</th>\n",
       "      <th>Prospect ID</th>\n",
       "      <th>predicted</th>\n",
       "      <th>0.0</th>\n",
       "      <th>0.1</th>\n",
       "      <th>0.2</th>\n",
       "      <th>0.3</th>\n",
       "      <th>0.4</th>\n",
       "      <th>0.5</th>\n",
       "      <th>0.6</th>\n",
       "      <th>0.7</th>\n",
       "      <th>0.8</th>\n",
       "      <th>0.9</th>\n",
       "    </tr>\n",
       "  </thead>\n",
       "  <tbody>\n",
       "    <tr>\n",
       "      <th>0</th>\n",
       "      <td>0</td>\n",
       "      <td>0.062081</td>\n",
       "      <td>3009</td>\n",
       "      <td>0</td>\n",
       "      <td>1</td>\n",
       "      <td>0</td>\n",
       "      <td>0</td>\n",
       "      <td>0</td>\n",
       "      <td>0</td>\n",
       "      <td>0</td>\n",
       "      <td>0</td>\n",
       "      <td>0</td>\n",
       "      <td>0</td>\n",
       "      <td>0</td>\n",
       "    </tr>\n",
       "    <tr>\n",
       "      <th>1</th>\n",
       "      <td>0</td>\n",
       "      <td>0.233771</td>\n",
       "      <td>1012</td>\n",
       "      <td>0</td>\n",
       "      <td>1</td>\n",
       "      <td>1</td>\n",
       "      <td>1</td>\n",
       "      <td>0</td>\n",
       "      <td>0</td>\n",
       "      <td>0</td>\n",
       "      <td>0</td>\n",
       "      <td>0</td>\n",
       "      <td>0</td>\n",
       "      <td>0</td>\n",
       "    </tr>\n",
       "    <tr>\n",
       "      <th>2</th>\n",
       "      <td>0</td>\n",
       "      <td>0.633632</td>\n",
       "      <td>9226</td>\n",
       "      <td>1</td>\n",
       "      <td>1</td>\n",
       "      <td>1</td>\n",
       "      <td>1</td>\n",
       "      <td>1</td>\n",
       "      <td>1</td>\n",
       "      <td>1</td>\n",
       "      <td>1</td>\n",
       "      <td>0</td>\n",
       "      <td>0</td>\n",
       "      <td>0</td>\n",
       "    </tr>\n",
       "    <tr>\n",
       "      <th>3</th>\n",
       "      <td>1</td>\n",
       "      <td>0.637725</td>\n",
       "      <td>4750</td>\n",
       "      <td>1</td>\n",
       "      <td>1</td>\n",
       "      <td>1</td>\n",
       "      <td>1</td>\n",
       "      <td>1</td>\n",
       "      <td>1</td>\n",
       "      <td>1</td>\n",
       "      <td>1</td>\n",
       "      <td>0</td>\n",
       "      <td>0</td>\n",
       "      <td>0</td>\n",
       "    </tr>\n",
       "    <tr>\n",
       "      <th>4</th>\n",
       "      <td>1</td>\n",
       "      <td>0.903633</td>\n",
       "      <td>7987</td>\n",
       "      <td>1</td>\n",
       "      <td>1</td>\n",
       "      <td>1</td>\n",
       "      <td>1</td>\n",
       "      <td>1</td>\n",
       "      <td>1</td>\n",
       "      <td>1</td>\n",
       "      <td>1</td>\n",
       "      <td>1</td>\n",
       "      <td>1</td>\n",
       "      <td>1</td>\n",
       "    </tr>\n",
       "  </tbody>\n",
       "</table>\n",
       "</div>"
      ],
      "text/plain": [
       "   Converted  Converted_prob  Prospect ID  predicted  0.0  0.1  0.2  0.3  0.4  \\\n",
       "0          0        0.062081         3009          0    1    0    0    0    0   \n",
       "1          0        0.233771         1012          0    1    1    1    0    0   \n",
       "2          0        0.633632         9226          1    1    1    1    1    1   \n",
       "3          1        0.637725         4750          1    1    1    1    1    1   \n",
       "4          1        0.903633         7987          1    1    1    1    1    1   \n",
       "\n",
       "   0.5  0.6  0.7  0.8  0.9  \n",
       "0    0    0    0    0    0  \n",
       "1    0    0    0    0    0  \n",
       "2    1    1    0    0    0  \n",
       "3    1    1    0    0    0  \n",
       "4    1    1    1    1    1  "
      ]
     },
     "execution_count": 934,
     "metadata": {},
     "output_type": "execute_result"
    }
   ],
   "source": [
    "# Let's create columns with different probability cutoffs \n",
    "numbers = [float(x)/10 for x in range(10)]\n",
    "for i in numbers:\n",
    "    y_train_pred_final[i]= y_train_pred_final.Converted_prob.map(lambda x: 1 if x > i else 0)\n",
    "y_train_pred_final.head()"
   ]
  },
  {
   "cell_type": "code",
   "execution_count": 935,
   "metadata": {},
   "outputs": [
    {
     "name": "stdout",
     "output_type": "stream",
     "text": [
      "     prob  accuracy     sensi     speci\n",
      "0.0   0.0  0.385136  1.000000  0.000000\n",
      "0.1   0.1  0.610298  0.983238  0.376697\n",
      "0.2   0.2  0.764447  0.921096  0.666325\n",
      "0.3   0.3  0.790584  0.872036  0.739565\n",
      "0.4   0.4  0.811841  0.769419  0.838412\n",
      "0.5   0.5  0.814202  0.699509  0.886044\n",
      "0.6   0.6  0.807589  0.638185  0.913700\n",
      "0.7   0.7  0.781452  0.517989  0.946479\n",
      "0.8   0.8  0.760353  0.432134  0.965941\n",
      "0.9   0.9  0.713274  0.277187  0.986428\n"
     ]
    }
   ],
   "source": [
    "# Now let's calculate accuracy sensitivity and specificity for various probability cutoffs.\n",
    "cutoff_df = pd.DataFrame( columns = ['prob','accuracy','sensi','speci'])\n",
    "from sklearn.metrics import confusion_matrix\n",
    "\n",
    "# TP = confusion[1,1] # true positive \n",
    "# TN = confusion[0,0] # true negatives\n",
    "# FP = confusion[0,1] # false positives\n",
    "# FN = confusion[1,0] # false negatives\n",
    "\n",
    "num = [0.0,0.1,0.2,0.3,0.4,0.5,0.6,0.7,0.8,0.9]\n",
    "for i in num:\n",
    "    cm1 = metrics.confusion_matrix(y_train_pred_final.Converted, y_train_pred_final[i] )\n",
    "    total1=sum(sum(cm1))\n",
    "    accuracy = (cm1[0,0]+cm1[1,1])/total1\n",
    "    \n",
    "    speci = cm1[0,0]/(cm1[0,0]+cm1[0,1])\n",
    "    sensi = cm1[1,1]/(cm1[1,0]+cm1[1,1])\n",
    "    cutoff_df.loc[i] =[ i ,accuracy,sensi,speci]\n",
    "print(cutoff_df)"
   ]
  },
  {
   "cell_type": "code",
   "execution_count": 936,
   "metadata": {},
   "outputs": [
    {
     "data": {
      "image/png": "[encoded data removed]",
      "text/plain": [
       "<Figure size 432x288 with 1 Axes>"
      ]
     },
     "metadata": {
      "needs_background": "light"
     },
     "output_type": "display_data"
    }
   ],
   "source": [
    "# Let's plot accuracy sensitivity and specificity for various probabilities.\n",
    "cutoff_df.plot.line(x='prob', y=['accuracy','sensi','speci'])\n",
    "plt.show()"
   ]
  },
  {
   "cell_type": "markdown",
   "metadata": {},
   "source": [
    "From the curve above, 0.4 is the optimum point to take it as a cutoff probability"
   ]
  },
  {
   "cell_type": "code",
   "execution_count": 937,
   "metadata": {},
   "outputs": [
    {
     "data": {
      "text/html": [
       "<div>\n",
       "<style scoped>\n",
       "    .dataframe tbody tr th:only-of-type {\n",
       "        vertical-align: middle;\n",
       "    }\n",
       "\n",
       "    .dataframe tbody tr th {\n",
       "        vertical-align: top;\n",
       "    }\n",
       "\n",
       "    .dataframe thead th {\n",
       "        text-align: right;\n",
       "    }\n",
       "</style>\n",
       "<table border=\"1\" class=\"dataframe\">\n",
       "  <thead>\n",
       "    <tr style=\"text-align: right;\">\n",
       "      <th></th>\n",
       "      <th>Converted</th>\n",
       "      <th>Converted_prob</th>\n",
       "      <th>Prospect ID</th>\n",
       "      <th>predicted</th>\n",
       "      <th>0.0</th>\n",
       "      <th>0.1</th>\n",
       "      <th>0.2</th>\n",
       "      <th>0.3</th>\n",
       "      <th>0.4</th>\n",
       "      <th>0.5</th>\n",
       "      <th>0.6</th>\n",
       "      <th>0.7</th>\n",
       "      <th>0.8</th>\n",
       "      <th>0.9</th>\n",
       "      <th>final_predicted</th>\n",
       "    </tr>\n",
       "  </thead>\n",
       "  <tbody>\n",
       "    <tr>\n",
       "      <th>0</th>\n",
       "      <td>0</td>\n",
       "      <td>0.062081</td>\n",
       "      <td>3009</td>\n",
       "      <td>0</td>\n",
       "      <td>1</td>\n",
       "      <td>0</td>\n",
       "      <td>0</td>\n",
       "      <td>0</td>\n",
       "      <td>0</td>\n",
       "      <td>0</td>\n",
       "      <td>0</td>\n",
       "      <td>0</td>\n",
       "      <td>0</td>\n",
       "      <td>0</td>\n",
       "      <td>0</td>\n",
       "    </tr>\n",
       "    <tr>\n",
       "      <th>1</th>\n",
       "      <td>0</td>\n",
       "      <td>0.233771</td>\n",
       "      <td>1012</td>\n",
       "      <td>0</td>\n",
       "      <td>1</td>\n",
       "      <td>1</td>\n",
       "      <td>1</td>\n",
       "      <td>0</td>\n",
       "      <td>0</td>\n",
       "      <td>0</td>\n",
       "      <td>0</td>\n",
       "      <td>0</td>\n",
       "      <td>0</td>\n",
       "      <td>0</td>\n",
       "      <td>0</td>\n",
       "    </tr>\n",
       "    <tr>\n",
       "      <th>2</th>\n",
       "      <td>0</td>\n",
       "      <td>0.633632</td>\n",
       "      <td>9226</td>\n",
       "      <td>1</td>\n",
       "      <td>1</td>\n",
       "      <td>1</td>\n",
       "      <td>1</td>\n",
       "      <td>1</td>\n",
       "      <td>1</td>\n",
       "      <td>1</td>\n",
       "      <td>1</td>\n",
       "      <td>0</td>\n",
       "      <td>0</td>\n",
       "      <td>0</td>\n",
       "      <td>1</td>\n",
       "    </tr>\n",
       "    <tr>\n",
       "      <th>3</th>\n",
       "      <td>1</td>\n",
       "      <td>0.637725</td>\n",
       "      <td>4750</td>\n",
       "      <td>1</td>\n",
       "      <td>1</td>\n",
       "      <td>1</td>\n",
       "      <td>1</td>\n",
       "      <td>1</td>\n",
       "      <td>1</td>\n",
       "      <td>1</td>\n",
       "      <td>1</td>\n",
       "      <td>0</td>\n",
       "      <td>0</td>\n",
       "      <td>0</td>\n",
       "      <td>1</td>\n",
       "    </tr>\n",
       "    <tr>\n",
       "      <th>4</th>\n",
       "      <td>1</td>\n",
       "      <td>0.903633</td>\n",
       "      <td>7987</td>\n",
       "      <td>1</td>\n",
       "      <td>1</td>\n",
       "      <td>1</td>\n",
       "      <td>1</td>\n",
       "      <td>1</td>\n",
       "      <td>1</td>\n",
       "      <td>1</td>\n",
       "      <td>1</td>\n",
       "      <td>1</td>\n",
       "      <td>1</td>\n",
       "      <td>1</td>\n",
       "      <td>1</td>\n",
       "    </tr>\n",
       "  </tbody>\n",
       "</table>\n",
       "</div>"
      ],
      "text/plain": [
       "   Converted  Converted_prob  Prospect ID  predicted  0.0  0.1  0.2  0.3  0.4  \\\n",
       "0          0        0.062081         3009          0    1    0    0    0    0   \n",
       "1          0        0.233771         1012          0    1    1    1    0    0   \n",
       "2          0        0.633632         9226          1    1    1    1    1    1   \n",
       "3          1        0.637725         4750          1    1    1    1    1    1   \n",
       "4          1        0.903633         7987          1    1    1    1    1    1   \n",
       "\n",
       "   0.5  0.6  0.7  0.8  0.9  final_predicted  \n",
       "0    0    0    0    0    0                0  \n",
       "1    0    0    0    0    0                0  \n",
       "2    1    1    0    0    0                1  \n",
       "3    1    1    0    0    0                1  \n",
       "4    1    1    1    1    1                1  "
      ]
     },
     "execution_count": 937,
     "metadata": {},
     "output_type": "execute_result"
    }
   ],
   "source": [
    "y_train_pred_final['final_predicted'] = y_train_pred_final.Converted_prob.map( lambda x: 1 if x > 0.37 else 0)\n",
    "\n",
    "y_train_pred_final.head()"
   ]
  },
  {
   "cell_type": "code",
   "execution_count": 938,
   "metadata": {},
   "outputs": [
    {
     "data": {
      "text/plain": [
       "0.8064871673752165"
      ]
     },
     "execution_count": 938,
     "metadata": {},
     "output_type": "execute_result"
    }
   ],
   "source": [
    "# Let's check the overall accuracy.\n",
    "metrics.accuracy_score(y_train_pred_final.Converted, y_train_pred_final.final_predicted)"
   ]
  },
  {
   "cell_type": "code",
   "execution_count": 939,
   "metadata": {},
   "outputs": [
    {
     "data": {
      "text/plain": [
       "array([[3201,  704],\n",
       "       [ 525, 1921]], dtype=int64)"
      ]
     },
     "execution_count": 939,
     "metadata": {},
     "output_type": "execute_result"
    }
   ],
   "source": [
    "confusion2 = metrics.confusion_matrix(y_train_pred_final.Converted, y_train_pred_final.final_predicted )\n",
    "confusion2"
   ]
  },
  {
   "cell_type": "code",
   "execution_count": 940,
   "metadata": {},
   "outputs": [],
   "source": [
    "TP = confusion2[1,1] # true positive \n",
    "TN = confusion2[0,0] # true negatives\n",
    "FP = confusion2[0,1] # false positives\n",
    "FN = confusion2[1,0] # false negatives"
   ]
  },
  {
   "cell_type": "code",
   "execution_count": 941,
   "metadata": {},
   "outputs": [
    {
     "data": {
      "text/plain": [
       "0.7853638593622241"
      ]
     },
     "execution_count": 941,
     "metadata": {},
     "output_type": "execute_result"
    }
   ],
   "source": [
    "# Let's see the sensitivity of our logistic regression model\n",
    "TP / float(TP+FN)"
   ]
  },
  {
   "cell_type": "code",
   "execution_count": 942,
   "metadata": {},
   "outputs": [
    {
     "data": {
      "text/plain": [
       "0.819718309859155"
      ]
     },
     "execution_count": 942,
     "metadata": {},
     "output_type": "execute_result"
    }
   ],
   "source": [
    "# Let us calculate specificity\n",
    "TN / float(TN+FP)"
   ]
  },
  {
   "cell_type": "code",
   "execution_count": 943,
   "metadata": {},
   "outputs": [
    {
     "name": "stdout",
     "output_type": "stream",
     "text": [
      "0.18028169014084508\n"
     ]
    }
   ],
   "source": [
    "# Calculate false postive rate - predicting churn when customer does not have churned\n",
    "print(FP/ float(TN+FP))"
   ]
  },
  {
   "cell_type": "code",
   "execution_count": 944,
   "metadata": {},
   "outputs": [
    {
     "name": "stdout",
     "output_type": "stream",
     "text": [
      "0.7318095238095238\n"
     ]
    }
   ],
   "source": [
    "# Positive predictive value \n",
    "print (TP / float(TP+FP))"
   ]
  },
  {
   "cell_type": "code",
   "execution_count": 945,
   "metadata": {},
   "outputs": [
    {
     "name": "stdout",
     "output_type": "stream",
     "text": [
      "0.8590982286634461\n"
     ]
    }
   ],
   "source": [
    "# Negative predictive value\n",
    "print (TN / float(TN+ FN))"
   ]
  },
  {
   "cell_type": "markdown",
   "metadata": {},
   "source": [
    "### Precision and Recall"
   ]
  },
  {
   "cell_type": "code",
   "execution_count": 946,
   "metadata": {},
   "outputs": [],
   "source": [
    "#Looking at the confusion matrix again\n",
    "from sklearn.metrics import precision_score, recall_score"
   ]
  },
  {
   "cell_type": "code",
   "execution_count": 947,
   "metadata": {},
   "outputs": [
    {
     "data": {
      "text/plain": [
       "0.7935992578849722"
      ]
     },
     "execution_count": 947,
     "metadata": {},
     "output_type": "execute_result"
    }
   ],
   "source": [
    "precision_score(y_train_pred_final.Converted, y_train_pred_final.predicted)"
   ]
  },
  {
   "cell_type": "code",
   "execution_count": 948,
   "metadata": {},
   "outputs": [
    {
     "data": {
      "text/plain": [
       "0.6995094031071136"
      ]
     },
     "execution_count": 948,
     "metadata": {},
     "output_type": "execute_result"
    }
   ],
   "source": [
    "recall_score(y_train_pred_final.Converted, y_train_pred_final.predicted)"
   ]
  },
  {
   "cell_type": "markdown",
   "metadata": {},
   "source": [
    "#### Precision and recall tradeoff"
   ]
  },
  {
   "cell_type": "code",
   "execution_count": 949,
   "metadata": {},
   "outputs": [],
   "source": [
    "from sklearn.metrics import precision_recall_curve"
   ]
  },
  {
   "cell_type": "code",
   "execution_count": 950,
   "metadata": {},
   "outputs": [
    {
     "data": {
      "text/plain": [
       "(0       0\n",
       " 1       0\n",
       " 2       0\n",
       " 3       1\n",
       " 4       1\n",
       "        ..\n",
       " 6346    0\n",
       " 6347    1\n",
       " 6348    0\n",
       " 6349    0\n",
       " 6350    0\n",
       " Name: Converted, Length: 6351, dtype: int64,\n",
       " 0       0\n",
       " 1       0\n",
       " 2       1\n",
       " 3       1\n",
       " 4       1\n",
       "        ..\n",
       " 6346    0\n",
       " 6347    1\n",
       " 6348    1\n",
       " 6349    0\n",
       " 6350    1\n",
       " Name: predicted, Length: 6351, dtype: int64)"
      ]
     },
     "execution_count": 950,
     "metadata": {},
     "output_type": "execute_result"
    }
   ],
   "source": [
    "y_train_pred_final.Converted, y_train_pred_final.predicted"
   ]
  },
  {
   "cell_type": "code",
   "execution_count": 951,
   "metadata": {},
   "outputs": [],
   "source": [
    "p, r, thresholds = precision_recall_curve(y_train_pred_final.Converted, y_train_pred_final.Converted_prob)"
   ]
  },
  {
   "cell_type": "code",
   "execution_count": 952,
   "metadata": {},
   "outputs": [
    {
     "data": {
      "image/png": "[encoded data removed]",
      "text/plain": [
       "<Figure size 432x288 with 1 Axes>"
      ]
     },
     "metadata": {
      "needs_background": "light"
     },
     "output_type": "display_data"
    }
   ],
   "source": [
    "plt.plot(thresholds, p[:-1], \"g-\")\n",
    "plt.plot(thresholds, r[:-1], \"r-\")\n",
    "plt.show()"
   ]
  },
  {
   "cell_type": "code",
   "execution_count": 953,
   "metadata": {},
   "outputs": [
    {
     "data": {
      "text/html": [
       "<div>\n",
       "<style scoped>\n",
       "    .dataframe tbody tr th:only-of-type {\n",
       "        vertical-align: middle;\n",
       "    }\n",
       "\n",
       "    .dataframe tbody tr th {\n",
       "        vertical-align: top;\n",
       "    }\n",
       "\n",
       "    .dataframe thead th {\n",
       "        text-align: right;\n",
       "    }\n",
       "</style>\n",
       "<table border=\"1\" class=\"dataframe\">\n",
       "  <thead>\n",
       "    <tr style=\"text-align: right;\">\n",
       "      <th></th>\n",
       "      <th>Converted</th>\n",
       "      <th>Converted_prob</th>\n",
       "      <th>Prospect ID</th>\n",
       "      <th>predicted</th>\n",
       "      <th>0.0</th>\n",
       "      <th>0.1</th>\n",
       "      <th>0.2</th>\n",
       "      <th>0.3</th>\n",
       "      <th>0.4</th>\n",
       "      <th>0.5</th>\n",
       "      <th>0.6</th>\n",
       "      <th>0.7</th>\n",
       "      <th>0.8</th>\n",
       "      <th>0.9</th>\n",
       "      <th>final_predicted</th>\n",
       "    </tr>\n",
       "  </thead>\n",
       "  <tbody>\n",
       "    <tr>\n",
       "      <th>0</th>\n",
       "      <td>0</td>\n",
       "      <td>0.062081</td>\n",
       "      <td>3009</td>\n",
       "      <td>0</td>\n",
       "      <td>1</td>\n",
       "      <td>0</td>\n",
       "      <td>0</td>\n",
       "      <td>0</td>\n",
       "      <td>0</td>\n",
       "      <td>0</td>\n",
       "      <td>0</td>\n",
       "      <td>0</td>\n",
       "      <td>0</td>\n",
       "      <td>0</td>\n",
       "      <td>0</td>\n",
       "    </tr>\n",
       "    <tr>\n",
       "      <th>1</th>\n",
       "      <td>0</td>\n",
       "      <td>0.233771</td>\n",
       "      <td>1012</td>\n",
       "      <td>0</td>\n",
       "      <td>1</td>\n",
       "      <td>1</td>\n",
       "      <td>1</td>\n",
       "      <td>0</td>\n",
       "      <td>0</td>\n",
       "      <td>0</td>\n",
       "      <td>0</td>\n",
       "      <td>0</td>\n",
       "      <td>0</td>\n",
       "      <td>0</td>\n",
       "      <td>0</td>\n",
       "    </tr>\n",
       "    <tr>\n",
       "      <th>2</th>\n",
       "      <td>0</td>\n",
       "      <td>0.633632</td>\n",
       "      <td>9226</td>\n",
       "      <td>1</td>\n",
       "      <td>1</td>\n",
       "      <td>1</td>\n",
       "      <td>1</td>\n",
       "      <td>1</td>\n",
       "      <td>1</td>\n",
       "      <td>1</td>\n",
       "      <td>1</td>\n",
       "      <td>0</td>\n",
       "      <td>0</td>\n",
       "      <td>0</td>\n",
       "      <td>1</td>\n",
       "    </tr>\n",
       "    <tr>\n",
       "      <th>3</th>\n",
       "      <td>1</td>\n",
       "      <td>0.637725</td>\n",
       "      <td>4750</td>\n",
       "      <td>1</td>\n",
       "      <td>1</td>\n",
       "      <td>1</td>\n",
       "      <td>1</td>\n",
       "      <td>1</td>\n",
       "      <td>1</td>\n",
       "      <td>1</td>\n",
       "      <td>1</td>\n",
       "      <td>0</td>\n",
       "      <td>0</td>\n",
       "      <td>0</td>\n",
       "      <td>1</td>\n",
       "    </tr>\n",
       "    <tr>\n",
       "      <th>4</th>\n",
       "      <td>1</td>\n",
       "      <td>0.903633</td>\n",
       "      <td>7987</td>\n",
       "      <td>1</td>\n",
       "      <td>1</td>\n",
       "      <td>1</td>\n",
       "      <td>1</td>\n",
       "      <td>1</td>\n",
       "      <td>1</td>\n",
       "      <td>1</td>\n",
       "      <td>1</td>\n",
       "      <td>1</td>\n",
       "      <td>1</td>\n",
       "      <td>1</td>\n",
       "      <td>1</td>\n",
       "    </tr>\n",
       "  </tbody>\n",
       "</table>\n",
       "</div>"
      ],
      "text/plain": [
       "   Converted  Converted_prob  Prospect ID  predicted  0.0  0.1  0.2  0.3  0.4  \\\n",
       "0          0        0.062081         3009          0    1    0    0    0    0   \n",
       "1          0        0.233771         1012          0    1    1    1    0    0   \n",
       "2          0        0.633632         9226          1    1    1    1    1    1   \n",
       "3          1        0.637725         4750          1    1    1    1    1    1   \n",
       "4          1        0.903633         7987          1    1    1    1    1    1   \n",
       "\n",
       "   0.5  0.6  0.7  0.8  0.9  final_predicted  \n",
       "0    0    0    0    0    0                0  \n",
       "1    0    0    0    0    0                0  \n",
       "2    1    1    0    0    0                1  \n",
       "3    1    1    0    0    0                1  \n",
       "4    1    1    1    1    1                1  "
      ]
     },
     "execution_count": 953,
     "metadata": {},
     "output_type": "execute_result"
    }
   ],
   "source": [
    "y_train_pred_final['final_predicted'] = y_train_pred_final.Converted_prob.map( lambda x: 1 if x > 0.37 else 0)\n",
    "\n",
    "y_train_pred_final.head()"
   ]
  },
  {
   "cell_type": "code",
   "execution_count": 954,
   "metadata": {},
   "outputs": [
    {
     "data": {
      "text/plain": [
       "array([[3201,  704],\n",
       "       [ 525, 1921]], dtype=int64)"
      ]
     },
     "execution_count": 954,
     "metadata": {},
     "output_type": "execute_result"
    }
   ],
   "source": [
    "confusion2 = metrics.confusion_matrix(y_train_pred_final.Converted, y_train_pred_final.final_predicted )\n",
    "confusion2"
   ]
  },
  {
   "cell_type": "code",
   "execution_count": 955,
   "metadata": {},
   "outputs": [
    {
     "data": {
      "text/plain": [
       "0.8064871673752165"
      ]
     },
     "execution_count": 955,
     "metadata": {},
     "output_type": "execute_result"
    }
   ],
   "source": [
    "# Let's check the overall accuracy.\n",
    "metrics.accuracy_score(y_train_pred_final.Converted, y_train_pred_final.final_predicted)"
   ]
  },
  {
   "cell_type": "code",
   "execution_count": 956,
   "metadata": {},
   "outputs": [
    {
     "data": {
      "text/plain": [
       "0.7935992578849722"
      ]
     },
     "execution_count": 956,
     "metadata": {},
     "output_type": "execute_result"
    }
   ],
   "source": [
    "precision_score(y_train_pred_final.Converted, y_train_pred_final.predicted)"
   ]
  },
  {
   "cell_type": "code",
   "execution_count": 957,
   "metadata": {},
   "outputs": [
    {
     "data": {
      "text/plain": [
       "0.6995094031071136"
      ]
     },
     "execution_count": 957,
     "metadata": {},
     "output_type": "execute_result"
    }
   ],
   "source": [
    "recall_score(y_train_pred_final.Converted, y_train_pred_final.predicted)"
   ]
  },
  {
   "cell_type": "markdown",
   "metadata": {},
   "source": [
    "### Making predictions on the test set"
   ]
  },
  {
   "cell_type": "code",
   "execution_count": 958,
   "metadata": {},
   "outputs": [
    {
     "data": {
      "text/html": [
       "<div>\n",
       "<style scoped>\n",
       "    .dataframe tbody tr th:only-of-type {\n",
       "        vertical-align: middle;\n",
       "    }\n",
       "\n",
       "    .dataframe tbody tr th {\n",
       "        vertical-align: top;\n",
       "    }\n",
       "\n",
       "    .dataframe thead th {\n",
       "        text-align: right;\n",
       "    }\n",
       "</style>\n",
       "<table border=\"1\" class=\"dataframe\">\n",
       "  <thead>\n",
       "    <tr style=\"text-align: right;\">\n",
       "      <th></th>\n",
       "      <th>Do Not Email</th>\n",
       "      <th>Do Not Call</th>\n",
       "      <th>TotalVisits</th>\n",
       "      <th>Total Time Spent on Website</th>\n",
       "      <th>Page Views Per Visit</th>\n",
       "      <th>Search</th>\n",
       "      <th>Newspaper Article</th>\n",
       "      <th>X Education Forums</th>\n",
       "      <th>Newspaper</th>\n",
       "      <th>Digital Advertisement</th>\n",
       "      <th>...</th>\n",
       "      <th>Lead Source_Referral Sites</th>\n",
       "      <th>Lead Source_Social Media</th>\n",
       "      <th>Lead Source_WeLearn</th>\n",
       "      <th>Lead Source_Welingak Website</th>\n",
       "      <th>Lead Source_bing</th>\n",
       "      <th>Lead Source_blog</th>\n",
       "      <th>Lead Source_google</th>\n",
       "      <th>Lead Source_testone</th>\n",
       "      <th>Lead Source_welearnblog_Home</th>\n",
       "      <th>Lead Source_youtubechannel</th>\n",
       "    </tr>\n",
       "  </thead>\n",
       "  <tbody>\n",
       "    <tr>\n",
       "      <th>3271</th>\n",
       "      <td>0</td>\n",
       "      <td>0</td>\n",
       "      <td>0.143722</td>\n",
       "      <td>-0.591008</td>\n",
       "      <td>0.998931</td>\n",
       "      <td>0</td>\n",
       "      <td>0</td>\n",
       "      <td>0</td>\n",
       "      <td>0</td>\n",
       "      <td>0</td>\n",
       "      <td>...</td>\n",
       "      <td>0</td>\n",
       "      <td>0</td>\n",
       "      <td>0</td>\n",
       "      <td>0</td>\n",
       "      <td>0</td>\n",
       "      <td>0</td>\n",
       "      <td>0</td>\n",
       "      <td>0</td>\n",
       "      <td>0</td>\n",
       "      <td>0</td>\n",
       "    </tr>\n",
       "    <tr>\n",
       "      <th>1490</th>\n",
       "      <td>0</td>\n",
       "      <td>0</td>\n",
       "      <td>0.391416</td>\n",
       "      <td>1.894051</td>\n",
       "      <td>1.564920</td>\n",
       "      <td>0</td>\n",
       "      <td>0</td>\n",
       "      <td>0</td>\n",
       "      <td>0</td>\n",
       "      <td>0</td>\n",
       "      <td>...</td>\n",
       "      <td>0</td>\n",
       "      <td>0</td>\n",
       "      <td>0</td>\n",
       "      <td>0</td>\n",
       "      <td>0</td>\n",
       "      <td>0</td>\n",
       "      <td>0</td>\n",
       "      <td>0</td>\n",
       "      <td>0</td>\n",
       "      <td>0</td>\n",
       "    </tr>\n",
       "    <tr>\n",
       "      <th>7936</th>\n",
       "      <td>0</td>\n",
       "      <td>0</td>\n",
       "      <td>-0.351665</td>\n",
       "      <td>-0.743117</td>\n",
       "      <td>-0.133048</td>\n",
       "      <td>0</td>\n",
       "      <td>0</td>\n",
       "      <td>0</td>\n",
       "      <td>0</td>\n",
       "      <td>0</td>\n",
       "      <td>...</td>\n",
       "      <td>0</td>\n",
       "      <td>0</td>\n",
       "      <td>0</td>\n",
       "      <td>0</td>\n",
       "      <td>0</td>\n",
       "      <td>0</td>\n",
       "      <td>0</td>\n",
       "      <td>0</td>\n",
       "      <td>0</td>\n",
       "      <td>0</td>\n",
       "    </tr>\n",
       "    <tr>\n",
       "      <th>4216</th>\n",
       "      <td>0</td>\n",
       "      <td>0</td>\n",
       "      <td>-0.847051</td>\n",
       "      <td>-0.878732</td>\n",
       "      <td>-1.265027</td>\n",
       "      <td>0</td>\n",
       "      <td>0</td>\n",
       "      <td>0</td>\n",
       "      <td>0</td>\n",
       "      <td>0</td>\n",
       "      <td>...</td>\n",
       "      <td>0</td>\n",
       "      <td>0</td>\n",
       "      <td>0</td>\n",
       "      <td>0</td>\n",
       "      <td>0</td>\n",
       "      <td>0</td>\n",
       "      <td>0</td>\n",
       "      <td>0</td>\n",
       "      <td>0</td>\n",
       "      <td>0</td>\n",
       "    </tr>\n",
       "    <tr>\n",
       "      <th>3830</th>\n",
       "      <td>0</td>\n",
       "      <td>0</td>\n",
       "      <td>1.134496</td>\n",
       "      <td>-0.578179</td>\n",
       "      <td>2.130909</td>\n",
       "      <td>0</td>\n",
       "      <td>0</td>\n",
       "      <td>0</td>\n",
       "      <td>0</td>\n",
       "      <td>0</td>\n",
       "      <td>...</td>\n",
       "      <td>0</td>\n",
       "      <td>0</td>\n",
       "      <td>0</td>\n",
       "      <td>0</td>\n",
       "      <td>0</td>\n",
       "      <td>0</td>\n",
       "      <td>0</td>\n",
       "      <td>0</td>\n",
       "      <td>0</td>\n",
       "      <td>0</td>\n",
       "    </tr>\n",
       "  </tbody>\n",
       "</table>\n",
       "<p>5 rows × 68 columns</p>\n",
       "</div>"
      ],
      "text/plain": [
       "      Do Not Email  Do Not Call  TotalVisits  Total Time Spent on Website  \\\n",
       "3271             0            0     0.143722                    -0.591008   \n",
       "1490             0            0     0.391416                     1.894051   \n",
       "7936             0            0    -0.351665                    -0.743117   \n",
       "4216             0            0    -0.847051                    -0.878732   \n",
       "3830             0            0     1.134496                    -0.578179   \n",
       "\n",
       "      Page Views Per Visit  Search  Newspaper Article  X Education Forums  \\\n",
       "3271              0.998931       0                  0                   0   \n",
       "1490              1.564920       0                  0                   0   \n",
       "7936             -0.133048       0                  0                   0   \n",
       "4216             -1.265027       0                  0                   0   \n",
       "3830              2.130909       0                  0                   0   \n",
       "\n",
       "      Newspaper  Digital Advertisement  ...  Lead Source_Referral Sites  \\\n",
       "3271          0                      0  ...                           0   \n",
       "1490          0                      0  ...                           0   \n",
       "7936          0                      0  ...                           0   \n",
       "4216          0                      0  ...                           0   \n",
       "3830          0                      0  ...                           0   \n",
       "\n",
       "      Lead Source_Social Media  Lead Source_WeLearn  \\\n",
       "3271                         0                    0   \n",
       "1490                         0                    0   \n",
       "7936                         0                    0   \n",
       "4216                         0                    0   \n",
       "3830                         0                    0   \n",
       "\n",
       "      Lead Source_Welingak Website  Lead Source_bing  Lead Source_blog  \\\n",
       "3271                             0                 0                 0   \n",
       "1490                             0                 0                 0   \n",
       "7936                             0                 0                 0   \n",
       "4216                             0                 0                 0   \n",
       "3830                             0                 0                 0   \n",
       "\n",
       "      Lead Source_google  Lead Source_testone  Lead Source_welearnblog_Home  \\\n",
       "3271                   0                    0                             0   \n",
       "1490                   0                    0                             0   \n",
       "7936                   0                    0                             0   \n",
       "4216                   0                    0                             0   \n",
       "3830                   0                    0                             0   \n",
       "\n",
       "      Lead Source_youtubechannel  \n",
       "3271                           0  \n",
       "1490                           0  \n",
       "7936                           0  \n",
       "4216                           0  \n",
       "3830                           0  \n",
       "\n",
       "[5 rows x 68 columns]"
      ]
     },
     "execution_count": 958,
     "metadata": {},
     "output_type": "execute_result"
    }
   ],
   "source": [
    "X_test[['TotalVisits','Total Time Spent on Website','Page Views Per Visit']] = scaler.fit_transform(X_test[['TotalVisits','Total Time Spent on Website','Page Views Per Visit']])\n",
    "\n",
    "X_test.head()"
   ]
  },
  {
   "cell_type": "code",
   "execution_count": 959,
   "metadata": {},
   "outputs": [
    {
     "data": {
      "text/html": [
       "<div>\n",
       "<style scoped>\n",
       "    .dataframe tbody tr th:only-of-type {\n",
       "        vertical-align: middle;\n",
       "    }\n",
       "\n",
       "    .dataframe tbody tr th {\n",
       "        vertical-align: top;\n",
       "    }\n",
       "\n",
       "    .dataframe thead th {\n",
       "        text-align: right;\n",
       "    }\n",
       "</style>\n",
       "<table border=\"1\" class=\"dataframe\">\n",
       "  <thead>\n",
       "    <tr style=\"text-align: right;\">\n",
       "      <th></th>\n",
       "      <th>Do Not Email</th>\n",
       "      <th>Total Time Spent on Website</th>\n",
       "      <th>Lead Origin_Lead Add Form</th>\n",
       "      <th>Last Activity_Converted to Lead</th>\n",
       "      <th>Last Activity_Had a Phone Conversation</th>\n",
       "      <th>Last Activity_Olark Chat Conversation</th>\n",
       "      <th>Last Activity_SMS Sent</th>\n",
       "      <th>Last Activity_Unsubscribed</th>\n",
       "      <th>What is your current occupation_Other</th>\n",
       "      <th>What is your current occupation_Student</th>\n",
       "      <th>What is your current occupation_Unemployed</th>\n",
       "      <th>What is your current occupation_Working Professional</th>\n",
       "      <th>Lead Source_Direct Traffic</th>\n",
       "      <th>Lead Source_Google</th>\n",
       "      <th>Lead Source_Organic Search</th>\n",
       "      <th>Lead Source_Referral Sites</th>\n",
       "      <th>Lead Source_Welingak Website</th>\n",
       "    </tr>\n",
       "  </thead>\n",
       "  <tbody>\n",
       "    <tr>\n",
       "      <th>3271</th>\n",
       "      <td>0</td>\n",
       "      <td>-0.591008</td>\n",
       "      <td>0</td>\n",
       "      <td>0</td>\n",
       "      <td>0</td>\n",
       "      <td>0</td>\n",
       "      <td>0</td>\n",
       "      <td>0</td>\n",
       "      <td>0</td>\n",
       "      <td>0</td>\n",
       "      <td>0</td>\n",
       "      <td>0</td>\n",
       "      <td>0</td>\n",
       "      <td>1</td>\n",
       "      <td>0</td>\n",
       "      <td>0</td>\n",
       "      <td>0</td>\n",
       "    </tr>\n",
       "    <tr>\n",
       "      <th>1490</th>\n",
       "      <td>0</td>\n",
       "      <td>1.894051</td>\n",
       "      <td>0</td>\n",
       "      <td>0</td>\n",
       "      <td>0</td>\n",
       "      <td>0</td>\n",
       "      <td>0</td>\n",
       "      <td>0</td>\n",
       "      <td>0</td>\n",
       "      <td>0</td>\n",
       "      <td>0</td>\n",
       "      <td>1</td>\n",
       "      <td>1</td>\n",
       "      <td>0</td>\n",
       "      <td>0</td>\n",
       "      <td>0</td>\n",
       "      <td>0</td>\n",
       "    </tr>\n",
       "    <tr>\n",
       "      <th>7936</th>\n",
       "      <td>0</td>\n",
       "      <td>-0.743117</td>\n",
       "      <td>0</td>\n",
       "      <td>0</td>\n",
       "      <td>0</td>\n",
       "      <td>0</td>\n",
       "      <td>0</td>\n",
       "      <td>0</td>\n",
       "      <td>0</td>\n",
       "      <td>0</td>\n",
       "      <td>0</td>\n",
       "      <td>0</td>\n",
       "      <td>0</td>\n",
       "      <td>1</td>\n",
       "      <td>0</td>\n",
       "      <td>0</td>\n",
       "      <td>0</td>\n",
       "    </tr>\n",
       "    <tr>\n",
       "      <th>4216</th>\n",
       "      <td>0</td>\n",
       "      <td>-0.878732</td>\n",
       "      <td>1</td>\n",
       "      <td>0</td>\n",
       "      <td>0</td>\n",
       "      <td>0</td>\n",
       "      <td>0</td>\n",
       "      <td>0</td>\n",
       "      <td>0</td>\n",
       "      <td>1</td>\n",
       "      <td>0</td>\n",
       "      <td>0</td>\n",
       "      <td>0</td>\n",
       "      <td>0</td>\n",
       "      <td>0</td>\n",
       "      <td>0</td>\n",
       "      <td>0</td>\n",
       "    </tr>\n",
       "    <tr>\n",
       "      <th>3830</th>\n",
       "      <td>0</td>\n",
       "      <td>-0.578179</td>\n",
       "      <td>0</td>\n",
       "      <td>0</td>\n",
       "      <td>0</td>\n",
       "      <td>0</td>\n",
       "      <td>0</td>\n",
       "      <td>0</td>\n",
       "      <td>0</td>\n",
       "      <td>0</td>\n",
       "      <td>0</td>\n",
       "      <td>0</td>\n",
       "      <td>0</td>\n",
       "      <td>0</td>\n",
       "      <td>1</td>\n",
       "      <td>0</td>\n",
       "      <td>0</td>\n",
       "    </tr>\n",
       "  </tbody>\n",
       "</table>\n",
       "</div>"
      ],
      "text/plain": [
       "      Do Not Email  Total Time Spent on Website  Lead Origin_Lead Add Form  \\\n",
       "3271             0                    -0.591008                          0   \n",
       "1490             0                     1.894051                          0   \n",
       "7936             0                    -0.743117                          0   \n",
       "4216             0                    -0.878732                          1   \n",
       "3830             0                    -0.578179                          0   \n",
       "\n",
       "      Last Activity_Converted to Lead  Last Activity_Had a Phone Conversation  \\\n",
       "3271                                0                                       0   \n",
       "1490                                0                                       0   \n",
       "7936                                0                                       0   \n",
       "4216                                0                                       0   \n",
       "3830                                0                                       0   \n",
       "\n",
       "      Last Activity_Olark Chat Conversation  Last Activity_SMS Sent  \\\n",
       "3271                                      0                       0   \n",
       "1490                                      0                       0   \n",
       "7936                                      0                       0   \n",
       "4216                                      0                       0   \n",
       "3830                                      0                       0   \n",
       "\n",
       "      Last Activity_Unsubscribed  What is your current occupation_Other  \\\n",
       "3271                           0                                      0   \n",
       "1490                           0                                      0   \n",
       "7936                           0                                      0   \n",
       "4216                           0                                      0   \n",
       "3830                           0                                      0   \n",
       "\n",
       "      What is your current occupation_Student  \\\n",
       "3271                                        0   \n",
       "1490                                        0   \n",
       "7936                                        0   \n",
       "4216                                        1   \n",
       "3830                                        0   \n",
       "\n",
       "      What is your current occupation_Unemployed  \\\n",
       "3271                                           0   \n",
       "1490                                           0   \n",
       "7936                                           0   \n",
       "4216                                           0   \n",
       "3830                                           0   \n",
       "\n",
       "      What is your current occupation_Working Professional  \\\n",
       "3271                                                  0      \n",
       "1490                                                  1      \n",
       "7936                                                  0      \n",
       "4216                                                  0      \n",
       "3830                                                  0      \n",
       "\n",
       "      Lead Source_Direct Traffic  Lead Source_Google  \\\n",
       "3271                           0                   1   \n",
       "1490                           1                   0   \n",
       "7936                           0                   1   \n",
       "4216                           0                   0   \n",
       "3830                           0                   0   \n",
       "\n",
       "      Lead Source_Organic Search  Lead Source_Referral Sites  \\\n",
       "3271                           0                           0   \n",
       "1490                           0                           0   \n",
       "7936                           0                           0   \n",
       "4216                           0                           0   \n",
       "3830                           1                           0   \n",
       "\n",
       "      Lead Source_Welingak Website  \n",
       "3271                             0  \n",
       "1490                             0  \n",
       "7936                             0  \n",
       "4216                             0  \n",
       "3830                             0  "
      ]
     },
     "execution_count": 959,
     "metadata": {},
     "output_type": "execute_result"
    }
   ],
   "source": [
    "X_test = X_test[col]\n",
    "X_test.head()"
   ]
  },
  {
   "cell_type": "code",
   "execution_count": 960,
   "metadata": {},
   "outputs": [],
   "source": [
    "X_test_sm = sm.add_constant(X_test)"
   ]
  },
  {
   "cell_type": "markdown",
   "metadata": {},
   "source": [
    "##### Making predictions on the test set"
   ]
  },
  {
   "cell_type": "code",
   "execution_count": 961,
   "metadata": {},
   "outputs": [],
   "source": [
    "y_test_pred = res.predict(X_test_sm)"
   ]
  },
  {
   "cell_type": "code",
   "execution_count": 962,
   "metadata": {},
   "outputs": [
    {
     "data": {
      "text/plain": [
       "3271    0.056770\n",
       "1490    0.966356\n",
       "7936    0.048222\n",
       "4216    0.849336\n",
       "3830    0.046431\n",
       "1800    0.683260\n",
       "6507    0.405998\n",
       "4821    0.296374\n",
       "4223    0.944238\n",
       "4714    0.334045\n",
       "dtype: float64"
      ]
     },
     "execution_count": 962,
     "metadata": {},
     "output_type": "execute_result"
    }
   ],
   "source": [
    "y_test_pred[:10]"
   ]
  },
  {
   "cell_type": "code",
   "execution_count": 963,
   "metadata": {},
   "outputs": [],
   "source": [
    "# Converting y_pred to a dataframe which is an array\n",
    "y_pred_1 = pd.DataFrame(y_test_pred)"
   ]
  },
  {
   "cell_type": "code",
   "execution_count": 964,
   "metadata": {},
   "outputs": [
    {
     "data": {
      "text/html": [
       "<div>\n",
       "<style scoped>\n",
       "    .dataframe tbody tr th:only-of-type {\n",
       "        vertical-align: middle;\n",
       "    }\n",
       "\n",
       "    .dataframe tbody tr th {\n",
       "        vertical-align: top;\n",
       "    }\n",
       "\n",
       "    .dataframe thead th {\n",
       "        text-align: right;\n",
       "    }\n",
       "</style>\n",
       "<table border=\"1\" class=\"dataframe\">\n",
       "  <thead>\n",
       "    <tr style=\"text-align: right;\">\n",
       "      <th></th>\n",
       "      <th>0</th>\n",
       "    </tr>\n",
       "  </thead>\n",
       "  <tbody>\n",
       "    <tr>\n",
       "      <th>3271</th>\n",
       "      <td>0.056770</td>\n",
       "    </tr>\n",
       "    <tr>\n",
       "      <th>1490</th>\n",
       "      <td>0.966356</td>\n",
       "    </tr>\n",
       "    <tr>\n",
       "      <th>7936</th>\n",
       "      <td>0.048222</td>\n",
       "    </tr>\n",
       "    <tr>\n",
       "      <th>4216</th>\n",
       "      <td>0.849336</td>\n",
       "    </tr>\n",
       "    <tr>\n",
       "      <th>3830</th>\n",
       "      <td>0.046431</td>\n",
       "    </tr>\n",
       "  </tbody>\n",
       "</table>\n",
       "</div>"
      ],
      "text/plain": [
       "             0\n",
       "3271  0.056770\n",
       "1490  0.966356\n",
       "7936  0.048222\n",
       "4216  0.849336\n",
       "3830  0.046431"
      ]
     },
     "execution_count": 964,
     "metadata": {},
     "output_type": "execute_result"
    }
   ],
   "source": [
    "# Let's see the head\n",
    "y_pred_1.head()"
   ]
  },
  {
   "cell_type": "code",
   "execution_count": 965,
   "metadata": {},
   "outputs": [],
   "source": [
    "# Converting y_test to dataframe\n",
    "y_test_df = pd.DataFrame(y_test)"
   ]
  },
  {
   "cell_type": "code",
   "execution_count": 966,
   "metadata": {},
   "outputs": [],
   "source": [
    "# Putting CustID to index\n",
    "y_test_df['Prospect ID'] = y_test_df.index"
   ]
  },
  {
   "cell_type": "code",
   "execution_count": 967,
   "metadata": {},
   "outputs": [],
   "source": [
    "# Removing index for both dataframes to append them side by side \n",
    "y_pred_1.reset_index(drop=True, inplace=True)\n",
    "y_test_df.reset_index(drop=True, inplace=True)"
   ]
  },
  {
   "cell_type": "code",
   "execution_count": 968,
   "metadata": {},
   "outputs": [],
   "source": [
    "# Appending y_test_df and y_pred_1\n",
    "y_pred_final = pd.concat([y_test_df, y_pred_1],axis=1)"
   ]
  },
  {
   "cell_type": "code",
   "execution_count": 969,
   "metadata": {},
   "outputs": [
    {
     "data": {
      "text/html": [
       "<div>\n",
       "<style scoped>\n",
       "    .dataframe tbody tr th:only-of-type {\n",
       "        vertical-align: middle;\n",
       "    }\n",
       "\n",
       "    .dataframe tbody tr th {\n",
       "        vertical-align: top;\n",
       "    }\n",
       "\n",
       "    .dataframe thead th {\n",
       "        text-align: right;\n",
       "    }\n",
       "</style>\n",
       "<table border=\"1\" class=\"dataframe\">\n",
       "  <thead>\n",
       "    <tr style=\"text-align: right;\">\n",
       "      <th></th>\n",
       "      <th>Converted</th>\n",
       "      <th>Prospect ID</th>\n",
       "      <th>0</th>\n",
       "    </tr>\n",
       "  </thead>\n",
       "  <tbody>\n",
       "    <tr>\n",
       "      <th>0</th>\n",
       "      <td>0</td>\n",
       "      <td>3271</td>\n",
       "      <td>0.056770</td>\n",
       "    </tr>\n",
       "    <tr>\n",
       "      <th>1</th>\n",
       "      <td>1</td>\n",
       "      <td>1490</td>\n",
       "      <td>0.966356</td>\n",
       "    </tr>\n",
       "    <tr>\n",
       "      <th>2</th>\n",
       "      <td>0</td>\n",
       "      <td>7936</td>\n",
       "      <td>0.048222</td>\n",
       "    </tr>\n",
       "    <tr>\n",
       "      <th>3</th>\n",
       "      <td>1</td>\n",
       "      <td>4216</td>\n",
       "      <td>0.849336</td>\n",
       "    </tr>\n",
       "    <tr>\n",
       "      <th>4</th>\n",
       "      <td>0</td>\n",
       "      <td>3830</td>\n",
       "      <td>0.046431</td>\n",
       "    </tr>\n",
       "  </tbody>\n",
       "</table>\n",
       "</div>"
      ],
      "text/plain": [
       "   Converted  Prospect ID         0\n",
       "0          0         3271  0.056770\n",
       "1          1         1490  0.966356\n",
       "2          0         7936  0.048222\n",
       "3          1         4216  0.849336\n",
       "4          0         3830  0.046431"
      ]
     },
     "execution_count": 969,
     "metadata": {},
     "output_type": "execute_result"
    }
   ],
   "source": [
    "y_pred_final.head()"
   ]
  },
  {
   "cell_type": "code",
   "execution_count": 970,
   "metadata": {},
   "outputs": [],
   "source": [
    "# Renaming the column \n",
    "y_pred_final= y_pred_final.rename(columns={ 0 : 'Converted_prob'})"
   ]
  },
  {
   "cell_type": "code",
   "execution_count": 971,
   "metadata": {},
   "outputs": [],
   "source": [
    "# Rearranging the columns\n",
    "y_pred_final = y_pred_final.reindex(['Prospect ID','Converted','Converted_prob'], axis=1)"
   ]
  },
  {
   "cell_type": "code",
   "execution_count": 972,
   "metadata": {},
   "outputs": [
    {
     "data": {
      "text/html": [
       "<div>\n",
       "<style scoped>\n",
       "    .dataframe tbody tr th:only-of-type {\n",
       "        vertical-align: middle;\n",
       "    }\n",
       "\n",
       "    .dataframe tbody tr th {\n",
       "        vertical-align: top;\n",
       "    }\n",
       "\n",
       "    .dataframe thead th {\n",
       "        text-align: right;\n",
       "    }\n",
       "</style>\n",
       "<table border=\"1\" class=\"dataframe\">\n",
       "  <thead>\n",
       "    <tr style=\"text-align: right;\">\n",
       "      <th></th>\n",
       "      <th>Prospect ID</th>\n",
       "      <th>Converted</th>\n",
       "      <th>Converted_prob</th>\n",
       "    </tr>\n",
       "  </thead>\n",
       "  <tbody>\n",
       "    <tr>\n",
       "      <th>0</th>\n",
       "      <td>3271</td>\n",
       "      <td>0</td>\n",
       "      <td>0.056770</td>\n",
       "    </tr>\n",
       "    <tr>\n",
       "      <th>1</th>\n",
       "      <td>1490</td>\n",
       "      <td>1</td>\n",
       "      <td>0.966356</td>\n",
       "    </tr>\n",
       "    <tr>\n",
       "      <th>2</th>\n",
       "      <td>7936</td>\n",
       "      <td>0</td>\n",
       "      <td>0.048222</td>\n",
       "    </tr>\n",
       "    <tr>\n",
       "      <th>3</th>\n",
       "      <td>4216</td>\n",
       "      <td>1</td>\n",
       "      <td>0.849336</td>\n",
       "    </tr>\n",
       "    <tr>\n",
       "      <th>4</th>\n",
       "      <td>3830</td>\n",
       "      <td>0</td>\n",
       "      <td>0.046431</td>\n",
       "    </tr>\n",
       "  </tbody>\n",
       "</table>\n",
       "</div>"
      ],
      "text/plain": [
       "   Prospect ID  Converted  Converted_prob\n",
       "0         3271          0        0.056770\n",
       "1         1490          1        0.966356\n",
       "2         7936          0        0.048222\n",
       "3         4216          1        0.849336\n",
       "4         3830          0        0.046431"
      ]
     },
     "execution_count": 972,
     "metadata": {},
     "output_type": "execute_result"
    }
   ],
   "source": [
    "# Let's see the head of y_pred_final\n",
    "y_pred_final.head()"
   ]
  },
  {
   "cell_type": "code",
   "execution_count": 980,
   "metadata": {},
   "outputs": [],
   "source": [
    "y_pred_final['final_predicted'] = y_pred_final.Converted_prob.map(lambda x: 1 if x > 0.37 else 0)"
   ]
  },
  {
   "cell_type": "code",
   "execution_count": 981,
   "metadata": {},
   "outputs": [
    {
     "data": {
      "text/html": [
       "<div>\n",
       "<style scoped>\n",
       "    .dataframe tbody tr th:only-of-type {\n",
       "        vertical-align: middle;\n",
       "    }\n",
       "\n",
       "    .dataframe tbody tr th {\n",
       "        vertical-align: top;\n",
       "    }\n",
       "\n",
       "    .dataframe thead th {\n",
       "        text-align: right;\n",
       "    }\n",
       "</style>\n",
       "<table border=\"1\" class=\"dataframe\">\n",
       "  <thead>\n",
       "    <tr style=\"text-align: right;\">\n",
       "      <th></th>\n",
       "      <th>Prospect ID</th>\n",
       "      <th>Converted</th>\n",
       "      <th>Converted_prob</th>\n",
       "      <th>final_predicted</th>\n",
       "    </tr>\n",
       "  </thead>\n",
       "  <tbody>\n",
       "    <tr>\n",
       "      <th>0</th>\n",
       "      <td>3271</td>\n",
       "      <td>0</td>\n",
       "      <td>0.056770</td>\n",
       "      <td>0</td>\n",
       "    </tr>\n",
       "    <tr>\n",
       "      <th>1</th>\n",
       "      <td>1490</td>\n",
       "      <td>1</td>\n",
       "      <td>0.966356</td>\n",
       "      <td>1</td>\n",
       "    </tr>\n",
       "    <tr>\n",
       "      <th>2</th>\n",
       "      <td>7936</td>\n",
       "      <td>0</td>\n",
       "      <td>0.048222</td>\n",
       "      <td>0</td>\n",
       "    </tr>\n",
       "    <tr>\n",
       "      <th>3</th>\n",
       "      <td>4216</td>\n",
       "      <td>1</td>\n",
       "      <td>0.849336</td>\n",
       "      <td>1</td>\n",
       "    </tr>\n",
       "    <tr>\n",
       "      <th>4</th>\n",
       "      <td>3830</td>\n",
       "      <td>0</td>\n",
       "      <td>0.046431</td>\n",
       "      <td>0</td>\n",
       "    </tr>\n",
       "  </tbody>\n",
       "</table>\n",
       "</div>"
      ],
      "text/plain": [
       "   Prospect ID  Converted  Converted_prob  final_predicted\n",
       "0         3271          0        0.056770                0\n",
       "1         1490          1        0.966356                1\n",
       "2         7936          0        0.048222                0\n",
       "3         4216          1        0.849336                1\n",
       "4         3830          0        0.046431                0"
      ]
     },
     "execution_count": 981,
     "metadata": {},
     "output_type": "execute_result"
    }
   ],
   "source": [
    "y_pred_final.head()"
   ]
  },
  {
   "cell_type": "code",
   "execution_count": 982,
   "metadata": {},
   "outputs": [
    {
     "data": {
      "text/plain": [
       "0.8094013955196474"
      ]
     },
     "execution_count": 982,
     "metadata": {},
     "output_type": "execute_result"
    }
   ],
   "source": [
    "metrics.accuracy_score(y_pred_final.Converted, y_pred_final.final_predicted)"
   ]
  },
  {
   "cell_type": "code",
   "execution_count": 983,
   "metadata": {},
   "outputs": [
    {
     "data": {
      "text/plain": [
       "array([[1431,  303],\n",
       "       [ 216,  773]], dtype=int64)"
      ]
     },
     "execution_count": 983,
     "metadata": {},
     "output_type": "execute_result"
    }
   ],
   "source": [
    "confusion2 = metrics.confusion_matrix(y_pred_final.Converted, y_pred_final.final_predicted )\n",
    "confusion2"
   ]
  },
  {
   "cell_type": "code",
   "execution_count": 977,
   "metadata": {},
   "outputs": [],
   "source": [
    "TP = confusion2[1,1] # true positive \n",
    "TN = confusion2[0,0] # true negatives\n",
    "FP = confusion2[0,1] # false positives\n",
    "FN = confusion2[1,0] # false negatives"
   ]
  },
  {
   "cell_type": "code",
   "execution_count": 984,
   "metadata": {},
   "outputs": [
    {
     "data": {
      "text/plain": [
       "0.756319514661274"
      ]
     },
     "execution_count": 984,
     "metadata": {},
     "output_type": "execute_result"
    }
   ],
   "source": [
    "# Let's see the sensitivity of our logistic regression model\n",
    "TP / float(TP+FN)"
   ]
  },
  {
   "cell_type": "code",
   "execution_count": 985,
   "metadata": {},
   "outputs": [
    {
     "data": {
      "text/plain": [
       "0.845444059976932"
      ]
     },
     "execution_count": 985,
     "metadata": {},
     "output_type": "execute_result"
    }
   ],
   "source": [
    "# Let us calculate specificity\n",
    "TN / float(TN+FP)"
   ]
  },
  {
   "cell_type": "code",
   "execution_count": 990,
   "metadata": {},
   "outputs": [
    {
     "data": {
      "text/plain": [
       "0.7184014869888475"
      ]
     },
     "execution_count": 990,
     "metadata": {},
     "output_type": "execute_result"
    }
   ],
   "source": [
    "precision_score(y_pred_final.Converted, y_pred_final.final_predicted)"
   ]
  },
  {
   "cell_type": "code",
   "execution_count": 991,
   "metadata": {},
   "outputs": [
    {
     "data": {
      "text/plain": [
       "0.78159757330637"
      ]
     },
     "execution_count": 991,
     "metadata": {},
     "output_type": "execute_result"
    }
   ],
   "source": [
    "recall_score(y_pred_final.Converted, y_pred_final.final_predicted)"
   ]
  }
 ],
 "metadata": {
  "kernelspec": {
   "display_name": "Python 3",
   "language": "python",
   "name": "python3"
  },
  "language_info": {
   "codemirror_mode": {
    "name": "ipython",
    "version": 3
   },
   "file_extension": ".py",
   "mimetype": "text/x-python",
   "name": "python",
   "nbconvert_exporter": "python",
   "pygments_lexer": "ipython3",
   "version": "3.8.3"
  }
 },
 "nbformat": 4,
 "nbformat_minor": 4
}
